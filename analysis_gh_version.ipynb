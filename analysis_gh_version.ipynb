{
 "cells": [
  {
   "cell_type": "markdown",
   "metadata": {},
   "source": [
    "# Setup"
   ]
  },
  {
   "cell_type": "markdown",
   "metadata": {},
   "source": [
    "## Requirements\n",
    "\n",
    "Run this code in your terminal : `pip install -r requirements.txt`"
   ]
  },
  {
   "cell_type": "markdown",
   "metadata": {},
   "source": [
    "## Datafiles\n",
    "\n",
    "The Olympic dataset is pulled from Kaggle at the following URL: [https://www.kaggle.com/datasets/josephcheng123456/olympic-historical-dataset-from-olympediaorg](https://www.kaggle.com/datasets/josephcheng123456/olympic-historical-dataset-from-olympediaorg). You can also download it [from Github here](https://github.com/josephwccheng/olympedia_web_scraping/tree/main/data) - prefer the data from the folder named \"cleaned_data\".\n",
    "\n",
    "This dataset was built by scraping the [Olympedia](https://www.olympedia.org/) website, which contains extensive data from the 1896 Athens Summer Olympics to the Beijing 2022 Winter Olympics. The data used to create the website is the product of years of work by a group of dedicated Olympic historians and statisticians.\n",
    "\n",
    "The dataset contains the following files:\n",
    "\n",
    "- Olympic_Athlete_Event_Results: Connects athletes to the events they competed in and their finishing positions.\n",
    "- Olympic_Athlete_Bio: Details of athletes including date of birth, height, weight, and descriptions.\n",
    "- Olympic_Results: In-depth details of the Olympic events.\n",
    "- Olympic_Games_Medal_Tally : Yearly number of medals collected by each country\n",
    "- Olympic_Games: List of all the Olympics, including the year and location.\n",
    "\n",
    "This data is downloaded and stored in the `data/gh_olympic_data` directory.\n",
    "\n",
    "**In addition to the Olympedia dataset**, I also used other external sources of data:\n",
    "\n",
    "- Paralympics_Medal_Athlete: Paralympic data about athletes who won medals - this was supplied to us by the competition organizers. \n",
    "- Olympic_Country: List of all countries that have participated in the Olympics.\n",
    "\n",
    "- I edited the original Olympedia scraping script to collect additional information about the yearly number of participants and disciplines included in each game. The script can be found [here](https://github.com/josephwccheng/olympedia_web_scraping).\n",
    "\n",
    "- World Bank World Development Indicators: Main development indicators extracted directly from the World Bank Database. The dataset can be found [here](https://www.kaggle.com/datasets/nicolasgonzalezmunoz/world-bank-world-development-indicators).\n",
    "\n",
    "- World Energy Consumption: Consumption of energy by different countries. The dataset can be found [here](https://www.kaggle.com/datasets/pralabhpoudel/world-energy-consumption).\n",
    "\n",
    "- Yearly descriptive statistics compiled by the UN: Excel files with annual estimates and standard projection scenarios, including population indicators like life expectancy, total births, mean age, etc. The dataset can be found [here](https://population.un.org/wpp/Download/Standard/MostUsed/).\n",
    "\n",
    "I performed some Excel manipulations to select only the most interesting columns from these additional datasets, and the resulting files are stored in the `data/new_data` directory.\n"
   ]
  },
  {
   "cell_type": "markdown",
   "metadata": {},
   "source": [
    "# Step one - build a main datafile"
   ]
  },
  {
   "cell_type": "markdown",
   "metadata": {},
   "source": [
    "## Data wrangling"
   ]
  },
  {
   "cell_type": "code",
   "execution_count": 1,
   "metadata": {},
   "outputs": [],
   "source": [
    "import pandas as pd\n",
    "import numpy as np"
   ]
  },
  {
   "cell_type": "code",
   "execution_count": 23,
   "metadata": {},
   "outputs": [
    {
     "data": {
      "text/html": [
       "<div>\n",
       "<style scoped>\n",
       "    .dataframe tbody tr th:only-of-type {\n",
       "        vertical-align: middle;\n",
       "    }\n",
       "\n",
       "    .dataframe tbody tr th {\n",
       "        vertical-align: top;\n",
       "    }\n",
       "\n",
       "    .dataframe thead th {\n",
       "        text-align: right;\n",
       "    }\n",
       "</style>\n",
       "<table border=\"1\" class=\"dataframe\">\n",
       "  <thead>\n",
       "    <tr style=\"text-align: right;\">\n",
       "      <th></th>\n",
       "      <th>edition</th>\n",
       "      <th>edition_id</th>\n",
       "      <th>edition_url</th>\n",
       "      <th>year</th>\n",
       "      <th>city</th>\n",
       "      <th>country_flag_url</th>\n",
       "      <th>country_noc</th>\n",
       "      <th>start_date</th>\n",
       "      <th>end_date</th>\n",
       "      <th>isHeld</th>\n",
       "      <th>competition_start_date</th>\n",
       "      <th>competition_end_date</th>\n",
       "      <th>duration_days</th>\n",
       "      <th>season</th>\n",
       "    </tr>\n",
       "  </thead>\n",
       "  <tbody>\n",
       "    <tr>\n",
       "      <th>0</th>\n",
       "      <td>1896 Summer Olympics</td>\n",
       "      <td>1</td>\n",
       "      <td>/editions/1</td>\n",
       "      <td>1896</td>\n",
       "      <td>Athina</td>\n",
       "      <td>/images/flags/GRE.png</td>\n",
       "      <td>GRE</td>\n",
       "      <td>1896-04-06</td>\n",
       "      <td>1896-04-15</td>\n",
       "      <td>na</td>\n",
       "      <td>1896-04-06</td>\n",
       "      <td>1896-04-13</td>\n",
       "      <td>7.0</td>\n",
       "      <td>summer</td>\n",
       "    </tr>\n",
       "    <tr>\n",
       "      <th>1</th>\n",
       "      <td>1900 Summer Olympics</td>\n",
       "      <td>2</td>\n",
       "      <td>/editions/2</td>\n",
       "      <td>1900</td>\n",
       "      <td>Paris</td>\n",
       "      <td>/images/flags/FRA.png</td>\n",
       "      <td>FRA</td>\n",
       "      <td>na</td>\n",
       "      <td>na</td>\n",
       "      <td>na</td>\n",
       "      <td>1900-05-14</td>\n",
       "      <td>1900-10-28</td>\n",
       "      <td>167.0</td>\n",
       "      <td>summer</td>\n",
       "    </tr>\n",
       "    <tr>\n",
       "      <th>2</th>\n",
       "      <td>1904 Summer Olympics</td>\n",
       "      <td>3</td>\n",
       "      <td>/editions/3</td>\n",
       "      <td>1904</td>\n",
       "      <td>St. Louis</td>\n",
       "      <td>/images/flags/USA.png</td>\n",
       "      <td>USA</td>\n",
       "      <td>1904-05-14</td>\n",
       "      <td>na</td>\n",
       "      <td>na</td>\n",
       "      <td>1904-07-01</td>\n",
       "      <td>1904-11-23</td>\n",
       "      <td>145.0</td>\n",
       "      <td>summer</td>\n",
       "    </tr>\n",
       "  </tbody>\n",
       "</table>\n",
       "</div>"
      ],
      "text/plain": [
       "                edition  edition_id  edition_url  year       city  \\\n",
       "0  1896 Summer Olympics           1  /editions/1  1896     Athina   \n",
       "1  1900 Summer Olympics           2  /editions/2  1900      Paris   \n",
       "2  1904 Summer Olympics           3  /editions/3  1904  St. Louis   \n",
       "\n",
       "        country_flag_url country_noc  start_date    end_date isHeld  \\\n",
       "0  /images/flags/GRE.png         GRE  1896-04-06  1896-04-15     na   \n",
       "1  /images/flags/FRA.png         FRA          na          na     na   \n",
       "2  /images/flags/USA.png         USA  1904-05-14          na     na   \n",
       "\n",
       "  competition_start_date competition_end_date  duration_days  season  \n",
       "0             1896-04-06           1896-04-13            7.0  summer  \n",
       "1             1900-05-14           1900-10-28          167.0  summer  \n",
       "2             1904-07-01           1904-11-23          145.0  summer  "
      ]
     },
     "execution_count": 23,
     "metadata": {},
     "output_type": "execute_result"
    }
   ],
   "source": [
    "olympic_df = pd.read_csv(\"data/gh_olympic_data/Olympics_Games.csv\")\n",
    "\n",
    "# Only keep held games and exclude the 1906 Intercalated Games and the 1956 equestrian games\n",
    "olympic_df = olympic_df[~olympic_df[\"edition_id\"].isin([4, 48])]\n",
    "olympic_df = olympic_df[olympic_df[\"isHeld\"]==\"na\"]\n",
    "\n",
    "# Calculate duration (diff between end_date and start_date)\n",
    "date_columns = [\"competition_start_date\", \"competition_end_date\"]\n",
    "\n",
    "for col in date_columns:\n",
    "    olympic_df[col] = pd.to_datetime(olympic_df[col], errors=\"coerce\")\n",
    "\n",
    "olympic_df[\"duration_days\"] = (olympic_df[\"competition_end_date\"] - olympic_df[\"competition_start_date\"]).dt.days\n",
    "\n",
    "# create winter/summer flag column\n",
    "olympic_df[\"season\"] = np.where(olympic_df[\"edition\"].str.lower().str.contains(\"summer\"), \"summer\", \"winter\")\n",
    "\n",
    "# preview\n",
    "olympic_df.head(3)\n"
   ]
  },
  {
   "cell_type": "code",
   "execution_count": 24,
   "metadata": {},
   "outputs": [
    {
     "data": {
      "text/html": [
       "<div>\n",
       "<style scoped>\n",
       "    .dataframe tbody tr th:only-of-type {\n",
       "        vertical-align: middle;\n",
       "    }\n",
       "\n",
       "    .dataframe tbody tr th {\n",
       "        vertical-align: top;\n",
       "    }\n",
       "\n",
       "    .dataframe thead th {\n",
       "        text-align: right;\n",
       "    }\n",
       "</style>\n",
       "<table border=\"1\" class=\"dataframe\">\n",
       "  <thead>\n",
       "    <tr style=\"text-align: right;\">\n",
       "      <th></th>\n",
       "      <th>edition_id</th>\n",
       "      <th>edition_url</th>\n",
       "      <th>year</th>\n",
       "      <th>city</th>\n",
       "      <th>country_flag_url</th>\n",
       "      <th>country_noc</th>\n",
       "      <th>competition_start_date</th>\n",
       "      <th>competition_end_date</th>\n",
       "      <th>duration_days</th>\n",
       "      <th>season</th>\n",
       "      <th>num_participants</th>\n",
       "      <th>num_countries</th>\n",
       "      <th>num_medal_events</th>\n",
       "      <th>num_disciplines</th>\n",
       "      <th>country</th>\n",
       "    </tr>\n",
       "  </thead>\n",
       "  <tbody>\n",
       "    <tr>\n",
       "      <th>0</th>\n",
       "      <td>1</td>\n",
       "      <td>/editions/1</td>\n",
       "      <td>1896</td>\n",
       "      <td>Athina</td>\n",
       "      <td>/images/flags/GRE.png</td>\n",
       "      <td>GRE</td>\n",
       "      <td>1896-04-06</td>\n",
       "      <td>1896-04-13</td>\n",
       "      <td>7.0</td>\n",
       "      <td>summer</td>\n",
       "      <td>176.0</td>\n",
       "      <td>13.0</td>\n",
       "      <td>43.0</td>\n",
       "      <td>10.0</td>\n",
       "      <td>Greece</td>\n",
       "    </tr>\n",
       "    <tr>\n",
       "      <th>1</th>\n",
       "      <td>2</td>\n",
       "      <td>/editions/2</td>\n",
       "      <td>1900</td>\n",
       "      <td>Paris</td>\n",
       "      <td>/images/flags/FRA.png</td>\n",
       "      <td>FRA</td>\n",
       "      <td>1900-05-14</td>\n",
       "      <td>1900-10-28</td>\n",
       "      <td>167.0</td>\n",
       "      <td>summer</td>\n",
       "      <td>1239.0</td>\n",
       "      <td>27.0</td>\n",
       "      <td>95.0</td>\n",
       "      <td>22.0</td>\n",
       "      <td>France</td>\n",
       "    </tr>\n",
       "    <tr>\n",
       "      <th>2</th>\n",
       "      <td>3</td>\n",
       "      <td>/editions/3</td>\n",
       "      <td>1904</td>\n",
       "      <td>St. Louis</td>\n",
       "      <td>/images/flags/USA.png</td>\n",
       "      <td>USA</td>\n",
       "      <td>1904-07-01</td>\n",
       "      <td>1904-11-23</td>\n",
       "      <td>145.0</td>\n",
       "      <td>summer</td>\n",
       "      <td>650.0</td>\n",
       "      <td>10.0</td>\n",
       "      <td>95.0</td>\n",
       "      <td>18.0</td>\n",
       "      <td>United States</td>\n",
       "    </tr>\n",
       "  </tbody>\n",
       "</table>\n",
       "</div>"
      ],
      "text/plain": [
       "   edition_id  edition_url  year       city       country_flag_url  \\\n",
       "0           1  /editions/1  1896     Athina  /images/flags/GRE.png   \n",
       "1           2  /editions/2  1900      Paris  /images/flags/FRA.png   \n",
       "2           3  /editions/3  1904  St. Louis  /images/flags/USA.png   \n",
       "\n",
       "  country_noc competition_start_date competition_end_date  duration_days  \\\n",
       "0         GRE             1896-04-06           1896-04-13            7.0   \n",
       "1         FRA             1900-05-14           1900-10-28          167.0   \n",
       "2         USA             1904-07-01           1904-11-23          145.0   \n",
       "\n",
       "   season  num_participants  num_countries  num_medal_events  num_disciplines  \\\n",
       "0  summer             176.0           13.0              43.0             10.0   \n",
       "1  summer            1239.0           27.0              95.0             22.0   \n",
       "2  summer             650.0           10.0              95.0             18.0   \n",
       "\n",
       "         country  \n",
       "0         Greece  \n",
       "1         France  \n",
       "2  United States  "
      ]
     },
     "execution_count": 24,
     "metadata": {},
     "output_type": "execute_result"
    }
   ],
   "source": [
    "# bring in additional scraped data\n",
    "new_cols = pd.read_excel(\"data/new_data/olympic_games_meta_stats.xlsx\", index_col=0 )\n",
    "\n",
    "# join by \"olympics_name\" in new_cols and \"edition\" in olympic_df\n",
    "olympic_df = olympic_df.merge(new_cols, left_on=\"edition\", right_on=\"olympics_name\", how=\"left\")\n",
    "\n",
    "# remove columns\n",
    "olympic_df = olympic_df.drop(columns=[\"isHeld\", \"edition\", \"start_date\", \"end_date\", \"olympics_name\"])\n",
    "\n",
    "# country name of host city\n",
    "olympic_country_codes = pd.read_excel(\"data/official_data/Olympics_Country.xlsx\")\n",
    "\n",
    "# join with olympic_df on country_noc\n",
    "olympic_df = olympic_df.merge(olympic_country_codes, on=\"country_noc\", how=\"left\")\n",
    "\n",
    "# preview\n",
    "\n",
    "olympic_df.head(3)"
   ]
  },
  {
   "cell_type": "markdown",
   "metadata": {},
   "source": [
    "### Feature engineering"
   ]
  },
  {
   "cell_type": "markdown",
   "metadata": {},
   "source": [
    "#### Distance from Athens and previous cities"
   ]
  },
  {
   "cell_type": "code",
   "execution_count": 25,
   "metadata": {},
   "outputs": [
    {
     "name": "stdout",
     "output_type": "stream",
     "text": [
      "Loaded distances from file\n"
     ]
    }
   ],
   "source": [
    "# pull distance from Athens from other data\n",
    "\n",
    "from googlemaps import Client as GoogleMaps\n",
    "import googlemaps\n",
    "import geopy.distance\n",
    "\n",
    "google_maps_api = \"ADD YOUR API KEY FOR GOOGLE MAPS HERE\"\n",
    "\n",
    "gmaps = googlemaps.Client(key=google_maps_api)\n",
    "\n",
    "# if distance file exists, load it directly\n",
    "try:\n",
    "    distances = pd.read_excel(\"data/new_data/olympic_games_distances.xlsx\", index_col=0)\n",
    "    print(\"Loaded distances from file\")\n",
    "    # add data to olympic_df\n",
    "    olympic_df = olympic_df.join(pd.DataFrame(distances))\n",
    "except:\n",
    "\n",
    "    # Get Athens location\n",
    "    geocode_result = gmaps.geocode(\"Athina\")\n",
    "    lat_athens = geocode_result[0]['geometry']['location'] ['lat']\n",
    "    long_athens = geocode_result[0]['geometry']['location'] ['lng']\n",
    "    coords_athens = (lat_athens, long_athens) # latitude, longitude\n",
    "\n",
    "    # store distances\n",
    "    distances = {\"distance_from_athens_km\" : [], \n",
    "                \"distance_from_previous_city_km\" : []}\n",
    "\n",
    "    prev_city_coords = None\n",
    "    prev_season = None\n",
    "\n",
    "    # sort by season, then edition\n",
    "    olympic_df.sort_values([\"season\", \"year\"], inplace=True)\n",
    "\n",
    "    for index, city in enumerate(olympic_df[\"city\"]):\n",
    "        # Get current city location \n",
    "        geocode_result = gmaps.geocode(city)\n",
    "        latitude = geocode_result[0]['geometry']['location'] ['lat']\n",
    "        longitude = geocode_result[0]['geometry']['location'] ['lng']\n",
    "        city_coords = (latitude, longitude) # latitude, longitude\n",
    "        season = olympic_df.loc[index, \"season\"]\n",
    "\n",
    "        # calculate distance from previous host city\n",
    "        if prev_city_coords and season == prev_season: \n",
    "            straight_line_previous = geopy.distance.geodesic(prev_city_coords, city_coords).km\n",
    "        else:\n",
    "            straight_line_previous = None\n",
    "        \n",
    "        prev_city_coords = city_coords\n",
    "        prev_season = season\n",
    "        # calculate distance in a straight line from Athens\n",
    "        straight_line_athens = geopy.distance.geodesic(coords_athens, city_coords).km\n",
    "        distances[\"distance_from_athens_km\"].append(straight_line_athens)\n",
    "        distances[\"distance_from_previous_city_km\"].append(straight_line_previous)\n",
    "\n",
    "    # save dict to excel\n",
    "    distances = pd.DataFrame(distances).to_excel(\"data/new_data/olympic_games_distances.xlsx\")\n",
    "\n",
    "    # add data to olympic_df\n",
    "    olympic_df = olympic_df.join(pd.DataFrame(distances))"
   ]
  },
  {
   "cell_type": "markdown",
   "metadata": {},
   "source": [
    "#### Create new columns"
   ]
  },
  {
   "cell_type": "code",
   "execution_count": 29,
   "metadata": {},
   "outputs": [
    {
     "data": {
      "text/html": [
       "<div>\n",
       "<style scoped>\n",
       "    .dataframe tbody tr th:only-of-type {\n",
       "        vertical-align: middle;\n",
       "    }\n",
       "\n",
       "    .dataframe tbody tr th {\n",
       "        vertical-align: top;\n",
       "    }\n",
       "\n",
       "    .dataframe thead th {\n",
       "        text-align: right;\n",
       "    }\n",
       "</style>\n",
       "<table border=\"1\" class=\"dataframe\">\n",
       "  <thead>\n",
       "    <tr style=\"text-align: right;\">\n",
       "      <th></th>\n",
       "      <th>edition_id</th>\n",
       "      <th>edition_url</th>\n",
       "      <th>year</th>\n",
       "      <th>city</th>\n",
       "      <th>country_flag_url</th>\n",
       "      <th>country_noc</th>\n",
       "      <th>competition_start_date</th>\n",
       "      <th>competition_end_date</th>\n",
       "      <th>duration_days</th>\n",
       "      <th>season</th>\n",
       "      <th>...</th>\n",
       "      <th>num_countries</th>\n",
       "      <th>num_medal_events</th>\n",
       "      <th>num_disciplines</th>\n",
       "      <th>country</th>\n",
       "      <th>distance_from_athens_km</th>\n",
       "      <th>distance_from_previous_city_km</th>\n",
       "      <th>host_city_len</th>\n",
       "      <th>avg_participants_per_country</th>\n",
       "      <th>avg_medal_events_per_participant</th>\n",
       "      <th>num_times_country_hosted</th>\n",
       "    </tr>\n",
       "  </thead>\n",
       "  <tbody>\n",
       "    <tr>\n",
       "      <th>0</th>\n",
       "      <td>1</td>\n",
       "      <td>/editions/1</td>\n",
       "      <td>1896</td>\n",
       "      <td>Athina</td>\n",
       "      <td>/images/flags/GRE.png</td>\n",
       "      <td>GRE</td>\n",
       "      <td>1896-04-06</td>\n",
       "      <td>1896-04-13</td>\n",
       "      <td>7.0</td>\n",
       "      <td>summer</td>\n",
       "      <td>...</td>\n",
       "      <td>13.0</td>\n",
       "      <td>43.0</td>\n",
       "      <td>10.0</td>\n",
       "      <td>Greece</td>\n",
       "      <td>0.000000</td>\n",
       "      <td>NaN</td>\n",
       "      <td>6</td>\n",
       "      <td>13.538462</td>\n",
       "      <td>0.244318</td>\n",
       "      <td>1.0</td>\n",
       "    </tr>\n",
       "    <tr>\n",
       "      <th>1</th>\n",
       "      <td>2</td>\n",
       "      <td>/editions/2</td>\n",
       "      <td>1900</td>\n",
       "      <td>Paris</td>\n",
       "      <td>/images/flags/FRA.png</td>\n",
       "      <td>FRA</td>\n",
       "      <td>1900-05-14</td>\n",
       "      <td>1900-10-28</td>\n",
       "      <td>167.0</td>\n",
       "      <td>summer</td>\n",
       "      <td>...</td>\n",
       "      <td>27.0</td>\n",
       "      <td>95.0</td>\n",
       "      <td>22.0</td>\n",
       "      <td>France</td>\n",
       "      <td>2099.036636</td>\n",
       "      <td>2099.036636</td>\n",
       "      <td>5</td>\n",
       "      <td>45.888889</td>\n",
       "      <td>0.076675</td>\n",
       "      <td>1.0</td>\n",
       "    </tr>\n",
       "    <tr>\n",
       "      <th>2</th>\n",
       "      <td>3</td>\n",
       "      <td>/editions/3</td>\n",
       "      <td>1904</td>\n",
       "      <td>St. Louis</td>\n",
       "      <td>/images/flags/USA.png</td>\n",
       "      <td>USA</td>\n",
       "      <td>1904-07-01</td>\n",
       "      <td>1904-11-23</td>\n",
       "      <td>145.0</td>\n",
       "      <td>summer</td>\n",
       "      <td>...</td>\n",
       "      <td>10.0</td>\n",
       "      <td>95.0</td>\n",
       "      <td>18.0</td>\n",
       "      <td>United States</td>\n",
       "      <td>9169.701128</td>\n",
       "      <td>7071.971057</td>\n",
       "      <td>9</td>\n",
       "      <td>65.000000</td>\n",
       "      <td>0.146154</td>\n",
       "      <td>1.0</td>\n",
       "    </tr>\n",
       "  </tbody>\n",
       "</table>\n",
       "<p>3 rows × 21 columns</p>\n",
       "</div>"
      ],
      "text/plain": [
       "   edition_id  edition_url  year       city       country_flag_url  \\\n",
       "0           1  /editions/1  1896     Athina  /images/flags/GRE.png   \n",
       "1           2  /editions/2  1900      Paris  /images/flags/FRA.png   \n",
       "2           3  /editions/3  1904  St. Louis  /images/flags/USA.png   \n",
       "\n",
       "  country_noc competition_start_date competition_end_date  duration_days  \\\n",
       "0         GRE             1896-04-06           1896-04-13            7.0   \n",
       "1         FRA             1900-05-14           1900-10-28          167.0   \n",
       "2         USA             1904-07-01           1904-11-23          145.0   \n",
       "\n",
       "   season  ...  num_countries  num_medal_events  num_disciplines  \\\n",
       "0  summer  ...           13.0              43.0             10.0   \n",
       "1  summer  ...           27.0              95.0             22.0   \n",
       "2  summer  ...           10.0              95.0             18.0   \n",
       "\n",
       "         country distance_from_athens_km  distance_from_previous_city_km  \\\n",
       "0         Greece                0.000000                             NaN   \n",
       "1         France             2099.036636                     2099.036636   \n",
       "2  United States             9169.701128                     7071.971057   \n",
       "\n",
       "   host_city_len  avg_participants_per_country  \\\n",
       "0              6                     13.538462   \n",
       "1              5                     45.888889   \n",
       "2              9                     65.000000   \n",
       "\n",
       "   avg_medal_events_per_participant  num_times_country_hosted  \n",
       "0                          0.244318                       1.0  \n",
       "1                          0.076675                       1.0  \n",
       "2                          0.146154                       1.0  \n",
       "\n",
       "[3 rows x 21 columns]"
      ]
     },
     "execution_count": 29,
     "metadata": {},
     "output_type": "execute_result"
    }
   ],
   "source": [
    "# Add number of letters in host city name\n",
    "olympic_df[\"host_city_len\"] = olympic_df[\"city\"].str.len()\n",
    "\n",
    "# Average participants per country\n",
    "olympic_df[\"avg_participants_per_country\"] = olympic_df[\"num_participants\"] / olympic_df[\"num_countries\"]\n",
    "\n",
    "# Average medal events per participant\n",
    "olympic_df[\"avg_medal_events_per_participant\"] = olympic_df[\"num_medal_events\"] / olympic_df[\"num_participants\"]\n",
    "\n",
    "# Incremental count per year of numer of times country hosted games\n",
    "olympic_df.sort_values([\"year\", \"season\"], ascending = [True, False], inplace=True)\n",
    "olympic_df[\"num_times_country_hosted\"] = olympic_df.groupby(\"country\")[\"year\"].rank(method=\"first\")\n",
    "\n",
    "olympic_df.head(3)\n"
   ]
  },
  {
   "cell_type": "markdown",
   "metadata": {},
   "source": [
    "### Add other datasets"
   ]
  },
  {
   "cell_type": "markdown",
   "metadata": {},
   "source": [
    "#### UN world data"
   ]
  },
  {
   "cell_type": "code",
   "execution_count": 31,
   "metadata": {},
   "outputs": [
    {
     "data": {
      "text/html": [
       "<div>\n",
       "<style scoped>\n",
       "    .dataframe tbody tr th:only-of-type {\n",
       "        vertical-align: middle;\n",
       "    }\n",
       "\n",
       "    .dataframe tbody tr th {\n",
       "        vertical-align: top;\n",
       "    }\n",
       "\n",
       "    .dataframe thead th {\n",
       "        text-align: right;\n",
       "    }\n",
       "</style>\n",
       "<table border=\"1\" class=\"dataframe\">\n",
       "  <thead>\n",
       "    <tr style=\"text-align: right;\">\n",
       "      <th></th>\n",
       "      <th>Year</th>\n",
       "      <th>population_jan_1</th>\n",
       "      <th>population_sex_ratio</th>\n",
       "      <th>median_age_jul_1</th>\n",
       "      <th>births_thousands</th>\n",
       "    </tr>\n",
       "  </thead>\n",
       "  <tbody>\n",
       "    <tr>\n",
       "      <th>0</th>\n",
       "      <td>1950</td>\n",
       "      <td>2477674.732</td>\n",
       "      <td>99.314</td>\n",
       "      <td>22.224</td>\n",
       "      <td>92083.258</td>\n",
       "    </tr>\n",
       "    <tr>\n",
       "      <th>1</th>\n",
       "      <td>1951</td>\n",
       "      <td>2520969.582</td>\n",
       "      <td>99.358</td>\n",
       "      <td>22.172</td>\n",
       "      <td>92836.900</td>\n",
       "    </tr>\n",
       "    <tr>\n",
       "      <th>2</th>\n",
       "      <td>1952</td>\n",
       "      <td>2565291.179</td>\n",
       "      <td>99.425</td>\n",
       "      <td>22.108</td>\n",
       "      <td>97606.684</td>\n",
       "    </tr>\n",
       "  </tbody>\n",
       "</table>\n",
       "</div>"
      ],
      "text/plain": [
       "   Year  population_jan_1  population_sex_ratio  median_age_jul_1  \\\n",
       "0  1950       2477674.732                99.314            22.224   \n",
       "1  1951       2520969.582                99.358            22.172   \n",
       "2  1952       2565291.179                99.425            22.108   \n",
       "\n",
       "   births_thousands  \n",
       "0         92083.258  \n",
       "1         92836.900  \n",
       "2         97606.684  "
      ]
     },
     "execution_count": 31,
     "metadata": {},
     "output_type": "execute_result"
    }
   ],
   "source": [
    "# load dataset\n",
    "un_world_data = pd.read_excel(\"data/new_data/un_world_data.xlsx\")\n",
    "\n",
    "un_world_data.head(3)"
   ]
  },
  {
   "cell_type": "code",
   "execution_count": 32,
   "metadata": {},
   "outputs": [],
   "source": [
    "# match with olympic df on year\n",
    "olympic_df = olympic_df.merge(un_world_data, left_on=\"year\", right_on=\"Year\", how=\"left\")"
   ]
  },
  {
   "cell_type": "markdown",
   "metadata": {},
   "source": [
    "#### World bank development indicators"
   ]
  },
  {
   "cell_type": "code",
   "execution_count": 33,
   "metadata": {},
   "outputs": [
    {
     "data": {
      "text/html": [
       "<div>\n",
       "<style scoped>\n",
       "    .dataframe tbody tr th:only-of-type {\n",
       "        vertical-align: middle;\n",
       "    }\n",
       "\n",
       "    .dataframe tbody tr th {\n",
       "        vertical-align: top;\n",
       "    }\n",
       "\n",
       "    .dataframe thead th {\n",
       "        text-align: right;\n",
       "    }\n",
       "</style>\n",
       "<table border=\"1\" class=\"dataframe\">\n",
       "  <thead>\n",
       "    <tr style=\"text-align: right;\">\n",
       "      <th></th>\n",
       "      <th>year</th>\n",
       "      <th>agricultural_land%</th>\n",
       "      <th>forest_land%</th>\n",
       "      <th>land_area</th>\n",
       "      <th>access_to_electricity%</th>\n",
       "      <th>renewvable_energy_consumption%</th>\n",
       "      <th>CO2_emisions</th>\n",
       "      <th>population_density</th>\n",
       "      <th>inflation_annual%</th>\n",
       "      <th>research_and_development_expenditure%</th>\n",
       "      <th>tax_revenue%</th>\n",
       "      <th>individuals_using_internet%</th>\n",
       "      <th>military_expenditure%</th>\n",
       "      <th>GDP_current_US</th>\n",
       "      <th>government_expenditure_on_education%</th>\n",
       "      <th>government_health_expenditure%</th>\n",
       "      <th>life_expectancy_at_birth</th>\n",
       "      <th>rural_population</th>\n",
       "    </tr>\n",
       "  </thead>\n",
       "  <tbody>\n",
       "    <tr>\n",
       "      <th>0</th>\n",
       "      <td>1960</td>\n",
       "      <td>NaN</td>\n",
       "      <td>NaN</td>\n",
       "      <td>NaN</td>\n",
       "      <td>NaN</td>\n",
       "      <td>NaN</td>\n",
       "      <td>NaN</td>\n",
       "      <td>NaN</td>\n",
       "      <td>NaN</td>\n",
       "      <td>NaN</td>\n",
       "      <td>NaN</td>\n",
       "      <td>NaN</td>\n",
       "      <td>6.356236</td>\n",
       "      <td>1.380000e+12</td>\n",
       "      <td>NaN</td>\n",
       "      <td>NaN</td>\n",
       "      <td>50.894180</td>\n",
       "      <td>2012191086</td>\n",
       "    </tr>\n",
       "    <tr>\n",
       "      <th>1</th>\n",
       "      <td>1961</td>\n",
       "      <td>34.553080</td>\n",
       "      <td>NaN</td>\n",
       "      <td>129629034.5</td>\n",
       "      <td>NaN</td>\n",
       "      <td>NaN</td>\n",
       "      <td>NaN</td>\n",
       "      <td>23.701648</td>\n",
       "      <td>NaN</td>\n",
       "      <td>NaN</td>\n",
       "      <td>NaN</td>\n",
       "      <td>NaN</td>\n",
       "      <td>6.311013</td>\n",
       "      <td>1.450000e+12</td>\n",
       "      <td>NaN</td>\n",
       "      <td>NaN</td>\n",
       "      <td>52.846336</td>\n",
       "      <td>2024407072</td>\n",
       "    </tr>\n",
       "    <tr>\n",
       "      <th>2</th>\n",
       "      <td>1962</td>\n",
       "      <td>34.618111</td>\n",
       "      <td>NaN</td>\n",
       "      <td>129629014.5</td>\n",
       "      <td>NaN</td>\n",
       "      <td>NaN</td>\n",
       "      <td>NaN</td>\n",
       "      <td>24.121526</td>\n",
       "      <td>NaN</td>\n",
       "      <td>NaN</td>\n",
       "      <td>NaN</td>\n",
       "      <td>NaN</td>\n",
       "      <td>6.350214</td>\n",
       "      <td>1.550000e+12</td>\n",
       "      <td>NaN</td>\n",
       "      <td>NaN</td>\n",
       "      <td>55.208684</td>\n",
       "      <td>2046772381</td>\n",
       "    </tr>\n",
       "  </tbody>\n",
       "</table>\n",
       "</div>"
      ],
      "text/plain": [
       "   year  agricultural_land%  forest_land%    land_area  \\\n",
       "0  1960                 NaN           NaN          NaN   \n",
       "1  1961           34.553080           NaN  129629034.5   \n",
       "2  1962           34.618111           NaN  129629014.5   \n",
       "\n",
       "   access_to_electricity%  renewvable_energy_consumption%  CO2_emisions  \\\n",
       "0                     NaN                             NaN           NaN   \n",
       "1                     NaN                             NaN           NaN   \n",
       "2                     NaN                             NaN           NaN   \n",
       "\n",
       "   population_density  inflation_annual%  \\\n",
       "0                 NaN                NaN   \n",
       "1           23.701648                NaN   \n",
       "2           24.121526                NaN   \n",
       "\n",
       "   research_and_development_expenditure%  tax_revenue%  \\\n",
       "0                                    NaN           NaN   \n",
       "1                                    NaN           NaN   \n",
       "2                                    NaN           NaN   \n",
       "\n",
       "   individuals_using_internet%  military_expenditure%  GDP_current_US  \\\n",
       "0                          NaN               6.356236    1.380000e+12   \n",
       "1                          NaN               6.311013    1.450000e+12   \n",
       "2                          NaN               6.350214    1.550000e+12   \n",
       "\n",
       "   government_expenditure_on_education%  government_health_expenditure%  \\\n",
       "0                                   NaN                             NaN   \n",
       "1                                   NaN                             NaN   \n",
       "2                                   NaN                             NaN   \n",
       "\n",
       "   life_expectancy_at_birth  rural_population  \n",
       "0                 50.894180        2012191086  \n",
       "1                 52.846336        2024407072  \n",
       "2                 55.208684        2046772381  "
      ]
     },
     "execution_count": 33,
     "metadata": {},
     "output_type": "execute_result"
    }
   ],
   "source": [
    "# load dataset\n",
    "world_bank_data = pd.read_csv(\"data/new_data/world_bank_development_indicators.csv\")\n",
    "\n",
    "world_bank_data.head(3)"
   ]
  },
  {
   "cell_type": "code",
   "execution_count": 34,
   "metadata": {},
   "outputs": [],
   "source": [
    "# match with olympic df on year\n",
    "olympic_df = olympic_df.merge(world_bank_data, on = \"year\", how=\"left\")"
   ]
  },
  {
   "cell_type": "markdown",
   "metadata": {},
   "source": [
    "#### World energy data"
   ]
  },
  {
   "cell_type": "code",
   "execution_count": 35,
   "metadata": {},
   "outputs": [
    {
     "data": {
      "text/html": [
       "<div>\n",
       "<style scoped>\n",
       "    .dataframe tbody tr th:only-of-type {\n",
       "        vertical-align: middle;\n",
       "    }\n",
       "\n",
       "    .dataframe tbody tr th {\n",
       "        vertical-align: top;\n",
       "    }\n",
       "\n",
       "    .dataframe thead th {\n",
       "        text-align: right;\n",
       "    }\n",
       "</style>\n",
       "<table border=\"1\" class=\"dataframe\">\n",
       "  <thead>\n",
       "    <tr style=\"text-align: right;\">\n",
       "      <th></th>\n",
       "      <th>year</th>\n",
       "      <th>population</th>\n",
       "      <th>gdp</th>\n",
       "      <th>coal_cons_per_capita</th>\n",
       "      <th>coal_prod_per_capita</th>\n",
       "      <th>energy_per_capita</th>\n",
       "      <th>fossil_energy_per_capita</th>\n",
       "      <th>gas_elec_per_capita</th>\n",
       "      <th>gas_energy_per_capita</th>\n",
       "      <th>gas_prod_per_capita</th>\n",
       "      <th>hydro_energy_per_capita</th>\n",
       "      <th>nuclear_energy_per_capita</th>\n",
       "      <th>oil_energy_per_capita</th>\n",
       "      <th>oil_prod_per_capita</th>\n",
       "      <th>renewables_energy_per_capita</th>\n",
       "      <th>solar_energy_per_capita</th>\n",
       "    </tr>\n",
       "  </thead>\n",
       "  <tbody>\n",
       "    <tr>\n",
       "      <th>0</th>\n",
       "      <td>1900</td>\n",
       "      <td>1627883132</td>\n",
       "      <td>3.405759e+12</td>\n",
       "      <td>NaN</td>\n",
       "      <td>3286.408</td>\n",
       "      <td>NaN</td>\n",
       "      <td>NaN</td>\n",
       "      <td>NaN</td>\n",
       "      <td>NaN</td>\n",
       "      <td>45.360</td>\n",
       "      <td>NaN</td>\n",
       "      <td>NaN</td>\n",
       "      <td>NaN</td>\n",
       "      <td>144.328</td>\n",
       "      <td>NaN</td>\n",
       "      <td>NaN</td>\n",
       "    </tr>\n",
       "    <tr>\n",
       "      <th>1</th>\n",
       "      <td>1901</td>\n",
       "      <td>1638647517</td>\n",
       "      <td>NaN</td>\n",
       "      <td>NaN</td>\n",
       "      <td>3323.836</td>\n",
       "      <td>NaN</td>\n",
       "      <td>NaN</td>\n",
       "      <td>NaN</td>\n",
       "      <td>NaN</td>\n",
       "      <td>49.936</td>\n",
       "      <td>NaN</td>\n",
       "      <td>NaN</td>\n",
       "      <td>NaN</td>\n",
       "      <td>160.399</td>\n",
       "      <td>NaN</td>\n",
       "      <td>NaN</td>\n",
       "    </tr>\n",
       "    <tr>\n",
       "      <th>2</th>\n",
       "      <td>1902</td>\n",
       "      <td>1651840077</td>\n",
       "      <td>NaN</td>\n",
       "      <td>NaN</td>\n",
       "      <td>3377.097</td>\n",
       "      <td>NaN</td>\n",
       "      <td>NaN</td>\n",
       "      <td>NaN</td>\n",
       "      <td>NaN</td>\n",
       "      <td>54.373</td>\n",
       "      <td>NaN</td>\n",
       "      <td>NaN</td>\n",
       "      <td>NaN</td>\n",
       "      <td>172.770</td>\n",
       "      <td>NaN</td>\n",
       "      <td>NaN</td>\n",
       "    </tr>\n",
       "  </tbody>\n",
       "</table>\n",
       "</div>"
      ],
      "text/plain": [
       "   year  population           gdp  coal_cons_per_capita  coal_prod_per_capita  \\\n",
       "0  1900  1627883132  3.405759e+12                   NaN              3286.408   \n",
       "1  1901  1638647517           NaN                   NaN              3323.836   \n",
       "2  1902  1651840077           NaN                   NaN              3377.097   \n",
       "\n",
       "   energy_per_capita  fossil_energy_per_capita  gas_elec_per_capita  \\\n",
       "0                NaN                       NaN                  NaN   \n",
       "1                NaN                       NaN                  NaN   \n",
       "2                NaN                       NaN                  NaN   \n",
       "\n",
       "   gas_energy_per_capita  gas_prod_per_capita  hydro_energy_per_capita  \\\n",
       "0                    NaN               45.360                      NaN   \n",
       "1                    NaN               49.936                      NaN   \n",
       "2                    NaN               54.373                      NaN   \n",
       "\n",
       "   nuclear_energy_per_capita  oil_energy_per_capita  oil_prod_per_capita  \\\n",
       "0                        NaN                    NaN              144.328   \n",
       "1                        NaN                    NaN              160.399   \n",
       "2                        NaN                    NaN              172.770   \n",
       "\n",
       "   renewables_energy_per_capita  solar_energy_per_capita  \n",
       "0                           NaN                      NaN  \n",
       "1                           NaN                      NaN  \n",
       "2                           NaN                      NaN  "
      ]
     },
     "execution_count": 35,
     "metadata": {},
     "output_type": "execute_result"
    }
   ],
   "source": [
    "# load dataset\n",
    "energy_data = pd.read_excel(\"data/new_data/owid_energy_data.xlsx\", sheet_name = \"Sheet2\")\n",
    "\n",
    "energy_data.head(3)"
   ]
  },
  {
   "cell_type": "code",
   "execution_count": 36,
   "metadata": {},
   "outputs": [],
   "source": [
    "# match with olympic df on year\n",
    "olympic_df = olympic_df.merge(energy_data, on = \"year\", how=\"left\")"
   ]
  },
  {
   "cell_type": "markdown",
   "metadata": {},
   "source": [
    "#### Final result"
   ]
  },
  {
   "cell_type": "code",
   "execution_count": 37,
   "metadata": {},
   "outputs": [
    {
     "data": {
      "text/html": [
       "<div>\n",
       "<style scoped>\n",
       "    .dataframe tbody tr th:only-of-type {\n",
       "        vertical-align: middle;\n",
       "    }\n",
       "\n",
       "    .dataframe tbody tr th {\n",
       "        vertical-align: top;\n",
       "    }\n",
       "\n",
       "    .dataframe thead th {\n",
       "        text-align: right;\n",
       "    }\n",
       "</style>\n",
       "<table border=\"1\" class=\"dataframe\">\n",
       "  <thead>\n",
       "    <tr style=\"text-align: right;\">\n",
       "      <th></th>\n",
       "      <th>edition_id</th>\n",
       "      <th>edition_url</th>\n",
       "      <th>year</th>\n",
       "      <th>city</th>\n",
       "      <th>country_flag_url</th>\n",
       "      <th>country_noc</th>\n",
       "      <th>competition_start_date</th>\n",
       "      <th>competition_end_date</th>\n",
       "      <th>duration_days</th>\n",
       "      <th>season</th>\n",
       "      <th>...</th>\n",
       "      <th>fossil_energy_per_capita</th>\n",
       "      <th>gas_elec_per_capita</th>\n",
       "      <th>gas_energy_per_capita</th>\n",
       "      <th>gas_prod_per_capita</th>\n",
       "      <th>hydro_energy_per_capita</th>\n",
       "      <th>nuclear_energy_per_capita</th>\n",
       "      <th>oil_energy_per_capita</th>\n",
       "      <th>oil_prod_per_capita</th>\n",
       "      <th>renewables_energy_per_capita</th>\n",
       "      <th>solar_energy_per_capita</th>\n",
       "    </tr>\n",
       "  </thead>\n",
       "  <tbody>\n",
       "    <tr>\n",
       "      <th>0</th>\n",
       "      <td>1</td>\n",
       "      <td>/editions/1</td>\n",
       "      <td>1896</td>\n",
       "      <td>Athina</td>\n",
       "      <td>/images/flags/GRE.png</td>\n",
       "      <td>GRE</td>\n",
       "      <td>1896-04-06</td>\n",
       "      <td>1896-04-13</td>\n",
       "      <td>7.0</td>\n",
       "      <td>summer</td>\n",
       "      <td>...</td>\n",
       "      <td>NaN</td>\n",
       "      <td>NaN</td>\n",
       "      <td>NaN</td>\n",
       "      <td>NaN</td>\n",
       "      <td>NaN</td>\n",
       "      <td>NaN</td>\n",
       "      <td>NaN</td>\n",
       "      <td>NaN</td>\n",
       "      <td>NaN</td>\n",
       "      <td>NaN</td>\n",
       "    </tr>\n",
       "    <tr>\n",
       "      <th>1</th>\n",
       "      <td>2</td>\n",
       "      <td>/editions/2</td>\n",
       "      <td>1900</td>\n",
       "      <td>Paris</td>\n",
       "      <td>/images/flags/FRA.png</td>\n",
       "      <td>FRA</td>\n",
       "      <td>1900-05-14</td>\n",
       "      <td>1900-10-28</td>\n",
       "      <td>167.0</td>\n",
       "      <td>summer</td>\n",
       "      <td>...</td>\n",
       "      <td>NaN</td>\n",
       "      <td>NaN</td>\n",
       "      <td>NaN</td>\n",
       "      <td>45.360</td>\n",
       "      <td>NaN</td>\n",
       "      <td>NaN</td>\n",
       "      <td>NaN</td>\n",
       "      <td>144.328</td>\n",
       "      <td>NaN</td>\n",
       "      <td>NaN</td>\n",
       "    </tr>\n",
       "    <tr>\n",
       "      <th>2</th>\n",
       "      <td>3</td>\n",
       "      <td>/editions/3</td>\n",
       "      <td>1904</td>\n",
       "      <td>St. Louis</td>\n",
       "      <td>/images/flags/USA.png</td>\n",
       "      <td>USA</td>\n",
       "      <td>1904-07-01</td>\n",
       "      <td>1904-11-23</td>\n",
       "      <td>145.0</td>\n",
       "      <td>summer</td>\n",
       "      <td>...</td>\n",
       "      <td>NaN</td>\n",
       "      <td>NaN</td>\n",
       "      <td>NaN</td>\n",
       "      <td>62.980</td>\n",
       "      <td>NaN</td>\n",
       "      <td>NaN</td>\n",
       "      <td>NaN</td>\n",
       "      <td>203.922</td>\n",
       "      <td>NaN</td>\n",
       "      <td>NaN</td>\n",
       "    </tr>\n",
       "    <tr>\n",
       "      <th>3</th>\n",
       "      <td>5</td>\n",
       "      <td>/editions/5</td>\n",
       "      <td>1908</td>\n",
       "      <td>London</td>\n",
       "      <td>/images/flags/GBR.png</td>\n",
       "      <td>GBR</td>\n",
       "      <td>1908-04-27</td>\n",
       "      <td>1908-10-31</td>\n",
       "      <td>187.0</td>\n",
       "      <td>summer</td>\n",
       "      <td>...</td>\n",
       "      <td>NaN</td>\n",
       "      <td>NaN</td>\n",
       "      <td>NaN</td>\n",
       "      <td>79.259</td>\n",
       "      <td>NaN</td>\n",
       "      <td>NaN</td>\n",
       "      <td>NaN</td>\n",
       "      <td>258.094</td>\n",
       "      <td>NaN</td>\n",
       "      <td>NaN</td>\n",
       "    </tr>\n",
       "    <tr>\n",
       "      <th>4</th>\n",
       "      <td>6</td>\n",
       "      <td>/editions/6</td>\n",
       "      <td>1912</td>\n",
       "      <td>Stockholm</td>\n",
       "      <td>/images/flags/SWE.png</td>\n",
       "      <td>SWE</td>\n",
       "      <td>1912-05-05</td>\n",
       "      <td>1912-07-27</td>\n",
       "      <td>83.0</td>\n",
       "      <td>summer</td>\n",
       "      <td>...</td>\n",
       "      <td>NaN</td>\n",
       "      <td>NaN</td>\n",
       "      <td>NaN</td>\n",
       "      <td>97.332</td>\n",
       "      <td>NaN</td>\n",
       "      <td>NaN</td>\n",
       "      <td>NaN</td>\n",
       "      <td>308.034</td>\n",
       "      <td>NaN</td>\n",
       "      <td>NaN</td>\n",
       "    </tr>\n",
       "    <tr>\n",
       "      <th>5</th>\n",
       "      <td>7</td>\n",
       "      <td>/editions/7</td>\n",
       "      <td>1920</td>\n",
       "      <td>Antwerpen</td>\n",
       "      <td>/images/flags/BEL.png</td>\n",
       "      <td>BEL</td>\n",
       "      <td>1920-04-23</td>\n",
       "      <td>1920-09-12</td>\n",
       "      <td>142.0</td>\n",
       "      <td>summer</td>\n",
       "      <td>...</td>\n",
       "      <td>NaN</td>\n",
       "      <td>NaN</td>\n",
       "      <td>NaN</td>\n",
       "      <td>127.317</td>\n",
       "      <td>NaN</td>\n",
       "      <td>NaN</td>\n",
       "      <td>NaN</td>\n",
       "      <td>609.481</td>\n",
       "      <td>NaN</td>\n",
       "      <td>NaN</td>\n",
       "    </tr>\n",
       "    <tr>\n",
       "      <th>6</th>\n",
       "      <td>29</td>\n",
       "      <td>/editions/29</td>\n",
       "      <td>1924</td>\n",
       "      <td>Chamonix</td>\n",
       "      <td>/images/flags/FRA.png</td>\n",
       "      <td>FRA</td>\n",
       "      <td>1924-01-26</td>\n",
       "      <td>1924-02-04</td>\n",
       "      <td>9.0</td>\n",
       "      <td>winter</td>\n",
       "      <td>...</td>\n",
       "      <td>NaN</td>\n",
       "      <td>NaN</td>\n",
       "      <td>NaN</td>\n",
       "      <td>182.827</td>\n",
       "      <td>NaN</td>\n",
       "      <td>NaN</td>\n",
       "      <td>NaN</td>\n",
       "      <td>840.687</td>\n",
       "      <td>NaN</td>\n",
       "      <td>NaN</td>\n",
       "    </tr>\n",
       "    <tr>\n",
       "      <th>7</th>\n",
       "      <td>8</td>\n",
       "      <td>/editions/8</td>\n",
       "      <td>1924</td>\n",
       "      <td>Paris</td>\n",
       "      <td>/images/flags/FRA.png</td>\n",
       "      <td>FRA</td>\n",
       "      <td>1924-05-04</td>\n",
       "      <td>1924-07-27</td>\n",
       "      <td>84.0</td>\n",
       "      <td>summer</td>\n",
       "      <td>...</td>\n",
       "      <td>NaN</td>\n",
       "      <td>NaN</td>\n",
       "      <td>NaN</td>\n",
       "      <td>182.827</td>\n",
       "      <td>NaN</td>\n",
       "      <td>NaN</td>\n",
       "      <td>NaN</td>\n",
       "      <td>840.687</td>\n",
       "      <td>NaN</td>\n",
       "      <td>NaN</td>\n",
       "    </tr>\n",
       "    <tr>\n",
       "      <th>8</th>\n",
       "      <td>30</td>\n",
       "      <td>/editions/30</td>\n",
       "      <td>1928</td>\n",
       "      <td>Sankt Moritz</td>\n",
       "      <td>/images/flags/SUI.png</td>\n",
       "      <td>SUI</td>\n",
       "      <td>1928-02-11</td>\n",
       "      <td>1928-02-19</td>\n",
       "      <td>8.0</td>\n",
       "      <td>winter</td>\n",
       "      <td>...</td>\n",
       "      <td>NaN</td>\n",
       "      <td>NaN</td>\n",
       "      <td>NaN</td>\n",
       "      <td>266.617</td>\n",
       "      <td>NaN</td>\n",
       "      <td>NaN</td>\n",
       "      <td>NaN</td>\n",
       "      <td>1046.761</td>\n",
       "      <td>NaN</td>\n",
       "      <td>NaN</td>\n",
       "    </tr>\n",
       "    <tr>\n",
       "      <th>9</th>\n",
       "      <td>9</td>\n",
       "      <td>/editions/9</td>\n",
       "      <td>1928</td>\n",
       "      <td>Amsterdam</td>\n",
       "      <td>/images/flags/NED.png</td>\n",
       "      <td>NED</td>\n",
       "      <td>1928-05-17</td>\n",
       "      <td>1928-08-12</td>\n",
       "      <td>87.0</td>\n",
       "      <td>summer</td>\n",
       "      <td>...</td>\n",
       "      <td>NaN</td>\n",
       "      <td>NaN</td>\n",
       "      <td>NaN</td>\n",
       "      <td>266.617</td>\n",
       "      <td>NaN</td>\n",
       "      <td>NaN</td>\n",
       "      <td>NaN</td>\n",
       "      <td>1046.761</td>\n",
       "      <td>NaN</td>\n",
       "      <td>NaN</td>\n",
       "    </tr>\n",
       "  </tbody>\n",
       "</table>\n",
       "<p>10 rows × 58 columns</p>\n",
       "</div>"
      ],
      "text/plain": [
       "   edition_id   edition_url  year          city       country_flag_url  \\\n",
       "0           1   /editions/1  1896        Athina  /images/flags/GRE.png   \n",
       "1           2   /editions/2  1900         Paris  /images/flags/FRA.png   \n",
       "2           3   /editions/3  1904     St. Louis  /images/flags/USA.png   \n",
       "3           5   /editions/5  1908        London  /images/flags/GBR.png   \n",
       "4           6   /editions/6  1912     Stockholm  /images/flags/SWE.png   \n",
       "5           7   /editions/7  1920     Antwerpen  /images/flags/BEL.png   \n",
       "6          29  /editions/29  1924      Chamonix  /images/flags/FRA.png   \n",
       "7           8   /editions/8  1924         Paris  /images/flags/FRA.png   \n",
       "8          30  /editions/30  1928  Sankt Moritz  /images/flags/SUI.png   \n",
       "9           9   /editions/9  1928     Amsterdam  /images/flags/NED.png   \n",
       "\n",
       "  country_noc competition_start_date competition_end_date  duration_days  \\\n",
       "0         GRE             1896-04-06           1896-04-13            7.0   \n",
       "1         FRA             1900-05-14           1900-10-28          167.0   \n",
       "2         USA             1904-07-01           1904-11-23          145.0   \n",
       "3         GBR             1908-04-27           1908-10-31          187.0   \n",
       "4         SWE             1912-05-05           1912-07-27           83.0   \n",
       "5         BEL             1920-04-23           1920-09-12          142.0   \n",
       "6         FRA             1924-01-26           1924-02-04            9.0   \n",
       "7         FRA             1924-05-04           1924-07-27           84.0   \n",
       "8         SUI             1928-02-11           1928-02-19            8.0   \n",
       "9         NED             1928-05-17           1928-08-12           87.0   \n",
       "\n",
       "   season  ...  fossil_energy_per_capita  gas_elec_per_capita  \\\n",
       "0  summer  ...                       NaN                  NaN   \n",
       "1  summer  ...                       NaN                  NaN   \n",
       "2  summer  ...                       NaN                  NaN   \n",
       "3  summer  ...                       NaN                  NaN   \n",
       "4  summer  ...                       NaN                  NaN   \n",
       "5  summer  ...                       NaN                  NaN   \n",
       "6  winter  ...                       NaN                  NaN   \n",
       "7  summer  ...                       NaN                  NaN   \n",
       "8  winter  ...                       NaN                  NaN   \n",
       "9  summer  ...                       NaN                  NaN   \n",
       "\n",
       "   gas_energy_per_capita  gas_prod_per_capita hydro_energy_per_capita  \\\n",
       "0                    NaN                  NaN                     NaN   \n",
       "1                    NaN               45.360                     NaN   \n",
       "2                    NaN               62.980                     NaN   \n",
       "3                    NaN               79.259                     NaN   \n",
       "4                    NaN               97.332                     NaN   \n",
       "5                    NaN              127.317                     NaN   \n",
       "6                    NaN              182.827                     NaN   \n",
       "7                    NaN              182.827                     NaN   \n",
       "8                    NaN              266.617                     NaN   \n",
       "9                    NaN              266.617                     NaN   \n",
       "\n",
       "   nuclear_energy_per_capita  oil_energy_per_capita  oil_prod_per_capita  \\\n",
       "0                        NaN                    NaN                  NaN   \n",
       "1                        NaN                    NaN              144.328   \n",
       "2                        NaN                    NaN              203.922   \n",
       "3                        NaN                    NaN              258.094   \n",
       "4                        NaN                    NaN              308.034   \n",
       "5                        NaN                    NaN              609.481   \n",
       "6                        NaN                    NaN              840.687   \n",
       "7                        NaN                    NaN              840.687   \n",
       "8                        NaN                    NaN             1046.761   \n",
       "9                        NaN                    NaN             1046.761   \n",
       "\n",
       "   renewables_energy_per_capita  solar_energy_per_capita  \n",
       "0                           NaN                      NaN  \n",
       "1                           NaN                      NaN  \n",
       "2                           NaN                      NaN  \n",
       "3                           NaN                      NaN  \n",
       "4                           NaN                      NaN  \n",
       "5                           NaN                      NaN  \n",
       "6                           NaN                      NaN  \n",
       "7                           NaN                      NaN  \n",
       "8                           NaN                      NaN  \n",
       "9                           NaN                      NaN  \n",
       "\n",
       "[10 rows x 58 columns]"
      ]
     },
     "execution_count": 37,
     "metadata": {},
     "output_type": "execute_result"
    }
   ],
   "source": [
    "olympic_df.head(10)"
   ]
  },
  {
   "cell_type": "markdown",
   "metadata": {},
   "source": [
    "# Add the country medal tally"
   ]
  },
  {
   "cell_type": "code",
   "execution_count": 38,
   "metadata": {},
   "outputs": [],
   "source": [
    "# import event medal tally - this is included with the initial Kaggle dataset\n",
    "\n",
    "medal_tally = pd.read_csv(\"data/gh_olympic_data/Olympic_Games_Medal_Tally.csv\")\n",
    "\n",
    "medal_tally.drop(columns=[\"edition\", \"country_noc\"], inplace=True)"
   ]
  },
  {
   "cell_type": "code",
   "execution_count": 42,
   "metadata": {},
   "outputs": [
    {
     "data": {
      "text/html": [
       "<div>\n",
       "<style scoped>\n",
       "    .dataframe tbody tr th:only-of-type {\n",
       "        vertical-align: middle;\n",
       "    }\n",
       "\n",
       "    .dataframe tbody tr th {\n",
       "        vertical-align: top;\n",
       "    }\n",
       "\n",
       "    .dataframe thead th {\n",
       "        text-align: right;\n",
       "    }\n",
       "</style>\n",
       "<table border=\"1\" class=\"dataframe\">\n",
       "  <thead>\n",
       "    <tr style=\"text-align: right;\">\n",
       "      <th></th>\n",
       "      <th>edition_id</th>\n",
       "      <th>bronze_Afghanistan</th>\n",
       "      <th>bronze_Algeria</th>\n",
       "      <th>bronze_Argentina</th>\n",
       "      <th>bronze_Armenia</th>\n",
       "      <th>bronze_Australasia</th>\n",
       "      <th>bronze_Australia</th>\n",
       "      <th>bronze_Austria</th>\n",
       "      <th>bronze_Azerbaijan</th>\n",
       "      <th>bronze_Bahrain</th>\n",
       "      <th>...</th>\n",
       "      <th>total_United States Virgin Islands</th>\n",
       "      <th>total_Uruguay</th>\n",
       "      <th>total_Uzbekistan</th>\n",
       "      <th>total_Venezuela</th>\n",
       "      <th>total_Vietnam</th>\n",
       "      <th>total_West Germany</th>\n",
       "      <th>total_West Indies Federation</th>\n",
       "      <th>total_Yugoslavia</th>\n",
       "      <th>total_Zambia</th>\n",
       "      <th>total_Zimbabwe</th>\n",
       "    </tr>\n",
       "  </thead>\n",
       "  <tbody>\n",
       "    <tr>\n",
       "      <th>52</th>\n",
       "      <td>60</td>\n",
       "      <td>NaN</td>\n",
       "      <td>NaN</td>\n",
       "      <td>NaN</td>\n",
       "      <td>NaN</td>\n",
       "      <td>NaN</td>\n",
       "      <td>1.0</td>\n",
       "      <td>6.0</td>\n",
       "      <td>NaN</td>\n",
       "      <td>NaN</td>\n",
       "      <td>...</td>\n",
       "      <td>NaN</td>\n",
       "      <td>NaN</td>\n",
       "      <td>NaN</td>\n",
       "      <td>NaN</td>\n",
       "      <td>NaN</td>\n",
       "      <td>NaN</td>\n",
       "      <td>NaN</td>\n",
       "      <td>NaN</td>\n",
       "      <td>NaN</td>\n",
       "      <td>NaN</td>\n",
       "    </tr>\n",
       "    <tr>\n",
       "      <th>53</th>\n",
       "      <td>61</td>\n",
       "      <td>NaN</td>\n",
       "      <td>NaN</td>\n",
       "      <td>2.0</td>\n",
       "      <td>2.0</td>\n",
       "      <td>NaN</td>\n",
       "      <td>22.0</td>\n",
       "      <td>5.0</td>\n",
       "      <td>4.0</td>\n",
       "      <td>0.0</td>\n",
       "      <td>...</td>\n",
       "      <td>NaN</td>\n",
       "      <td>NaN</td>\n",
       "      <td>5.0</td>\n",
       "      <td>4.0</td>\n",
       "      <td>NaN</td>\n",
       "      <td>NaN</td>\n",
       "      <td>NaN</td>\n",
       "      <td>NaN</td>\n",
       "      <td>NaN</td>\n",
       "      <td>NaN</td>\n",
       "    </tr>\n",
       "    <tr>\n",
       "      <th>54</th>\n",
       "      <td>62</td>\n",
       "      <td>NaN</td>\n",
       "      <td>NaN</td>\n",
       "      <td>NaN</td>\n",
       "      <td>NaN</td>\n",
       "      <td>NaN</td>\n",
       "      <td>1.0</td>\n",
       "      <td>4.0</td>\n",
       "      <td>NaN</td>\n",
       "      <td>NaN</td>\n",
       "      <td>...</td>\n",
       "      <td>NaN</td>\n",
       "      <td>NaN</td>\n",
       "      <td>NaN</td>\n",
       "      <td>NaN</td>\n",
       "      <td>NaN</td>\n",
       "      <td>NaN</td>\n",
       "      <td>NaN</td>\n",
       "      <td>NaN</td>\n",
       "      <td>NaN</td>\n",
       "      <td>NaN</td>\n",
       "    </tr>\n",
       "  </tbody>\n",
       "</table>\n",
       "<p>3 rows × 617 columns</p>\n",
       "</div>"
      ],
      "text/plain": [
       "    edition_id  bronze_Afghanistan  bronze_Algeria  bronze_Argentina  \\\n",
       "52          60                 NaN             NaN               NaN   \n",
       "53          61                 NaN             NaN               2.0   \n",
       "54          62                 NaN             NaN               NaN   \n",
       "\n",
       "    bronze_Armenia  bronze_Australasia  bronze_Australia  bronze_Austria  \\\n",
       "52             NaN                 NaN               1.0             6.0   \n",
       "53             2.0                 NaN              22.0             5.0   \n",
       "54             NaN                 NaN               1.0             4.0   \n",
       "\n",
       "    bronze_Azerbaijan  bronze_Bahrain  ...  \\\n",
       "52                NaN             NaN  ...   \n",
       "53                4.0             0.0  ...   \n",
       "54                NaN             NaN  ...   \n",
       "\n",
       "    total_United States Virgin Islands  total_Uruguay  total_Uzbekistan  \\\n",
       "52                                 NaN            NaN               NaN   \n",
       "53                                 NaN            NaN               5.0   \n",
       "54                                 NaN            NaN               NaN   \n",
       "\n",
       "    total_Venezuela  total_Vietnam  total_West Germany  \\\n",
       "52              NaN            NaN                 NaN   \n",
       "53              4.0            NaN                 NaN   \n",
       "54              NaN            NaN                 NaN   \n",
       "\n",
       "    total_West Indies Federation  total_Yugoslavia  total_Zambia  \\\n",
       "52                           NaN               NaN           NaN   \n",
       "53                           NaN               NaN           NaN   \n",
       "54                           NaN               NaN           NaN   \n",
       "\n",
       "    total_Zimbabwe  \n",
       "52             NaN  \n",
       "53             NaN  \n",
       "54             NaN  \n",
       "\n",
       "[3 rows x 617 columns]"
      ]
     },
     "execution_count": 42,
     "metadata": {},
     "output_type": "execute_result"
    }
   ],
   "source": [
    "# Create a multi-index pivot table\n",
    "medal_pivot_df = medal_tally.pivot_table(index='edition_id', columns='country', values=['gold', 'silver', 'bronze', 'total'], aggfunc='sum')\n",
    "\n",
    "# Flatten the multi-index\n",
    "medal_pivot_df.columns = ['_'.join(col).strip() for col in medal_pivot_df.columns.values]\n",
    "\n",
    "# Reset the index\n",
    "medal_pivot_df.reset_index(inplace=True)\n",
    "\n",
    "medal_pivot_df.tail(3)"
   ]
  },
  {
   "cell_type": "markdown",
   "metadata": {},
   "source": [
    "# Step two - bring in athlete and event results"
   ]
  },
  {
   "cell_type": "markdown",
   "metadata": {},
   "source": [
    "## Athlete bios"
   ]
  },
  {
   "cell_type": "code",
   "execution_count": 48,
   "metadata": {},
   "outputs": [],
   "source": [
    "# load athlete bio\n",
    "athlete_bios = pd.read_csv(\"data/gh_olympic_data/Olympic_Athlete_Bio.csv\")\n",
    "\n",
    "# remove columns : description, special_notes\n",
    "athlete_bios.drop(columns=[\"description\", \"special_notes\"], inplace=True)"
   ]
  },
  {
   "cell_type": "code",
   "execution_count": 49,
   "metadata": {},
   "outputs": [
    {
     "data": {
      "text/html": [
       "<div>\n",
       "<style scoped>\n",
       "    .dataframe tbody tr th:only-of-type {\n",
       "        vertical-align: middle;\n",
       "    }\n",
       "\n",
       "    .dataframe tbody tr th {\n",
       "        vertical-align: top;\n",
       "    }\n",
       "\n",
       "    .dataframe thead th {\n",
       "        text-align: right;\n",
       "    }\n",
       "</style>\n",
       "<table border=\"1\" class=\"dataframe\">\n",
       "  <thead>\n",
       "    <tr style=\"text-align: right;\">\n",
       "      <th></th>\n",
       "      <th>athlete_id</th>\n",
       "      <th>name</th>\n",
       "      <th>sex</th>\n",
       "      <th>born</th>\n",
       "      <th>height</th>\n",
       "      <th>weight</th>\n",
       "      <th>country</th>\n",
       "      <th>country_noc</th>\n",
       "      <th>first_name</th>\n",
       "    </tr>\n",
       "  </thead>\n",
       "  <tbody>\n",
       "    <tr>\n",
       "      <th>0</th>\n",
       "      <td>16809</td>\n",
       "      <td>Károly Teppert</td>\n",
       "      <td>Male</td>\n",
       "      <td>1891-07-20</td>\n",
       "      <td>na</td>\n",
       "      <td>na</td>\n",
       "      <td>Hungary</td>\n",
       "      <td>HUN</td>\n",
       "      <td>karoly</td>\n",
       "    </tr>\n",
       "    <tr>\n",
       "      <th>1</th>\n",
       "      <td>43737</td>\n",
       "      <td>Andrzej Socharski</td>\n",
       "      <td>Male</td>\n",
       "      <td>1947-08-31</td>\n",
       "      <td>173.0</td>\n",
       "      <td>72</td>\n",
       "      <td>Poland</td>\n",
       "      <td>POL</td>\n",
       "      <td>andrzej</td>\n",
       "    </tr>\n",
       "    <tr>\n",
       "      <th>2</th>\n",
       "      <td>50147</td>\n",
       "      <td>Nathalie Wunderlich</td>\n",
       "      <td>Female</td>\n",
       "      <td>1971-06-03</td>\n",
       "      <td>170.0</td>\n",
       "      <td>50</td>\n",
       "      <td>Switzerland</td>\n",
       "      <td>SUI</td>\n",
       "      <td>nathalie</td>\n",
       "    </tr>\n",
       "  </tbody>\n",
       "</table>\n",
       "</div>"
      ],
      "text/plain": [
       "   athlete_id                 name     sex        born height weight  \\\n",
       "0       16809       Károly Teppert    Male  1891-07-20     na     na   \n",
       "1       43737    Andrzej Socharski    Male  1947-08-31  173.0     72   \n",
       "2       50147  Nathalie Wunderlich  Female  1971-06-03  170.0     50   \n",
       "\n",
       "        country country_noc first_name  \n",
       "0       Hungary         HUN     karoly  \n",
       "1        Poland         POL    andrzej  \n",
       "2   Switzerland         SUI   nathalie  "
      ]
     },
     "execution_count": 49,
     "metadata": {},
     "output_type": "execute_result"
    }
   ],
   "source": [
    "# extract first name\n",
    "athlete_bios[\"first_name\"] = athlete_bios[\"name\"].str.split(\" \").str[0]\n",
    "\n",
    "# normalize strings\n",
    "from unidecode import unidecode\n",
    "\n",
    "athlete_bios[\"first_name\"] = athlete_bios[\"first_name\"].apply(lambda x: unidecode(x).lower())\n",
    "\n",
    "# remove names with a period\n",
    "athlete_bios = athlete_bios[~athlete_bios[\"first_name\"].str.contains(\"\\.\")]\n",
    "\n",
    "athlete_bios.head(3)"
   ]
  },
  {
   "cell_type": "markdown",
   "metadata": {},
   "source": [
    "## Athlete results"
   ]
  },
  {
   "cell_type": "code",
   "execution_count": 51,
   "metadata": {},
   "outputs": [
    {
     "data": {
      "text/html": [
       "<div>\n",
       "<style scoped>\n",
       "    .dataframe tbody tr th:only-of-type {\n",
       "        vertical-align: middle;\n",
       "    }\n",
       "\n",
       "    .dataframe tbody tr th {\n",
       "        vertical-align: top;\n",
       "    }\n",
       "\n",
       "    .dataframe thead th {\n",
       "        text-align: right;\n",
       "    }\n",
       "</style>\n",
       "<table border=\"1\" class=\"dataframe\">\n",
       "  <thead>\n",
       "    <tr style=\"text-align: right;\">\n",
       "      <th></th>\n",
       "      <th>edition</th>\n",
       "      <th>edition_id</th>\n",
       "      <th>sport</th>\n",
       "      <th>event</th>\n",
       "      <th>result_id</th>\n",
       "      <th>athlete</th>\n",
       "      <th>athlete_id</th>\n",
       "      <th>pos</th>\n",
       "      <th>medal</th>\n",
       "      <th>isTeamSport</th>\n",
       "    </tr>\n",
       "  </thead>\n",
       "  <tbody>\n",
       "    <tr>\n",
       "      <th>0</th>\n",
       "      <td>1908 Summer Olympics</td>\n",
       "      <td>5</td>\n",
       "      <td>Athletics</td>\n",
       "      <td>100 metres, Men</td>\n",
       "      <td>56265</td>\n",
       "      <td>Ernest Hutcheon</td>\n",
       "      <td>64710</td>\n",
       "      <td>DNS</td>\n",
       "      <td>na</td>\n",
       "      <td>False</td>\n",
       "    </tr>\n",
       "    <tr>\n",
       "      <th>1</th>\n",
       "      <td>1908 Summer Olympics</td>\n",
       "      <td>5</td>\n",
       "      <td>Athletics</td>\n",
       "      <td>400 metres, Men</td>\n",
       "      <td>56313</td>\n",
       "      <td>Henry Murray</td>\n",
       "      <td>64756</td>\n",
       "      <td>DNS</td>\n",
       "      <td>na</td>\n",
       "      <td>False</td>\n",
       "    </tr>\n",
       "    <tr>\n",
       "      <th>2</th>\n",
       "      <td>1908 Summer Olympics</td>\n",
       "      <td>5</td>\n",
       "      <td>Athletics</td>\n",
       "      <td>800 metres, Men</td>\n",
       "      <td>56338</td>\n",
       "      <td>Harvey Sutton</td>\n",
       "      <td>64808</td>\n",
       "      <td>3 h8 r1/2</td>\n",
       "      <td>na</td>\n",
       "      <td>False</td>\n",
       "    </tr>\n",
       "  </tbody>\n",
       "</table>\n",
       "</div>"
      ],
      "text/plain": [
       "                edition  edition_id      sport            event  result_id  \\\n",
       "0  1908 Summer Olympics           5  Athletics  100 metres, Men      56265   \n",
       "1  1908 Summer Olympics           5  Athletics  400 metres, Men      56313   \n",
       "2  1908 Summer Olympics           5  Athletics  800 metres, Men      56338   \n",
       "\n",
       "           athlete  athlete_id        pos medal  isTeamSport  \n",
       "0  Ernest Hutcheon       64710        DNS    na        False  \n",
       "1     Henry Murray       64756        DNS    na        False  \n",
       "2    Harvey Sutton       64808  3 h8 r1/2    na        False  "
      ]
     },
     "execution_count": 51,
     "metadata": {},
     "output_type": "execute_result"
    }
   ],
   "source": [
    "# load athlete event_results \n",
    "athlete_results = pd.read_csv(\"data/gh_olympic_data/Olympic_Athlete_Event_Results.csv\")\n",
    "\n",
    "#drop country code\n",
    "athlete_results.drop(columns=[\"country_noc\"], inplace=True)\n",
    "\n",
    "athlete_results.head(3)"
   ]
  },
  {
   "cell_type": "markdown",
   "metadata": {},
   "source": [
    "## Global results"
   ]
  },
  {
   "cell_type": "code",
   "execution_count": 52,
   "metadata": {},
   "outputs": [
    {
     "data": {
      "text/html": [
       "<div>\n",
       "<style scoped>\n",
       "    .dataframe tbody tr th:only-of-type {\n",
       "        vertical-align: middle;\n",
       "    }\n",
       "\n",
       "    .dataframe tbody tr th {\n",
       "        vertical-align: top;\n",
       "    }\n",
       "\n",
       "    .dataframe thead th {\n",
       "        text-align: right;\n",
       "    }\n",
       "</style>\n",
       "<table border=\"1\" class=\"dataframe\">\n",
       "  <thead>\n",
       "    <tr style=\"text-align: right;\">\n",
       "      <th></th>\n",
       "      <th>result_id</th>\n",
       "      <th>event_title</th>\n",
       "      <th>edition</th>\n",
       "      <th>edition_id</th>\n",
       "      <th>sport</th>\n",
       "      <th>start_date</th>\n",
       "      <th>end_date</th>\n",
       "      <th>event_num_participants</th>\n",
       "      <th>event_num_countries</th>\n",
       "    </tr>\n",
       "  </thead>\n",
       "  <tbody>\n",
       "    <tr>\n",
       "      <th>0</th>\n",
       "      <td>9270</td>\n",
       "      <td>7 metres, 1907 Rating, Open</td>\n",
       "      <td>1920 Summer Olympics</td>\n",
       "      <td>7</td>\n",
       "      <td>Sailing</td>\n",
       "      <td>1920-07-07</td>\n",
       "      <td>1920-07-09</td>\n",
       "      <td>8</td>\n",
       "      <td>2</td>\n",
       "    </tr>\n",
       "    <tr>\n",
       "      <th>1</th>\n",
       "      <td>29722</td>\n",
       "      <td>Featherweight (≤60 kilograms), Men</td>\n",
       "      <td>1980 Summer Olympics</td>\n",
       "      <td>20</td>\n",
       "      <td>Weightlifting</td>\n",
       "      <td>1980-07-22</td>\n",
       "      <td>na</td>\n",
       "      <td>18</td>\n",
       "      <td>14</td>\n",
       "    </tr>\n",
       "    <tr>\n",
       "      <th>2</th>\n",
       "      <td>54126</td>\n",
       "      <td>Platform, Men</td>\n",
       "      <td>1948 Summer Olympics</td>\n",
       "      <td>12</td>\n",
       "      <td>Diving</td>\n",
       "      <td>1948-08-04</td>\n",
       "      <td>1948-08-05</td>\n",
       "      <td>25</td>\n",
       "      <td>15</td>\n",
       "    </tr>\n",
       "  </tbody>\n",
       "</table>\n",
       "</div>"
      ],
      "text/plain": [
       "   result_id                         event_title               edition  \\\n",
       "0       9270         7 metres, 1907 Rating, Open  1920 Summer Olympics   \n",
       "1      29722  Featherweight (≤60 kilograms), Men  1980 Summer Olympics   \n",
       "2      54126                       Platform, Men  1948 Summer Olympics   \n",
       "\n",
       "   edition_id          sport  start_date    end_date event_num_participants  \\\n",
       "0           7        Sailing  1920-07-07  1920-07-09                      8   \n",
       "1          20  Weightlifting  1980-07-22          na                     18   \n",
       "2          12         Diving  1948-08-04  1948-08-05                     25   \n",
       "\n",
       "  event_num_countries  \n",
       "0                   2  \n",
       "1                  14  \n",
       "2                  15  "
      ]
     },
     "execution_count": 52,
     "metadata": {},
     "output_type": "execute_result"
    }
   ],
   "source": [
    "# load results file\n",
    "\n",
    "results_df = pd.read_csv(\"data/gh_olympic_data/Olympic_Results.csv\")\n",
    "\n",
    "# separate result_participants string (8 from 2 countries) into two strings\n",
    "results_df[\"result_participants\"] = results_df[\"result_participants\"].str.split(\" from \") \n",
    "\n",
    "#split into two columns : event_num_participants, event_num_countries\n",
    "results_df[\"event_num_participants\"] = results_df[\"result_participants\"].str[0].str.extract(\"(\\d+)\")\n",
    "results_df[\"event_num_countries\"] = results_df[\"result_participants\"].str[1].str.extract(\"(\\d+)\")\n",
    "\n",
    "# remove columns : result_description, time, sport_url, result_location, result_participants\n",
    "results_df.drop(columns=[\"result_description\", \"time\", \"sport_url\", \"result_format\", \"result_detail\", \"result_location\", \"result_participants\"], inplace=True)\n",
    "\n",
    "# preview\n",
    "results_df.head(3)"
   ]
  },
  {
   "cell_type": "markdown",
   "metadata": {},
   "source": [
    "## Aggregation"
   ]
  },
  {
   "cell_type": "markdown",
   "metadata": {},
   "source": [
    "### Join all datasets - athlete bio, athlete results and global results"
   ]
  },
  {
   "cell_type": "code",
   "execution_count": 55,
   "metadata": {},
   "outputs": [],
   "source": [
    "# join with athlete bio\n",
    "athlete_results_full = athlete_results.merge(athlete_bios, on=\"athlete_id\", how=\"left\")\n",
    "\n",
    "# join with results\n",
    "athlete_results_full = athlete_results_full.merge(results_df, on=[\"result_id\", \"edition\", \"edition_id\", \"sport\"], how=\"left\")\n"
   ]
  },
  {
   "cell_type": "code",
   "execution_count": 57,
   "metadata": {},
   "outputs": [
    {
     "data": {
      "text/plain": [
       "0         1889-06-17\n",
       "1         1886-01-14\n",
       "2         1882-02-18\n",
       "3         1883-12-23\n",
       "4         1878-04-22\n",
       "             ...    \n",
       "314902    1993-01-11\n",
       "314903    2002-03-29\n",
       "314904    1992-04-23\n",
       "314905    1985-08-29\n",
       "314906    1993-08-10\n",
       "Name: born, Length: 314907, dtype: object"
      ]
     },
     "execution_count": 57,
     "metadata": {},
     "output_type": "execute_result"
    }
   ],
   "source": [
    "athlete_results_full[\"born\"]"
   ]
  },
  {
   "cell_type": "code",
   "execution_count": 60,
   "metadata": {},
   "outputs": [
    {
     "data": {
      "text/html": [
       "<div>\n",
       "<style scoped>\n",
       "    .dataframe tbody tr th:only-of-type {\n",
       "        vertical-align: middle;\n",
       "    }\n",
       "\n",
       "    .dataframe tbody tr th {\n",
       "        vertical-align: top;\n",
       "    }\n",
       "\n",
       "    .dataframe thead th {\n",
       "        text-align: right;\n",
       "    }\n",
       "</style>\n",
       "<table border=\"1\" class=\"dataframe\">\n",
       "  <thead>\n",
       "    <tr style=\"text-align: right;\">\n",
       "      <th></th>\n",
       "      <th>edition</th>\n",
       "      <th>edition_id</th>\n",
       "      <th>sport</th>\n",
       "      <th>event</th>\n",
       "      <th>result_id</th>\n",
       "      <th>athlete</th>\n",
       "      <th>athlete_id</th>\n",
       "      <th>pos</th>\n",
       "      <th>medal</th>\n",
       "      <th>isTeamSport</th>\n",
       "      <th>...</th>\n",
       "      <th>country</th>\n",
       "      <th>country_noc</th>\n",
       "      <th>first_name</th>\n",
       "      <th>event_title</th>\n",
       "      <th>start_date</th>\n",
       "      <th>end_date</th>\n",
       "      <th>event_num_participants</th>\n",
       "      <th>event_num_countries</th>\n",
       "      <th>athlete_age</th>\n",
       "      <th>birth_year</th>\n",
       "    </tr>\n",
       "  </thead>\n",
       "  <tbody>\n",
       "    <tr>\n",
       "      <th>0</th>\n",
       "      <td>1908 Summer Olympics</td>\n",
       "      <td>5</td>\n",
       "      <td>Athletics</td>\n",
       "      <td>100 metres, Men</td>\n",
       "      <td>56265</td>\n",
       "      <td>Ernest Hutcheon</td>\n",
       "      <td>64710</td>\n",
       "      <td>DNS</td>\n",
       "      <td>na</td>\n",
       "      <td>False</td>\n",
       "      <td>...</td>\n",
       "      <td>Australasia</td>\n",
       "      <td>ANZ</td>\n",
       "      <td>ernest</td>\n",
       "      <td>100 metres, Men</td>\n",
       "      <td>1908-07-20</td>\n",
       "      <td>1908-07-22</td>\n",
       "      <td>60</td>\n",
       "      <td>16</td>\n",
       "      <td>19.0</td>\n",
       "      <td>1889.0</td>\n",
       "    </tr>\n",
       "    <tr>\n",
       "      <th>1</th>\n",
       "      <td>1908 Summer Olympics</td>\n",
       "      <td>5</td>\n",
       "      <td>Athletics</td>\n",
       "      <td>400 metres, Men</td>\n",
       "      <td>56313</td>\n",
       "      <td>Henry Murray</td>\n",
       "      <td>64756</td>\n",
       "      <td>DNS</td>\n",
       "      <td>na</td>\n",
       "      <td>False</td>\n",
       "      <td>...</td>\n",
       "      <td>Australasia</td>\n",
       "      <td>ANZ</td>\n",
       "      <td>henry</td>\n",
       "      <td>400 metres, Men</td>\n",
       "      <td>1908-07-21</td>\n",
       "      <td>1908-07-25</td>\n",
       "      <td>37</td>\n",
       "      <td>11</td>\n",
       "      <td>22.0</td>\n",
       "      <td>1886.0</td>\n",
       "    </tr>\n",
       "    <tr>\n",
       "      <th>2</th>\n",
       "      <td>1908 Summer Olympics</td>\n",
       "      <td>5</td>\n",
       "      <td>Athletics</td>\n",
       "      <td>800 metres, Men</td>\n",
       "      <td>56338</td>\n",
       "      <td>Harvey Sutton</td>\n",
       "      <td>64808</td>\n",
       "      <td>3 h8 r1/2</td>\n",
       "      <td>na</td>\n",
       "      <td>False</td>\n",
       "      <td>...</td>\n",
       "      <td>Australasia</td>\n",
       "      <td>ANZ</td>\n",
       "      <td>harvey</td>\n",
       "      <td>800 metres, Men</td>\n",
       "      <td>1908-07-20</td>\n",
       "      <td>1908-07-21</td>\n",
       "      <td>38</td>\n",
       "      <td>11</td>\n",
       "      <td>26.0</td>\n",
       "      <td>1882.0</td>\n",
       "    </tr>\n",
       "  </tbody>\n",
       "</table>\n",
       "<p>3 rows × 25 columns</p>\n",
       "</div>"
      ],
      "text/plain": [
       "                edition  edition_id      sport            event  result_id  \\\n",
       "0  1908 Summer Olympics           5  Athletics  100 metres, Men      56265   \n",
       "1  1908 Summer Olympics           5  Athletics  400 metres, Men      56313   \n",
       "2  1908 Summer Olympics           5  Athletics  800 metres, Men      56338   \n",
       "\n",
       "           athlete  athlete_id        pos medal  isTeamSport  ...  \\\n",
       "0  Ernest Hutcheon       64710        DNS    na        False  ...   \n",
       "1     Henry Murray       64756        DNS    na        False  ...   \n",
       "2    Harvey Sutton       64808  3 h8 r1/2    na        False  ...   \n",
       "\n",
       "        country country_noc first_name      event_title  start_date  \\\n",
       "0   Australasia         ANZ     ernest  100 metres, Men  1908-07-20   \n",
       "1   Australasia         ANZ      henry  400 metres, Men  1908-07-21   \n",
       "2   Australasia         ANZ     harvey  800 metres, Men  1908-07-20   \n",
       "\n",
       "     end_date event_num_participants event_num_countries athlete_age  \\\n",
       "0  1908-07-22                     60                  16        19.0   \n",
       "1  1908-07-25                     37                  11        22.0   \n",
       "2  1908-07-21                     38                  11        26.0   \n",
       "\n",
       "  birth_year  \n",
       "0     1889.0  \n",
       "1     1886.0  \n",
       "2     1882.0  \n",
       "\n",
       "[3 rows x 25 columns]"
      ]
     },
     "execution_count": 60,
     "metadata": {},
     "output_type": "execute_result"
    }
   ],
   "source": [
    "# join with athlete bio\n",
    "athlete_results_full = athlete_results.merge(athlete_bios, on=\"athlete_id\", how=\"left\")\n",
    "\n",
    "# join with results\n",
    "athlete_results_full = athlete_results_full.merge(results_df, on=[\"result_id\", \"edition\", \"edition_id\", \"sport\"], how=\"left\")\n",
    "\n",
    "# add athlete age (\"first 4 characters of edition\" - born)\n",
    "athlete_results_full[\"athlete_age\"] = athlete_results_full[\"edition\"].str[:4].astype(int) - pd.to_datetime(athlete_results_full[\"born\"], errors = \"coerce\").dt.year\n",
    "\n",
    "# add athlete birth year\n",
    "athlete_results_full[\"birth_year\"] = pd.to_datetime(athlete_results_full[\"born\"], errors = \"coerce\").dt.year\n",
    "\n",
    "# Convert columns to numeric \n",
    "for col in [\"athlete_age\", \"height\", \"weight\"]:\n",
    "    athlete_results_full[col] = pd.to_numeric(athlete_results_full[col], errors='coerce')\n",
    "\n",
    "# preview\n",
    "athlete_results_full.head(3)"
   ]
  },
  {
   "cell_type": "code",
   "execution_count": 61,
   "metadata": {},
   "outputs": [
    {
     "data": {
      "text/plain": [
       "Index(['edition', 'edition_id', 'sport', 'event', 'result_id', 'athlete',\n",
       "       'athlete_id', 'pos', 'medal', 'isTeamSport', 'name', 'sex', 'born',\n",
       "       'height', 'weight', 'country', 'country_noc', 'first_name',\n",
       "       'event_title', 'start_date', 'end_date', 'event_num_participants',\n",
       "       'event_num_countries', 'athlete_age', 'birth_year'],\n",
       "      dtype='object')"
      ]
     },
     "execution_count": 61,
     "metadata": {},
     "output_type": "execute_result"
    }
   ],
   "source": [
    "# see columns\n",
    "athlete_results_full.columns"
   ]
  },
  {
   "cell_type": "markdown",
   "metadata": {},
   "source": [
    "### Number of participant per sport per edition"
   ]
  },
  {
   "cell_type": "code",
   "execution_count": 62,
   "metadata": {},
   "outputs": [
    {
     "data": {
      "text/html": [
       "<div>\n",
       "<style scoped>\n",
       "    .dataframe tbody tr th:only-of-type {\n",
       "        vertical-align: middle;\n",
       "    }\n",
       "\n",
       "    .dataframe tbody tr th {\n",
       "        vertical-align: top;\n",
       "    }\n",
       "\n",
       "    .dataframe thead th {\n",
       "        text-align: right;\n",
       "    }\n",
       "</style>\n",
       "<table border=\"1\" class=\"dataframe\">\n",
       "  <thead>\n",
       "    <tr style=\"text-align: right;\">\n",
       "      <th></th>\n",
       "      <th>edition_id</th>\n",
       "      <th>count_Alpine Skiing</th>\n",
       "      <th>count_Artistic Gymnastics</th>\n",
       "      <th>count_Athletics</th>\n",
       "      <th>count_Basketball</th>\n",
       "      <th>count_Bobsleigh</th>\n",
       "      <th>count_Boxing</th>\n",
       "      <th>count_Canoe Sprint</th>\n",
       "      <th>count_Cross Country Skiing</th>\n",
       "      <th>count_Cycling Road</th>\n",
       "      <th>...</th>\n",
       "      <th>count_Nordic Combined</th>\n",
       "      <th>count_Rowing</th>\n",
       "      <th>count_Sailing</th>\n",
       "      <th>count_Shooting</th>\n",
       "      <th>count_Ski Jumping</th>\n",
       "      <th>count_Speed Skating</th>\n",
       "      <th>count_Swimming</th>\n",
       "      <th>count_Water Polo</th>\n",
       "      <th>count_Weightlifting</th>\n",
       "      <th>count_Wrestling</th>\n",
       "    </tr>\n",
       "  </thead>\n",
       "  <tbody>\n",
       "    <tr>\n",
       "      <th>0</th>\n",
       "      <td>1</td>\n",
       "      <td>NaN</td>\n",
       "      <td>28.0</td>\n",
       "      <td>93.0</td>\n",
       "      <td>NaN</td>\n",
       "      <td>NaN</td>\n",
       "      <td>NaN</td>\n",
       "      <td>NaN</td>\n",
       "      <td>NaN</td>\n",
       "      <td>23.0</td>\n",
       "      <td>...</td>\n",
       "      <td>NaN</td>\n",
       "      <td>NaN</td>\n",
       "      <td>NaN</td>\n",
       "      <td>38.0</td>\n",
       "      <td>NaN</td>\n",
       "      <td>NaN</td>\n",
       "      <td>54.0</td>\n",
       "      <td>NaN</td>\n",
       "      <td>7.0</td>\n",
       "      <td>5.0</td>\n",
       "    </tr>\n",
       "    <tr>\n",
       "      <th>1</th>\n",
       "      <td>2</td>\n",
       "      <td>NaN</td>\n",
       "      <td>151.0</td>\n",
       "      <td>202.0</td>\n",
       "      <td>NaN</td>\n",
       "      <td>NaN</td>\n",
       "      <td>NaN</td>\n",
       "      <td>NaN</td>\n",
       "      <td>NaN</td>\n",
       "      <td>NaN</td>\n",
       "      <td>...</td>\n",
       "      <td>NaN</td>\n",
       "      <td>99.0</td>\n",
       "      <td>96.0</td>\n",
       "      <td>72.0</td>\n",
       "      <td>NaN</td>\n",
       "      <td>NaN</td>\n",
       "      <td>138.0</td>\n",
       "      <td>53.0</td>\n",
       "      <td>NaN</td>\n",
       "      <td>NaN</td>\n",
       "    </tr>\n",
       "    <tr>\n",
       "      <th>2</th>\n",
       "      <td>3</td>\n",
       "      <td>NaN</td>\n",
       "      <td>134.0</td>\n",
       "      <td>480.0</td>\n",
       "      <td>40.0</td>\n",
       "      <td>NaN</td>\n",
       "      <td>23.0</td>\n",
       "      <td>NaN</td>\n",
       "      <td>NaN</td>\n",
       "      <td>NaN</td>\n",
       "      <td>...</td>\n",
       "      <td>NaN</td>\n",
       "      <td>96.0</td>\n",
       "      <td>NaN</td>\n",
       "      <td>NaN</td>\n",
       "      <td>NaN</td>\n",
       "      <td>NaN</td>\n",
       "      <td>46.0</td>\n",
       "      <td>21.0</td>\n",
       "      <td>5.0</td>\n",
       "      <td>42.0</td>\n",
       "    </tr>\n",
       "  </tbody>\n",
       "</table>\n",
       "<p>3 rows × 31 columns</p>\n",
       "</div>"
      ],
      "text/plain": [
       "   edition_id  count_Alpine Skiing  count_Artistic Gymnastics  \\\n",
       "0           1                  NaN                       28.0   \n",
       "1           2                  NaN                      151.0   \n",
       "2           3                  NaN                      134.0   \n",
       "\n",
       "   count_Athletics  count_Basketball  count_Bobsleigh  count_Boxing  \\\n",
       "0             93.0               NaN              NaN           NaN   \n",
       "1            202.0               NaN              NaN           NaN   \n",
       "2            480.0              40.0              NaN          23.0   \n",
       "\n",
       "   count_Canoe Sprint  count_Cross Country Skiing  count_Cycling Road  ...  \\\n",
       "0                 NaN                         NaN                23.0  ...   \n",
       "1                 NaN                         NaN                 NaN  ...   \n",
       "2                 NaN                         NaN                 NaN  ...   \n",
       "\n",
       "   count_Nordic Combined  count_Rowing  count_Sailing  count_Shooting  \\\n",
       "0                    NaN           NaN            NaN            38.0   \n",
       "1                    NaN          99.0           96.0            72.0   \n",
       "2                    NaN          96.0            NaN             NaN   \n",
       "\n",
       "   count_Ski Jumping  count_Speed Skating  count_Swimming  count_Water Polo  \\\n",
       "0                NaN                  NaN            54.0               NaN   \n",
       "1                NaN                  NaN           138.0              53.0   \n",
       "2                NaN                  NaN            46.0              21.0   \n",
       "\n",
       "   count_Weightlifting  count_Wrestling  \n",
       "0                  7.0              5.0  \n",
       "1                  NaN              NaN  \n",
       "2                  5.0             42.0  \n",
       "\n",
       "[3 rows x 31 columns]"
      ]
     },
     "execution_count": 62,
     "metadata": {},
     "output_type": "execute_result"
    }
   ],
   "source": [
    "# Remove duplicate athlete IDs\n",
    "athlete_results_unique = athlete_results_full.drop_duplicates(subset=['edition_id', 'sport', 'athlete_id'])\n",
    "\n",
    "# create a pivot table with a few aggregations : average age, height and weight of distinct athlete ids per edition_id\n",
    "athlete_pivot_participants = athlete_results_unique.pivot_table(index=\"edition_id\", columns = \"sport\", values=[\"athlete_id\"], \n",
    "                                                   aggfunc={\"athlete_id\": [\"count\"]})\n",
    "\n",
    "# flatten multi-index\n",
    "athlete_pivot_participants.columns = [\"count_\"+col[2] for col in athlete_pivot_participants.columns.values]\n",
    "\n",
    "# reset index\n",
    "athlete_pivot_participants.reset_index(inplace=True)\n",
    "\n",
    "# Remove columns with less than 20 non-NaN values\n",
    "athlete_pivot_participants = athlete_pivot_participants.dropna(thresh=20, axis=1)\n",
    "\n",
    "# preview\n",
    "athlete_pivot_participants.head(3)"
   ]
  },
  {
   "cell_type": "markdown",
   "metadata": {},
   "source": [
    "### Age, height, weight per edition and sex\n",
    "\n",
    "We are looking at individual athletes per olympic event"
   ]
  },
  {
   "cell_type": "code",
   "execution_count": 64,
   "metadata": {},
   "outputs": [
    {
     "data": {
      "text/html": [
       "<div>\n",
       "<style scoped>\n",
       "    .dataframe tbody tr th:only-of-type {\n",
       "        vertical-align: middle;\n",
       "    }\n",
       "\n",
       "    .dataframe tbody tr th {\n",
       "        vertical-align: top;\n",
       "    }\n",
       "\n",
       "    .dataframe thead th {\n",
       "        text-align: right;\n",
       "    }\n",
       "</style>\n",
       "<table border=\"1\" class=\"dataframe\">\n",
       "  <thead>\n",
       "    <tr style=\"text-align: right;\">\n",
       "      <th></th>\n",
       "      <th>edition_id</th>\n",
       "      <th>max_athlete_age</th>\n",
       "      <th>mean_athlete_age</th>\n",
       "      <th>min_athlete_age</th>\n",
       "      <th>max_height</th>\n",
       "      <th>mean_height</th>\n",
       "      <th>min_height</th>\n",
       "      <th>max_weight</th>\n",
       "      <th>mean_weight</th>\n",
       "      <th>min_weight</th>\n",
       "      <th>...</th>\n",
       "      <th>mean_Female_height</th>\n",
       "      <th>mean_Male_height</th>\n",
       "      <th>min_Female_height</th>\n",
       "      <th>min_Male_height</th>\n",
       "      <th>max_Female_weight</th>\n",
       "      <th>max_Male_weight</th>\n",
       "      <th>mean_Female_weight</th>\n",
       "      <th>mean_Male_weight</th>\n",
       "      <th>min_Female_weight</th>\n",
       "      <th>min_Male_weight</th>\n",
       "    </tr>\n",
       "  </thead>\n",
       "  <tbody>\n",
       "    <tr>\n",
       "      <th>52</th>\n",
       "      <td>60</td>\n",
       "      <td>52.0</td>\n",
       "      <td>26.881796</td>\n",
       "      <td>16.0</td>\n",
       "      <td>203.0</td>\n",
       "      <td>174.925870</td>\n",
       "      <td>145.0</td>\n",
       "      <td>116.0</td>\n",
       "      <td>71.726437</td>\n",
       "      <td>34.0</td>\n",
       "      <td>...</td>\n",
       "      <td>166.702925</td>\n",
       "      <td>180.630311</td>\n",
       "      <td>145.0</td>\n",
       "      <td>159.0</td>\n",
       "      <td>89.0</td>\n",
       "      <td>116.0</td>\n",
       "      <td>60.692379</td>\n",
       "      <td>79.466102</td>\n",
       "      <td>34.0</td>\n",
       "      <td>50.0</td>\n",
       "    </tr>\n",
       "    <tr>\n",
       "      <th>53</th>\n",
       "      <td>61</td>\n",
       "      <td>66.0</td>\n",
       "      <td>26.364290</td>\n",
       "      <td>11.0</td>\n",
       "      <td>218.0</td>\n",
       "      <td>177.081697</td>\n",
       "      <td>133.0</td>\n",
       "      <td>160.0</td>\n",
       "      <td>72.016583</td>\n",
       "      <td>31.0</td>\n",
       "      <td>...</td>\n",
       "      <td>170.796312</td>\n",
       "      <td>183.054605</td>\n",
       "      <td>133.0</td>\n",
       "      <td>148.0</td>\n",
       "      <td>141.0</td>\n",
       "      <td>160.0</td>\n",
       "      <td>63.640726</td>\n",
       "      <td>79.920849</td>\n",
       "      <td>31.0</td>\n",
       "      <td>42.0</td>\n",
       "    </tr>\n",
       "    <tr>\n",
       "      <th>54</th>\n",
       "      <td>62</td>\n",
       "      <td>50.0</td>\n",
       "      <td>26.953619</td>\n",
       "      <td>16.0</td>\n",
       "      <td>203.0</td>\n",
       "      <td>174.552437</td>\n",
       "      <td>145.0</td>\n",
       "      <td>112.0</td>\n",
       "      <td>70.805556</td>\n",
       "      <td>38.0</td>\n",
       "      <td>...</td>\n",
       "      <td>166.840067</td>\n",
       "      <td>180.580263</td>\n",
       "      <td>145.0</td>\n",
       "      <td>159.0</td>\n",
       "      <td>84.0</td>\n",
       "      <td>112.0</td>\n",
       "      <td>61.006791</td>\n",
       "      <td>78.573351</td>\n",
       "      <td>38.0</td>\n",
       "      <td>50.0</td>\n",
       "    </tr>\n",
       "  </tbody>\n",
       "</table>\n",
       "<p>3 rows × 28 columns</p>\n",
       "</div>"
      ],
      "text/plain": [
       "    edition_id  max_athlete_age  mean_athlete_age  min_athlete_age  \\\n",
       "52          60             52.0         26.881796             16.0   \n",
       "53          61             66.0         26.364290             11.0   \n",
       "54          62             50.0         26.953619             16.0   \n",
       "\n",
       "    max_height  mean_height  min_height  max_weight  mean_weight  min_weight  \\\n",
       "52       203.0   174.925870       145.0       116.0    71.726437        34.0   \n",
       "53       218.0   177.081697       133.0       160.0    72.016583        31.0   \n",
       "54       203.0   174.552437       145.0       112.0    70.805556        38.0   \n",
       "\n",
       "    ...  mean_Female_height  mean_Male_height  min_Female_height  \\\n",
       "52  ...          166.702925        180.630311              145.0   \n",
       "53  ...          170.796312        183.054605              133.0   \n",
       "54  ...          166.840067        180.580263              145.0   \n",
       "\n",
       "    min_Male_height  max_Female_weight  max_Male_weight  mean_Female_weight  \\\n",
       "52            159.0               89.0            116.0           60.692379   \n",
       "53            148.0              141.0            160.0           63.640726   \n",
       "54            159.0               84.0            112.0           61.006791   \n",
       "\n",
       "    mean_Male_weight  min_Female_weight  min_Male_weight  \n",
       "52         79.466102               34.0             50.0  \n",
       "53         79.920849               31.0             42.0  \n",
       "54         78.573351               38.0             50.0  \n",
       "\n",
       "[3 rows x 28 columns]"
      ]
     },
     "execution_count": 64,
     "metadata": {},
     "output_type": "execute_result"
    }
   ],
   "source": [
    "# Remove duplicate athlete IDs\n",
    "athlete_results_unique = athlete_results_full.drop_duplicates(subset=['edition_id', 'athlete_id'])\n",
    "\n",
    "# create a pivot table with a few aggregations : average age, height and weight of distinct athlete ids per edition_id\n",
    "athlete_pivot_basic = athlete_results_unique.pivot_table(index=\"edition_id\",values=[\"athlete_age\", \"height\", \"weight\"], \n",
    "                                                   aggfunc={\"athlete_age\": [\"mean\", \"min\", \"max\"], \"height\": [\"mean\", \"min\", \"max\"], \"weight\": [\"mean\", \"min\", \"max\"]})\n",
    "\n",
    "# create a pivot table with a few aggregations : average age, height and weight of distinct athlete ids per edition_id\n",
    "athlete_pivot_sex = athlete_results_unique.pivot_table(index=\"edition_id\", columns = \"sex\", values=[\"athlete_age\", \"height\", \"weight\"], \n",
    "                                                   aggfunc={\"athlete_age\": [\"mean\", \"min\", \"max\"], \"height\": [\"mean\", \"min\", \"max\"], \"weight\": [\"mean\", \"min\", \"max\"]})\n",
    "\n",
    "# flatten multi-index\n",
    "athlete_pivot_sex.columns = [col[1]+\"_\"+col[2]+\"_\"+col[0] for col in athlete_pivot_sex.columns.values]\n",
    "athlete_pivot_basic.columns = [col[1]+\"_\"+col[0] for col in athlete_pivot_basic.columns.values]\n",
    "\n",
    "# reset index\n",
    "athlete_pivot_sex.reset_index(inplace=True)\n",
    "athlete_pivot_basic.reset_index(inplace=True)\n",
    "\n",
    "# join both datasets\n",
    "athlete_pivot = athlete_pivot_basic.merge(athlete_pivot_sex, on=\"edition_id\", how=\"left\")\n",
    "\n",
    "# preview\n",
    "athlete_pivot.tail(3)"
   ]
  },
  {
   "cell_type": "markdown",
   "metadata": {},
   "source": [
    "### Sport and age, height\n",
    "\n",
    "We are looking at individual athletes per olympic event"
   ]
  },
  {
   "cell_type": "code",
   "execution_count": 65,
   "metadata": {},
   "outputs": [
    {
     "data": {
      "text/html": [
       "<div>\n",
       "<style scoped>\n",
       "    .dataframe tbody tr th:only-of-type {\n",
       "        vertical-align: middle;\n",
       "    }\n",
       "\n",
       "    .dataframe tbody tr th {\n",
       "        vertical-align: top;\n",
       "    }\n",
       "\n",
       "    .dataframe thead th {\n",
       "        text-align: right;\n",
       "    }\n",
       "</style>\n",
       "<table border=\"1\" class=\"dataframe\">\n",
       "  <thead>\n",
       "    <tr style=\"text-align: right;\">\n",
       "      <th></th>\n",
       "      <th>edition_id</th>\n",
       "      <th>max_Alpine Skiing_athlete_age</th>\n",
       "      <th>max_Archery_athlete_age</th>\n",
       "      <th>max_Art Competitions_athlete_age</th>\n",
       "      <th>max_Artistic Gymnastics_athlete_age</th>\n",
       "      <th>max_Artistic Swimming_athlete_age</th>\n",
       "      <th>max_Athletics_athlete_age</th>\n",
       "      <th>max_Badminton_athlete_age</th>\n",
       "      <th>max_Baseball_athlete_age</th>\n",
       "      <th>max_Basketball_athlete_age</th>\n",
       "      <th>...</th>\n",
       "      <th>min_Snowboarding_height</th>\n",
       "      <th>min_Speed Skating_height</th>\n",
       "      <th>min_Swimming_height</th>\n",
       "      <th>min_Table Tennis_height</th>\n",
       "      <th>min_Taekwondo_height</th>\n",
       "      <th>min_Tennis_height</th>\n",
       "      <th>min_Volleyball_height</th>\n",
       "      <th>min_Water Polo_height</th>\n",
       "      <th>min_Weightlifting_height</th>\n",
       "      <th>min_Wrestling_height</th>\n",
       "    </tr>\n",
       "  </thead>\n",
       "  <tbody>\n",
       "    <tr>\n",
       "      <th>52</th>\n",
       "      <td>60</td>\n",
       "      <td>39.0</td>\n",
       "      <td>NaN</td>\n",
       "      <td>NaN</td>\n",
       "      <td>NaN</td>\n",
       "      <td>NaN</td>\n",
       "      <td>NaN</td>\n",
       "      <td>NaN</td>\n",
       "      <td>NaN</td>\n",
       "      <td>NaN</td>\n",
       "      <td>...</td>\n",
       "      <td>145.0</td>\n",
       "      <td>155.0</td>\n",
       "      <td>NaN</td>\n",
       "      <td>NaN</td>\n",
       "      <td>NaN</td>\n",
       "      <td>NaN</td>\n",
       "      <td>NaN</td>\n",
       "      <td>NaN</td>\n",
       "      <td>NaN</td>\n",
       "      <td>NaN</td>\n",
       "    </tr>\n",
       "    <tr>\n",
       "      <th>53</th>\n",
       "      <td>61</td>\n",
       "      <td>NaN</td>\n",
       "      <td>52.0</td>\n",
       "      <td>NaN</td>\n",
       "      <td>45.0</td>\n",
       "      <td>34.0</td>\n",
       "      <td>51.0</td>\n",
       "      <td>37.0</td>\n",
       "      <td>43.0</td>\n",
       "      <td>41.0</td>\n",
       "      <td>...</td>\n",
       "      <td>NaN</td>\n",
       "      <td>NaN</td>\n",
       "      <td>150.0</td>\n",
       "      <td>150.0</td>\n",
       "      <td>156.0</td>\n",
       "      <td>159.0</td>\n",
       "      <td>167.0</td>\n",
       "      <td>166.0</td>\n",
       "      <td>145.0</td>\n",
       "      <td>154.0</td>\n",
       "    </tr>\n",
       "    <tr>\n",
       "      <th>54</th>\n",
       "      <td>62</td>\n",
       "      <td>44.0</td>\n",
       "      <td>NaN</td>\n",
       "      <td>NaN</td>\n",
       "      <td>NaN</td>\n",
       "      <td>NaN</td>\n",
       "      <td>NaN</td>\n",
       "      <td>NaN</td>\n",
       "      <td>NaN</td>\n",
       "      <td>NaN</td>\n",
       "      <td>...</td>\n",
       "      <td>145.0</td>\n",
       "      <td>155.0</td>\n",
       "      <td>NaN</td>\n",
       "      <td>NaN</td>\n",
       "      <td>NaN</td>\n",
       "      <td>NaN</td>\n",
       "      <td>NaN</td>\n",
       "      <td>NaN</td>\n",
       "      <td>NaN</td>\n",
       "      <td>NaN</td>\n",
       "    </tr>\n",
       "  </tbody>\n",
       "</table>\n",
       "<p>3 rows × 304 columns</p>\n",
       "</div>"
      ],
      "text/plain": [
       "    edition_id  max_Alpine Skiing_athlete_age  max_Archery_athlete_age  \\\n",
       "52          60                           39.0                      NaN   \n",
       "53          61                            NaN                     52.0   \n",
       "54          62                           44.0                      NaN   \n",
       "\n",
       "    max_Art Competitions_athlete_age  max_Artistic Gymnastics_athlete_age  \\\n",
       "52                               NaN                                  NaN   \n",
       "53                               NaN                                 45.0   \n",
       "54                               NaN                                  NaN   \n",
       "\n",
       "    max_Artistic Swimming_athlete_age  max_Athletics_athlete_age  \\\n",
       "52                                NaN                        NaN   \n",
       "53                               34.0                       51.0   \n",
       "54                                NaN                        NaN   \n",
       "\n",
       "    max_Badminton_athlete_age  max_Baseball_athlete_age  \\\n",
       "52                        NaN                       NaN   \n",
       "53                       37.0                      43.0   \n",
       "54                        NaN                       NaN   \n",
       "\n",
       "    max_Basketball_athlete_age  ...  min_Snowboarding_height  \\\n",
       "52                         NaN  ...                    145.0   \n",
       "53                        41.0  ...                      NaN   \n",
       "54                         NaN  ...                    145.0   \n",
       "\n",
       "    min_Speed Skating_height  min_Swimming_height  min_Table Tennis_height  \\\n",
       "52                     155.0                  NaN                      NaN   \n",
       "53                       NaN                150.0                    150.0   \n",
       "54                     155.0                  NaN                      NaN   \n",
       "\n",
       "    min_Taekwondo_height  min_Tennis_height  min_Volleyball_height  \\\n",
       "52                   NaN                NaN                    NaN   \n",
       "53                 156.0              159.0                  167.0   \n",
       "54                   NaN                NaN                    NaN   \n",
       "\n",
       "    min_Water Polo_height  min_Weightlifting_height  min_Wrestling_height  \n",
       "52                    NaN                       NaN                   NaN  \n",
       "53                  166.0                     145.0                 154.0  \n",
       "54                    NaN                       NaN                   NaN  \n",
       "\n",
       "[3 rows x 304 columns]"
      ]
     },
     "execution_count": 65,
     "metadata": {},
     "output_type": "execute_result"
    }
   ],
   "source": [
    "# Remove duplicate athlete IDs\n",
    "athlete_results_unique = athlete_results_full.drop_duplicates(subset=['edition_id', 'athlete_id'])\n",
    "\n",
    "# create a pivot table with a few aggregations\n",
    "athlete_pivot_sport = athlete_results_unique.pivot_table(index=\"edition_id\", columns = \"sport\", values=[\"athlete_age\", \"height\"], \n",
    "                                                   aggfunc={\"athlete_age\": [\"mean\", \"min\", \"max\"], \"height\": [\"mean\", \"min\", \"max\"]})\n",
    "\n",
    "# flatten multi-index\n",
    "athlete_pivot_sport.columns = [col[1]+\"_\"+col[2]+\"_\"+col[0] for col in athlete_pivot_sport.columns.values]\n",
    "\n",
    "# reset index\n",
    "athlete_pivot_sport.reset_index(inplace=True)\n",
    "\n",
    "# only keep columns with X datapoints (not NaN)\n",
    "athlete_pivot_sport = athlete_pivot_sport.dropna(axis=1, thresh=7)\n",
    "\n",
    "# preview\n",
    "athlete_pivot_sport.tail(3)"
   ]
  },
  {
   "cell_type": "markdown",
   "metadata": {},
   "source": [
    "### Age and height per medal\n",
    "\n",
    "Cam be biased since we are counting team events"
   ]
  },
  {
   "cell_type": "code",
   "execution_count": 66,
   "metadata": {},
   "outputs": [
    {
     "data": {
      "text/html": [
       "<div>\n",
       "<style scoped>\n",
       "    .dataframe tbody tr th:only-of-type {\n",
       "        vertical-align: middle;\n",
       "    }\n",
       "\n",
       "    .dataframe tbody tr th {\n",
       "        vertical-align: top;\n",
       "    }\n",
       "\n",
       "    .dataframe thead th {\n",
       "        text-align: right;\n",
       "    }\n",
       "</style>\n",
       "<table border=\"1\" class=\"dataframe\">\n",
       "  <thead>\n",
       "    <tr style=\"text-align: right;\">\n",
       "      <th></th>\n",
       "      <th>edition_id</th>\n",
       "      <th>athlete_age_mean_Female_Bronze</th>\n",
       "      <th>athlete_age_mean_Female_Gold</th>\n",
       "      <th>athlete_age_mean_Female_Silver</th>\n",
       "      <th>athlete_age_mean_Female_na</th>\n",
       "      <th>athlete_age_mean_Male_Bronze</th>\n",
       "      <th>athlete_age_mean_Male_Gold</th>\n",
       "      <th>athlete_age_mean_Male_Silver</th>\n",
       "      <th>athlete_age_mean_Male_na</th>\n",
       "      <th>height_mean_Female_Bronze</th>\n",
       "      <th>height_mean_Female_Gold</th>\n",
       "      <th>height_mean_Female_Silver</th>\n",
       "      <th>height_mean_Female_na</th>\n",
       "      <th>height_mean_Male_Bronze</th>\n",
       "      <th>height_mean_Male_Gold</th>\n",
       "      <th>height_mean_Male_Silver</th>\n",
       "      <th>height_mean_Male_na</th>\n",
       "    </tr>\n",
       "  </thead>\n",
       "  <tbody>\n",
       "    <tr>\n",
       "      <th>52</th>\n",
       "      <td>60</td>\n",
       "      <td>26.480392</td>\n",
       "      <td>26.323529</td>\n",
       "      <td>26.598039</td>\n",
       "      <td>26.304207</td>\n",
       "      <td>28.762712</td>\n",
       "      <td>28.072000</td>\n",
       "      <td>27.217742</td>\n",
       "      <td>27.360225</td>\n",
       "      <td>166.448980</td>\n",
       "      <td>166.525253</td>\n",
       "      <td>167.568421</td>\n",
       "      <td>166.926497</td>\n",
       "      <td>180.535088</td>\n",
       "      <td>181.940171</td>\n",
       "      <td>180.916667</td>\n",
       "      <td>180.216454</td>\n",
       "    </tr>\n",
       "    <tr>\n",
       "      <th>53</th>\n",
       "      <td>61</td>\n",
       "      <td>25.887828</td>\n",
       "      <td>26.042714</td>\n",
       "      <td>26.308094</td>\n",
       "      <td>25.544917</td>\n",
       "      <td>27.156818</td>\n",
       "      <td>26.608040</td>\n",
       "      <td>26.788660</td>\n",
       "      <td>26.589086</td>\n",
       "      <td>172.149758</td>\n",
       "      <td>173.303738</td>\n",
       "      <td>171.869792</td>\n",
       "      <td>169.789220</td>\n",
       "      <td>184.196970</td>\n",
       "      <td>184.683258</td>\n",
       "      <td>184.323864</td>\n",
       "      <td>181.763187</td>\n",
       "    </tr>\n",
       "    <tr>\n",
       "      <th>54</th>\n",
       "      <td>62</td>\n",
       "      <td>26.859813</td>\n",
       "      <td>27.348214</td>\n",
       "      <td>27.445455</td>\n",
       "      <td>26.160629</td>\n",
       "      <td>28.395349</td>\n",
       "      <td>28.742424</td>\n",
       "      <td>28.348485</td>\n",
       "      <td>27.420765</td>\n",
       "      <td>168.353846</td>\n",
       "      <td>168.782609</td>\n",
       "      <td>166.324675</td>\n",
       "      <td>166.815895</td>\n",
       "      <td>180.958333</td>\n",
       "      <td>181.182927</td>\n",
       "      <td>179.960526</td>\n",
       "      <td>180.025701</td>\n",
       "    </tr>\n",
       "  </tbody>\n",
       "</table>\n",
       "</div>"
      ],
      "text/plain": [
       "    edition_id  athlete_age_mean_Female_Bronze  athlete_age_mean_Female_Gold  \\\n",
       "52          60                       26.480392                     26.323529   \n",
       "53          61                       25.887828                     26.042714   \n",
       "54          62                       26.859813                     27.348214   \n",
       "\n",
       "    athlete_age_mean_Female_Silver  athlete_age_mean_Female_na  \\\n",
       "52                       26.598039                   26.304207   \n",
       "53                       26.308094                   25.544917   \n",
       "54                       27.445455                   26.160629   \n",
       "\n",
       "    athlete_age_mean_Male_Bronze  athlete_age_mean_Male_Gold  \\\n",
       "52                     28.762712                   28.072000   \n",
       "53                     27.156818                   26.608040   \n",
       "54                     28.395349                   28.742424   \n",
       "\n",
       "    athlete_age_mean_Male_Silver  athlete_age_mean_Male_na  \\\n",
       "52                     27.217742                 27.360225   \n",
       "53                     26.788660                 26.589086   \n",
       "54                     28.348485                 27.420765   \n",
       "\n",
       "    height_mean_Female_Bronze  height_mean_Female_Gold  \\\n",
       "52                 166.448980               166.525253   \n",
       "53                 172.149758               173.303738   \n",
       "54                 168.353846               168.782609   \n",
       "\n",
       "    height_mean_Female_Silver  height_mean_Female_na  height_mean_Male_Bronze  \\\n",
       "52                 167.568421             166.926497               180.535088   \n",
       "53                 171.869792             169.789220               184.196970   \n",
       "54                 166.324675             166.815895               180.958333   \n",
       "\n",
       "    height_mean_Male_Gold  height_mean_Male_Silver  height_mean_Male_na  \n",
       "52             181.940171               180.916667           180.216454  \n",
       "53             184.683258               184.323864           181.763187  \n",
       "54             181.182927               179.960526           180.025701  "
      ]
     },
     "execution_count": 66,
     "metadata": {},
     "output_type": "execute_result"
    }
   ],
   "source": [
    "# create a pivot table with a few aggregations\n",
    "athlete_pivot_medal = athlete_results_full.pivot_table(index=\"edition_id\", columns = [\"sex\", \"medal\"], values=[\"athlete_age\", \"height\"], \n",
    "                                                   aggfunc={\"athlete_age\": [\"mean\"], \"height\": [\"mean\"]})\n",
    "\n",
    "# flatten multi-index\n",
    "athlete_pivot_medal.columns = [col[0]+\"_\"+col[1]+\"_\"+col[2]+\"_\"+col[3] for col in athlete_pivot_medal.columns.values]\n",
    "\n",
    "# reset index\n",
    "athlete_pivot_medal.reset_index(inplace=True)\n",
    "\n",
    "# preview\n",
    "athlete_pivot_medal.tail(3)"
   ]
  },
  {
   "cell_type": "markdown",
   "metadata": {},
   "source": [
    "### Evolution of first names"
   ]
  },
  {
   "cell_type": "code",
   "execution_count": 67,
   "metadata": {},
   "outputs": [
    {
     "data": {
      "text/html": [
       "<div>\n",
       "<style scoped>\n",
       "    .dataframe tbody tr th:only-of-type {\n",
       "        vertical-align: middle;\n",
       "    }\n",
       "\n",
       "    .dataframe tbody tr th {\n",
       "        vertical-align: top;\n",
       "    }\n",
       "\n",
       "    .dataframe thead th {\n",
       "        text-align: right;\n",
       "    }\n",
       "</style>\n",
       "<table border=\"1\" class=\"dataframe\">\n",
       "  <thead>\n",
       "    <tr style=\"text-align: right;\">\n",
       "      <th></th>\n",
       "      <th>edition_id</th>\n",
       "      <th>count_aaron</th>\n",
       "      <th>count_abbas</th>\n",
       "      <th>count_abdel</th>\n",
       "      <th>count_abdul</th>\n",
       "      <th>count_abdullah</th>\n",
       "      <th>count_abel</th>\n",
       "      <th>count_abraham</th>\n",
       "      <th>count_adam</th>\n",
       "      <th>count_adel</th>\n",
       "      <th>...</th>\n",
       "      <th>count_zhao</th>\n",
       "      <th>count_zheng</th>\n",
       "      <th>count_zhou</th>\n",
       "      <th>count_zoe</th>\n",
       "      <th>count_zofia</th>\n",
       "      <th>count_zoltan</th>\n",
       "      <th>count_zoran</th>\n",
       "      <th>count_zsolt</th>\n",
       "      <th>count_zsuzsa</th>\n",
       "      <th>count_zuzana</th>\n",
       "    </tr>\n",
       "  </thead>\n",
       "  <tbody>\n",
       "    <tr>\n",
       "      <th>52</th>\n",
       "      <td>60</td>\n",
       "      <td>4.0</td>\n",
       "      <td>NaN</td>\n",
       "      <td>NaN</td>\n",
       "      <td>NaN</td>\n",
       "      <td>NaN</td>\n",
       "      <td>NaN</td>\n",
       "      <td>NaN</td>\n",
       "      <td>11.0</td>\n",
       "      <td>1.0</td>\n",
       "      <td>...</td>\n",
       "      <td>NaN</td>\n",
       "      <td>NaN</td>\n",
       "      <td>2.0</td>\n",
       "      <td>2.0</td>\n",
       "      <td>NaN</td>\n",
       "      <td>NaN</td>\n",
       "      <td>NaN</td>\n",
       "      <td>NaN</td>\n",
       "      <td>NaN</td>\n",
       "      <td>NaN</td>\n",
       "    </tr>\n",
       "    <tr>\n",
       "      <th>53</th>\n",
       "      <td>61</td>\n",
       "      <td>8.0</td>\n",
       "      <td>1.0</td>\n",
       "      <td>5.0</td>\n",
       "      <td>4.0</td>\n",
       "      <td>5.0</td>\n",
       "      <td>1.0</td>\n",
       "      <td>4.0</td>\n",
       "      <td>18.0</td>\n",
       "      <td>1.0</td>\n",
       "      <td>...</td>\n",
       "      <td>2.0</td>\n",
       "      <td>5.0</td>\n",
       "      <td>5.0</td>\n",
       "      <td>4.0</td>\n",
       "      <td>1.0</td>\n",
       "      <td>NaN</td>\n",
       "      <td>1.0</td>\n",
       "      <td>NaN</td>\n",
       "      <td>NaN</td>\n",
       "      <td>1.0</td>\n",
       "    </tr>\n",
       "    <tr>\n",
       "      <th>54</th>\n",
       "      <td>62</td>\n",
       "      <td>2.0</td>\n",
       "      <td>NaN</td>\n",
       "      <td>NaN</td>\n",
       "      <td>NaN</td>\n",
       "      <td>NaN</td>\n",
       "      <td>NaN</td>\n",
       "      <td>NaN</td>\n",
       "      <td>12.0</td>\n",
       "      <td>NaN</td>\n",
       "      <td>...</td>\n",
       "      <td>5.0</td>\n",
       "      <td>1.0</td>\n",
       "      <td>2.0</td>\n",
       "      <td>3.0</td>\n",
       "      <td>NaN</td>\n",
       "      <td>NaN</td>\n",
       "      <td>NaN</td>\n",
       "      <td>NaN</td>\n",
       "      <td>NaN</td>\n",
       "      <td>3.0</td>\n",
       "    </tr>\n",
       "  </tbody>\n",
       "</table>\n",
       "<p>3 rows × 1449 columns</p>\n",
       "</div>"
      ],
      "text/plain": [
       "    edition_id  count_aaron  count_abbas  count_abdel  count_abdul  \\\n",
       "52          60          4.0          NaN          NaN          NaN   \n",
       "53          61          8.0          1.0          5.0          4.0   \n",
       "54          62          2.0          NaN          NaN          NaN   \n",
       "\n",
       "    count_abdullah  count_abel  count_abraham  count_adam  count_adel  ...  \\\n",
       "52             NaN         NaN            NaN        11.0         1.0  ...   \n",
       "53             5.0         1.0            4.0        18.0         1.0  ...   \n",
       "54             NaN         NaN            NaN        12.0         NaN  ...   \n",
       "\n",
       "    count_zhao  count_zheng  count_zhou  count_zoe  count_zofia  count_zoltan  \\\n",
       "52         NaN          NaN         2.0        2.0          NaN           NaN   \n",
       "53         2.0          5.0         5.0        4.0          1.0           NaN   \n",
       "54         5.0          1.0         2.0        3.0          NaN           NaN   \n",
       "\n",
       "    count_zoran  count_zsolt  count_zsuzsa  count_zuzana  \n",
       "52          NaN          NaN           NaN           NaN  \n",
       "53          1.0          NaN           NaN           1.0  \n",
       "54          NaN          NaN           NaN           3.0  \n",
       "\n",
       "[3 rows x 1449 columns]"
      ]
     },
     "execution_count": 67,
     "metadata": {},
     "output_type": "execute_result"
    }
   ],
   "source": [
    "# Remove duplicate athlete IDs\n",
    "athlete_results_unique = athlete_results_full.drop_duplicates(subset=['edition_id', 'athlete_id'])\n",
    "\n",
    "# Only keep first names with 3+ characters\n",
    "athlete_results_unique = athlete_results_unique[athlete_results_unique[\"first_name\"].str.len() > 2]\n",
    "\n",
    "# create a pivot table with a few aggregations\n",
    "athlete_pivot_names = athlete_results_unique.pivot_table(index=\"edition_id\", columns = \"first_name\", values=[\"athlete_id\"], \n",
    "                                                   aggfunc={\"athlete_id\": [\"count\"]})\n",
    "\n",
    "# flatten multi-index\n",
    "athlete_pivot_names.columns = [col[1]+\"_\"+col[2] for col in athlete_pivot_names.columns.values]\n",
    "\n",
    "# reset index\n",
    "athlete_pivot_names.reset_index(inplace=True)\n",
    "\n",
    "# only keep columns with X datapoints (not NaN)\n",
    "athlete_pivot_names = athlete_pivot_names.dropna(axis=1, thresh=15)\n",
    "\n",
    "# preview\n",
    "athlete_pivot_names.tail(3)"
   ]
  },
  {
   "cell_type": "markdown",
   "metadata": {},
   "source": [
    "### Olympians born per year"
   ]
  },
  {
   "cell_type": "code",
   "execution_count": 68,
   "metadata": {},
   "outputs": [
    {
     "data": {
      "text/html": [
       "<div>\n",
       "<style scoped>\n",
       "    .dataframe tbody tr th:only-of-type {\n",
       "        vertical-align: middle;\n",
       "    }\n",
       "\n",
       "    .dataframe tbody tr th {\n",
       "        vertical-align: top;\n",
       "    }\n",
       "\n",
       "    .dataframe thead th {\n",
       "        text-align: right;\n",
       "    }\n",
       "</style>\n",
       "<table border=\"1\" class=\"dataframe\">\n",
       "  <thead>\n",
       "    <tr style=\"text-align: right;\">\n",
       "      <th></th>\n",
       "      <th>birth_year</th>\n",
       "      <th>count_athlete_births</th>\n",
       "    </tr>\n",
       "  </thead>\n",
       "  <tbody>\n",
       "    <tr>\n",
       "      <th>0</th>\n",
       "      <td>1828.0</td>\n",
       "      <td>1</td>\n",
       "    </tr>\n",
       "    <tr>\n",
       "      <th>1</th>\n",
       "      <td>1830.0</td>\n",
       "      <td>1</td>\n",
       "    </tr>\n",
       "    <tr>\n",
       "      <th>2</th>\n",
       "      <td>1831.0</td>\n",
       "      <td>1</td>\n",
       "    </tr>\n",
       "  </tbody>\n",
       "</table>\n",
       "</div>"
      ],
      "text/plain": [
       "   birth_year  count_athlete_births\n",
       "0      1828.0                     1\n",
       "1      1830.0                     1\n",
       "2      1831.0                     1"
      ]
     },
     "execution_count": 68,
     "metadata": {},
     "output_type": "execute_result"
    }
   ],
   "source": [
    "# Remove duplicate athlete IDs\n",
    "athlete_results_unique = athlete_results_full.drop_duplicates(subset=['athlete_id'])\n",
    "\n",
    "# create a pivot table with a few aggregations\n",
    "athlete_birth_year = athlete_results_unique.pivot_table(index=\"birth_year\", values=[\"athlete_id\"], \n",
    "                                                   aggfunc={\"athlete_id\": [\"count\"]})\n",
    "\n",
    "# flatten multi-index\n",
    "athlete_birth_year.columns = [col[1]+\"_athlete_births\" for col in athlete_birth_year.columns.values]\n",
    "\n",
    "# reset index\n",
    "athlete_birth_year.reset_index(inplace=True)\n",
    "\n",
    "# only keep columns with X continuous datapoints (not NaN)\n",
    "athlete_birth_year = athlete_birth_year.dropna(axis=1, thresh=10)\n",
    "\n",
    "# preview\n",
    "athlete_birth_year.head(3)"
   ]
  },
  {
   "cell_type": "markdown",
   "metadata": {},
   "source": [
    "### Fine-grained age and participants per event"
   ]
  },
  {
   "cell_type": "code",
   "execution_count": 69,
   "metadata": {},
   "outputs": [
    {
     "data": {
      "text/html": [
       "<div>\n",
       "<style scoped>\n",
       "    .dataframe tbody tr th:only-of-type {\n",
       "        vertical-align: middle;\n",
       "    }\n",
       "\n",
       "    .dataframe tbody tr th {\n",
       "        vertical-align: top;\n",
       "    }\n",
       "\n",
       "    .dataframe thead th {\n",
       "        text-align: right;\n",
       "    }\n",
       "</style>\n",
       "<table border=\"1\" class=\"dataframe\">\n",
       "  <thead>\n",
       "    <tr style=\"text-align: right;\">\n",
       "      <th></th>\n",
       "      <th>edition_id</th>\n",
       "      <th>max_athlete_age_1_000_metres_Time_Trial__Men</th>\n",
       "      <th>max_athlete_age_1_000_metres__Women</th>\n",
       "      <th>max_athlete_age_1_500_metres_Freestyle__Men</th>\n",
       "      <th>max_athlete_age_1_500_metres__Men</th>\n",
       "      <th>max_athlete_age_1_500_metres__Women</th>\n",
       "      <th>max_athlete_age_10_kilometres__Women</th>\n",
       "      <th>max_athlete_age_10_000_metres__Men</th>\n",
       "      <th>max_athlete_age_100_metres_Backstroke__Men</th>\n",
       "      <th>max_athlete_age_100_metres_Backstroke__Women</th>\n",
       "      <th>...</th>\n",
       "      <th>count_athlete_id_Two__Men</th>\n",
       "      <th>count_athlete_id_Uneven_Bars__Women</th>\n",
       "      <th>count_athlete_id_Volleyball__Men</th>\n",
       "      <th>count_athlete_id_Volleyball__Women</th>\n",
       "      <th>count_athlete_id_Water_Polo__Men</th>\n",
       "      <th>count_athlete_id_Welterweight__Freestyle__Men</th>\n",
       "      <th>count_athlete_id_Welterweight__Greco-Roman__Men</th>\n",
       "      <th>count_athlete_id_Welterweight__Men</th>\n",
       "      <th>count_athlete_id_Épée__Individual__Men</th>\n",
       "      <th>count_athlete_id_Épée__Team__Men</th>\n",
       "    </tr>\n",
       "  </thead>\n",
       "  <tbody>\n",
       "    <tr>\n",
       "      <th>52</th>\n",
       "      <td>60</td>\n",
       "      <td>NaN</td>\n",
       "      <td>36.0</td>\n",
       "      <td>NaN</td>\n",
       "      <td>36.0</td>\n",
       "      <td>38.0</td>\n",
       "      <td>43.0</td>\n",
       "      <td>32.0</td>\n",
       "      <td>NaN</td>\n",
       "      <td>NaN</td>\n",
       "      <td>...</td>\n",
       "      <td>61.0</td>\n",
       "      <td>NaN</td>\n",
       "      <td>NaN</td>\n",
       "      <td>NaN</td>\n",
       "      <td>NaN</td>\n",
       "      <td>NaN</td>\n",
       "      <td>NaN</td>\n",
       "      <td>NaN</td>\n",
       "      <td>NaN</td>\n",
       "      <td>NaN</td>\n",
       "    </tr>\n",
       "    <tr>\n",
       "      <th>53</th>\n",
       "      <td>61</td>\n",
       "      <td>NaN</td>\n",
       "      <td>NaN</td>\n",
       "      <td>29.0</td>\n",
       "      <td>37.0</td>\n",
       "      <td>32.0</td>\n",
       "      <td>NaN</td>\n",
       "      <td>32.0</td>\n",
       "      <td>33.0</td>\n",
       "      <td>30.0</td>\n",
       "      <td>...</td>\n",
       "      <td>NaN</td>\n",
       "      <td>90.0</td>\n",
       "      <td>144.0</td>\n",
       "      <td>144.0</td>\n",
       "      <td>126.0</td>\n",
       "      <td>16.0</td>\n",
       "      <td>17.0</td>\n",
       "      <td>39.0</td>\n",
       "      <td>36.0</td>\n",
       "      <td>36.0</td>\n",
       "    </tr>\n",
       "    <tr>\n",
       "      <th>54</th>\n",
       "      <td>62</td>\n",
       "      <td>NaN</td>\n",
       "      <td>36.0</td>\n",
       "      <td>NaN</td>\n",
       "      <td>38.0</td>\n",
       "      <td>36.0</td>\n",
       "      <td>47.0</td>\n",
       "      <td>36.0</td>\n",
       "      <td>NaN</td>\n",
       "      <td>NaN</td>\n",
       "      <td>...</td>\n",
       "      <td>61.0</td>\n",
       "      <td>NaN</td>\n",
       "      <td>NaN</td>\n",
       "      <td>NaN</td>\n",
       "      <td>NaN</td>\n",
       "      <td>NaN</td>\n",
       "      <td>NaN</td>\n",
       "      <td>NaN</td>\n",
       "      <td>NaN</td>\n",
       "      <td>NaN</td>\n",
       "    </tr>\n",
       "  </tbody>\n",
       "</table>\n",
       "<p>3 rows × 665 columns</p>\n",
       "</div>"
      ],
      "text/plain": [
       "    edition_id  max_athlete_age_1_000_metres_Time_Trial__Men  \\\n",
       "52          60                                           NaN   \n",
       "53          61                                           NaN   \n",
       "54          62                                           NaN   \n",
       "\n",
       "    max_athlete_age_1_000_metres__Women  \\\n",
       "52                                 36.0   \n",
       "53                                  NaN   \n",
       "54                                 36.0   \n",
       "\n",
       "    max_athlete_age_1_500_metres_Freestyle__Men  \\\n",
       "52                                          NaN   \n",
       "53                                         29.0   \n",
       "54                                          NaN   \n",
       "\n",
       "    max_athlete_age_1_500_metres__Men  max_athlete_age_1_500_metres__Women  \\\n",
       "52                               36.0                                 38.0   \n",
       "53                               37.0                                 32.0   \n",
       "54                               38.0                                 36.0   \n",
       "\n",
       "    max_athlete_age_10_kilometres__Women  max_athlete_age_10_000_metres__Men  \\\n",
       "52                                  43.0                                32.0   \n",
       "53                                   NaN                                32.0   \n",
       "54                                  47.0                                36.0   \n",
       "\n",
       "    max_athlete_age_100_metres_Backstroke__Men  \\\n",
       "52                                         NaN   \n",
       "53                                        33.0   \n",
       "54                                         NaN   \n",
       "\n",
       "    max_athlete_age_100_metres_Backstroke__Women  ...  \\\n",
       "52                                           NaN  ...   \n",
       "53                                          30.0  ...   \n",
       "54                                           NaN  ...   \n",
       "\n",
       "    count_athlete_id_Two__Men  count_athlete_id_Uneven_Bars__Women  \\\n",
       "52                       61.0                                  NaN   \n",
       "53                        NaN                                 90.0   \n",
       "54                       61.0                                  NaN   \n",
       "\n",
       "    count_athlete_id_Volleyball__Men  count_athlete_id_Volleyball__Women  \\\n",
       "52                               NaN                                 NaN   \n",
       "53                             144.0                               144.0   \n",
       "54                               NaN                                 NaN   \n",
       "\n",
       "    count_athlete_id_Water_Polo__Men  \\\n",
       "52                               NaN   \n",
       "53                             126.0   \n",
       "54                               NaN   \n",
       "\n",
       "    count_athlete_id_Welterweight__Freestyle__Men  \\\n",
       "52                                            NaN   \n",
       "53                                           16.0   \n",
       "54                                            NaN   \n",
       "\n",
       "    count_athlete_id_Welterweight__Greco-Roman__Men  \\\n",
       "52                                              NaN   \n",
       "53                                             17.0   \n",
       "54                                              NaN   \n",
       "\n",
       "    count_athlete_id_Welterweight__Men  \\\n",
       "52                                 NaN   \n",
       "53                                39.0   \n",
       "54                                 NaN   \n",
       "\n",
       "    count_athlete_id_Épée__Individual__Men  count_athlete_id_Épée__Team__Men  \n",
       "52                                     NaN                               NaN  \n",
       "53                                    36.0                              36.0  \n",
       "54                                     NaN                               NaN  \n",
       "\n",
       "[3 rows x 665 columns]"
      ]
     },
     "execution_count": 69,
     "metadata": {},
     "output_type": "execute_result"
    }
   ],
   "source": [
    "# Remove duplicate athlete IDs\n",
    "athlete_results_unique = athlete_results_full.drop_duplicates(subset=['edition_id', 'athlete_id', \"sport\", \"event\"])\n",
    "\n",
    "# create a pivot table with a few aggregations\n",
    "athlete_pivot_finegrained = athlete_results_unique.pivot_table(index=\"edition_id\", columns = \"event\", values=[\"athlete_age\", \"athlete_id\"], \n",
    "                                                   aggfunc={\"athlete_age\": [\"mean\", \"min\", \"max\"], \"athlete_id\": [\"count\"]})\n",
    "\n",
    "# flatten multi-index\n",
    "athlete_pivot_finegrained.columns = [col[1]+\"_\"+col[0]+\"_\"+col[2] for col in athlete_pivot_finegrained.columns.values]\n",
    "\n",
    "# reset index\n",
    "athlete_pivot_finegrained.reset_index(inplace=True)\n",
    "\n",
    "# only keep columns with X datapoints (not NaN)\n",
    "athlete_pivot_finegrained = athlete_pivot_finegrained.dropna(axis=1, thresh=15)\n",
    "\n",
    "# replace all spaces and commas in variable names with underscore\n",
    "athlete_pivot_finegrained.columns = athlete_pivot_finegrained.columns.str.replace(\" \", \"_\").str.replace(\",\", \"_\")\n",
    "\n",
    "# preview\n",
    "athlete_pivot_finegrained.tail(3)"
   ]
  },
  {
   "cell_type": "markdown",
   "metadata": {},
   "source": [
    "### Length of gold medallist first names"
   ]
  },
  {
   "cell_type": "code",
   "execution_count": 70,
   "metadata": {},
   "outputs": [
    {
     "data": {
      "text/html": [
       "<div>\n",
       "<style scoped>\n",
       "    .dataframe tbody tr th:only-of-type {\n",
       "        vertical-align: middle;\n",
       "    }\n",
       "\n",
       "    .dataframe tbody tr th {\n",
       "        vertical-align: top;\n",
       "    }\n",
       "\n",
       "    .dataframe thead th {\n",
       "        text-align: right;\n",
       "    }\n",
       "</style>\n",
       "<table border=\"1\" class=\"dataframe\">\n",
       "  <thead>\n",
       "    <tr style=\"text-align: right;\">\n",
       "      <th></th>\n",
       "      <th>edition_id</th>\n",
       "      <th>average_first_name_length_gold_medallists</th>\n",
       "    </tr>\n",
       "  </thead>\n",
       "  <tbody>\n",
       "    <tr>\n",
       "      <th>0</th>\n",
       "      <td>1</td>\n",
       "      <td>5.390625</td>\n",
       "    </tr>\n",
       "    <tr>\n",
       "      <th>1</th>\n",
       "      <td>2</td>\n",
       "      <td>5.647887</td>\n",
       "    </tr>\n",
       "    <tr>\n",
       "      <th>2</th>\n",
       "      <td>3</td>\n",
       "      <td>5.011173</td>\n",
       "    </tr>\n",
       "  </tbody>\n",
       "</table>\n",
       "</div>"
      ],
      "text/plain": [
       "   edition_id  average_first_name_length_gold_medallists\n",
       "0           1                                   5.390625\n",
       "1           2                                   5.647887\n",
       "2           3                                   5.011173"
      ]
     },
     "execution_count": 70,
     "metadata": {},
     "output_type": "execute_result"
    }
   ],
   "source": [
    "# remove rows where dates are not available in the born, start_date or end_date columns\n",
    "athlete_results_unique = athlete_results_full.dropna(subset=[\"first_name\"])\n",
    "\n",
    "# only keep gold medalists \n",
    "athlete_results_unique = athlete_results_unique[athlete_results_unique[\"medal\"].str.lower() == \"gold\"]\n",
    "\n",
    "# length of first name\n",
    "athlete_results_unique[\"first_name_len\"] = athlete_results_unique[\"first_name\"].str.len()\n",
    "\n",
    "# group by edition_id \n",
    "athlete_pivot_name = athlete_results_unique.pivot_table(index=\"edition_id\", values=[\"first_name_len\"], \n",
    "                                                   aggfunc={\"first_name_len\": [\"mean\"]})\n",
    "\n",
    "# flatten multi-index\n",
    "athlete_pivot_name.columns = [\"average_first_name_length_gold_medallists\" for col in athlete_pivot_name.columns.values]\n",
    "\n",
    "\n",
    "athlete_pivot_name.reset_index(inplace=True)\n",
    "\n",
    "athlete_pivot_name.head(3)"
   ]
  },
  {
   "cell_type": "markdown",
   "metadata": {},
   "source": [
    "### Olympians competing close to their birthday\n",
    "\n",
    "Individuals can be counted more than once if they took part in more than one sport and event."
   ]
  },
  {
   "cell_type": "code",
   "execution_count": 71,
   "metadata": {},
   "outputs": [
    {
     "name": "stderr",
     "output_type": "stream",
     "text": [
      "/var/folders/f1/w7wjqy3x0xsdfxr_wfqfm4wc0000gp/T/ipykernel_7601/1970416978.py:6: SettingWithCopyWarning: \n",
      "A value is trying to be set on a copy of a slice from a DataFrame.\n",
      "Try using .loc[row_indexer,col_indexer] = value instead\n",
      "\n",
      "See the caveats in the documentation: https://pandas.pydata.org/pandas-docs/stable/user_guide/indexing.html#returning-a-view-versus-a-copy\n",
      "  athlete_results_unique[col] = pd.to_datetime(athlete_results_unique[col], errors=\"coerce\")\n",
      "/var/folders/f1/w7wjqy3x0xsdfxr_wfqfm4wc0000gp/T/ipykernel_7601/1970416978.py:6: SettingWithCopyWarning: \n",
      "A value is trying to be set on a copy of a slice from a DataFrame.\n",
      "Try using .loc[row_indexer,col_indexer] = value instead\n",
      "\n",
      "See the caveats in the documentation: https://pandas.pydata.org/pandas-docs/stable/user_guide/indexing.html#returning-a-view-versus-a-copy\n",
      "  athlete_results_unique[col] = pd.to_datetime(athlete_results_unique[col], errors=\"coerce\")\n",
      "/var/folders/f1/w7wjqy3x0xsdfxr_wfqfm4wc0000gp/T/ipykernel_7601/1970416978.py:6: SettingWithCopyWarning: \n",
      "A value is trying to be set on a copy of a slice from a DataFrame.\n",
      "Try using .loc[row_indexer,col_indexer] = value instead\n",
      "\n",
      "See the caveats in the documentation: https://pandas.pydata.org/pandas-docs/stable/user_guide/indexing.html#returning-a-view-versus-a-copy\n",
      "  athlete_results_unique[col] = pd.to_datetime(athlete_results_unique[col], errors=\"coerce\")\n",
      "/var/folders/f1/w7wjqy3x0xsdfxr_wfqfm4wc0000gp/T/ipykernel_7601/1970416978.py:9: SettingWithCopyWarning: \n",
      "A value is trying to be set on a copy of a slice from a DataFrame.\n",
      "Try using .loc[row_indexer,col_indexer] = value instead\n",
      "\n",
      "See the caveats in the documentation: https://pandas.pydata.org/pandas-docs/stable/user_guide/indexing.html#returning-a-view-versus-a-copy\n",
      "  athlete_results_unique[\"birthday_during_event_period\"] = np.where((athlete_results_unique[\"born\"].dt.month >= athlete_results_unique[\"start_date\"].dt.month) &\n"
     ]
    },
    {
     "data": {
      "text/html": [
       "<div>\n",
       "<style scoped>\n",
       "    .dataframe tbody tr th:only-of-type {\n",
       "        vertical-align: middle;\n",
       "    }\n",
       "\n",
       "    .dataframe tbody tr th {\n",
       "        vertical-align: top;\n",
       "    }\n",
       "\n",
       "    .dataframe thead th {\n",
       "        text-align: right;\n",
       "    }\n",
       "</style>\n",
       "<table border=\"1\" class=\"dataframe\">\n",
       "  <thead>\n",
       "    <tr style=\"text-align: right;\">\n",
       "      <th></th>\n",
       "      <th>edition_id</th>\n",
       "      <th>athlete_birthdays_during_event</th>\n",
       "    </tr>\n",
       "  </thead>\n",
       "  <tbody>\n",
       "    <tr>\n",
       "      <th>0</th>\n",
       "      <td>13</td>\n",
       "      <td>39</td>\n",
       "    </tr>\n",
       "    <tr>\n",
       "      <th>1</th>\n",
       "      <td>14</td>\n",
       "      <td>29</td>\n",
       "    </tr>\n",
       "    <tr>\n",
       "      <th>2</th>\n",
       "      <td>15</td>\n",
       "      <td>27</td>\n",
       "    </tr>\n",
       "  </tbody>\n",
       "</table>\n",
       "</div>"
      ],
      "text/plain": [
       "   edition_id  athlete_birthdays_during_event\n",
       "0          13                              39\n",
       "1          14                              29\n",
       "2          15                              27"
      ]
     },
     "execution_count": 71,
     "metadata": {},
     "output_type": "execute_result"
    }
   ],
   "source": [
    "# Remove duplicate athlete IDs\n",
    "athlete_results_unique = athlete_results_full.drop_duplicates(subset=['edition_id', 'sport', 'event', 'athlete_id'])\n",
    "\n",
    "# convert born, start_date and end_date to datetime\n",
    "for col in [\"born\", \"start_date\", \"end_date\"]:\n",
    "    athlete_results_unique[col] = pd.to_datetime(athlete_results_unique[col], errors=\"coerce\")\n",
    "\n",
    "# new flag : if day and month of birth are between start_date and end_date (inclusively)\n",
    "athlete_results_unique[\"birthday_during_event_period\"] = np.where((athlete_results_unique[\"born\"].dt.month >= athlete_results_unique[\"start_date\"].dt.month) & \n",
    "                                                           (athlete_results_unique[\"born\"].dt.month <= athlete_results_unique[\"end_date\"].dt.month) &\n",
    "                                                           (athlete_results_unique[\"born\"].dt.day >= athlete_results_unique[\"start_date\"].dt.day) & \n",
    "                                                           (athlete_results_unique[\"born\"].dt.day <= athlete_results_unique[\"end_date\"].dt.day), 1, 0)\n",
    "\n",
    "# remove rows where dates are not available in the born, start_date or end_date columns\n",
    "athlete_results_unique = athlete_results_unique.dropna(subset=[\"born\", \"start_date\", \"end_date\"])\n",
    "\n",
    "# remove years before 1950 - events were sometimes very long\n",
    "athlete_results_unique = athlete_results_unique[athlete_results_unique[\"start_date\"].dt.year > 1950]\n",
    "\n",
    "# create a pivot table with a few aggregations\n",
    "athlete_birthdays = athlete_results_unique.pivot_table(index=\"edition_id\", values=[\"birthday_during_event_period\"], \n",
    "                                                   aggfunc={\"birthday_during_event_period\": [\"sum\"]})\n",
    "\n",
    "# flatten multi-index\n",
    "athlete_birthdays.columns = [\"athlete_birthdays_during_event\" for col in athlete_birthdays.columns.values]\n",
    "\n",
    "# reset index\n",
    "athlete_birthdays.reset_index(inplace=True)\n",
    "\n",
    "# preview\n",
    "athlete_birthdays.head(3)"
   ]
  },
  {
   "cell_type": "markdown",
   "metadata": {},
   "source": [
    "## Fourth places"
   ]
  },
  {
   "cell_type": "code",
   "execution_count": 93,
   "metadata": {},
   "outputs": [],
   "source": [
    "# remove result_id that have no medal (NaN)\n",
    "events_with_medals = athlete_results_full[~athlete_results_full[\"medal\"].isna()][\"edition_id\"].to_list()\n",
    "fourth_places = athlete_results_full[athlete_results_full[\"edition_id\"].isin(events_with_medals)]\n",
    "\n",
    "# remove duplicates of edition_id, sport, event, country_noc\n",
    "fourth_places = fourth_places.drop_duplicates(subset=[\"edition_id\", \"sport\", \"event\", \"country_noc\", \"medal\"])\n",
    "\n",
    "# only keep position 4 where medal is NaN\n",
    "fourth_places = fourth_places[(fourth_places[\"pos\"] == \"4\") & (fourth_places[\"medal\"].str.lower()==\"na\")]"
   ]
  },
  {
   "cell_type": "code",
   "execution_count": 94,
   "metadata": {},
   "outputs": [
    {
     "data": {
      "text/html": [
       "<div>\n",
       "<style scoped>\n",
       "    .dataframe tbody tr th:only-of-type {\n",
       "        vertical-align: middle;\n",
       "    }\n",
       "\n",
       "    .dataframe tbody tr th {\n",
       "        vertical-align: top;\n",
       "    }\n",
       "\n",
       "    .dataframe thead th {\n",
       "        text-align: right;\n",
       "    }\n",
       "</style>\n",
       "<table border=\"1\" class=\"dataframe\">\n",
       "  <thead>\n",
       "    <tr style=\"text-align: right;\">\n",
       "      <th></th>\n",
       "      <th>edition_id</th>\n",
       "      <th>count_fourth_places_ Argentina</th>\n",
       "      <th>count_fourth_places_ Australia</th>\n",
       "      <th>count_fourth_places_ Austria</th>\n",
       "      <th>count_fourth_places_ Belarus</th>\n",
       "      <th>count_fourth_places_ Belgium</th>\n",
       "      <th>count_fourth_places_ Brazil</th>\n",
       "      <th>count_fourth_places_ Bulgaria</th>\n",
       "      <th>count_fourth_places_ Canada</th>\n",
       "      <th>count_fourth_places_ Cuba</th>\n",
       "      <th>...</th>\n",
       "      <th>count_fourth_places_ Slovenia</th>\n",
       "      <th>count_fourth_places_ South Africa</th>\n",
       "      <th>count_fourth_places_ Soviet Union</th>\n",
       "      <th>count_fourth_places_ Spain</th>\n",
       "      <th>count_fourth_places_ Sweden</th>\n",
       "      <th>count_fourth_places_ Switzerland</th>\n",
       "      <th>count_fourth_places_ Türkiye</th>\n",
       "      <th>count_fourth_places_ United States</th>\n",
       "      <th>count_fourth_places_ West Germany</th>\n",
       "      <th>count_fourth_places_ Yugoslavia</th>\n",
       "    </tr>\n",
       "  </thead>\n",
       "  <tbody>\n",
       "    <tr>\n",
       "      <th>0</th>\n",
       "      <td>1</td>\n",
       "      <td>NaN</td>\n",
       "      <td>NaN</td>\n",
       "      <td>1.0</td>\n",
       "      <td>NaN</td>\n",
       "      <td>NaN</td>\n",
       "      <td>NaN</td>\n",
       "      <td>NaN</td>\n",
       "      <td>NaN</td>\n",
       "      <td>NaN</td>\n",
       "      <td>...</td>\n",
       "      <td>NaN</td>\n",
       "      <td>NaN</td>\n",
       "      <td>NaN</td>\n",
       "      <td>NaN</td>\n",
       "      <td>1.0</td>\n",
       "      <td>NaN</td>\n",
       "      <td>NaN</td>\n",
       "      <td>NaN</td>\n",
       "      <td>NaN</td>\n",
       "      <td>NaN</td>\n",
       "    </tr>\n",
       "    <tr>\n",
       "      <th>1</th>\n",
       "      <td>2</td>\n",
       "      <td>NaN</td>\n",
       "      <td>NaN</td>\n",
       "      <td>1.0</td>\n",
       "      <td>NaN</td>\n",
       "      <td>6.0</td>\n",
       "      <td>NaN</td>\n",
       "      <td>NaN</td>\n",
       "      <td>NaN</td>\n",
       "      <td>NaN</td>\n",
       "      <td>...</td>\n",
       "      <td>NaN</td>\n",
       "      <td>NaN</td>\n",
       "      <td>NaN</td>\n",
       "      <td>NaN</td>\n",
       "      <td>1.0</td>\n",
       "      <td>4.0</td>\n",
       "      <td>NaN</td>\n",
       "      <td>8.0</td>\n",
       "      <td>NaN</td>\n",
       "      <td>NaN</td>\n",
       "    </tr>\n",
       "    <tr>\n",
       "      <th>2</th>\n",
       "      <td>3</td>\n",
       "      <td>NaN</td>\n",
       "      <td>2.0</td>\n",
       "      <td>NaN</td>\n",
       "      <td>NaN</td>\n",
       "      <td>NaN</td>\n",
       "      <td>NaN</td>\n",
       "      <td>NaN</td>\n",
       "      <td>1.0</td>\n",
       "      <td>1.0</td>\n",
       "      <td>...</td>\n",
       "      <td>NaN</td>\n",
       "      <td>NaN</td>\n",
       "      <td>NaN</td>\n",
       "      <td>NaN</td>\n",
       "      <td>NaN</td>\n",
       "      <td>NaN</td>\n",
       "      <td>NaN</td>\n",
       "      <td>43.0</td>\n",
       "      <td>NaN</td>\n",
       "      <td>NaN</td>\n",
       "    </tr>\n",
       "    <tr>\n",
       "      <th>3</th>\n",
       "      <td>5</td>\n",
       "      <td>NaN</td>\n",
       "      <td>NaN</td>\n",
       "      <td>NaN</td>\n",
       "      <td>NaN</td>\n",
       "      <td>NaN</td>\n",
       "      <td>NaN</td>\n",
       "      <td>NaN</td>\n",
       "      <td>3.0</td>\n",
       "      <td>NaN</td>\n",
       "      <td>...</td>\n",
       "      <td>NaN</td>\n",
       "      <td>2.0</td>\n",
       "      <td>NaN</td>\n",
       "      <td>NaN</td>\n",
       "      <td>8.0</td>\n",
       "      <td>NaN</td>\n",
       "      <td>NaN</td>\n",
       "      <td>11.0</td>\n",
       "      <td>NaN</td>\n",
       "      <td>NaN</td>\n",
       "    </tr>\n",
       "    <tr>\n",
       "      <th>4</th>\n",
       "      <td>6</td>\n",
       "      <td>NaN</td>\n",
       "      <td>NaN</td>\n",
       "      <td>2.0</td>\n",
       "      <td>NaN</td>\n",
       "      <td>1.0</td>\n",
       "      <td>NaN</td>\n",
       "      <td>NaN</td>\n",
       "      <td>1.0</td>\n",
       "      <td>NaN</td>\n",
       "      <td>...</td>\n",
       "      <td>NaN</td>\n",
       "      <td>2.0</td>\n",
       "      <td>NaN</td>\n",
       "      <td>NaN</td>\n",
       "      <td>22.0</td>\n",
       "      <td>NaN</td>\n",
       "      <td>NaN</td>\n",
       "      <td>12.0</td>\n",
       "      <td>NaN</td>\n",
       "      <td>NaN</td>\n",
       "    </tr>\n",
       "  </tbody>\n",
       "</table>\n",
       "<p>5 rows × 51 columns</p>\n",
       "</div>"
      ],
      "text/plain": [
       "   edition_id  count_fourth_places_ Argentina  count_fourth_places_ Australia  \\\n",
       "0           1                             NaN                             NaN   \n",
       "1           2                             NaN                             NaN   \n",
       "2           3                             NaN                             2.0   \n",
       "3           5                             NaN                             NaN   \n",
       "4           6                             NaN                             NaN   \n",
       "\n",
       "   count_fourth_places_ Austria  count_fourth_places_ Belarus  \\\n",
       "0                           1.0                           NaN   \n",
       "1                           1.0                           NaN   \n",
       "2                           NaN                           NaN   \n",
       "3                           NaN                           NaN   \n",
       "4                           2.0                           NaN   \n",
       "\n",
       "   count_fourth_places_ Belgium  count_fourth_places_ Brazil  \\\n",
       "0                           NaN                          NaN   \n",
       "1                           6.0                          NaN   \n",
       "2                           NaN                          NaN   \n",
       "3                           NaN                          NaN   \n",
       "4                           1.0                          NaN   \n",
       "\n",
       "   count_fourth_places_ Bulgaria  count_fourth_places_ Canada  \\\n",
       "0                            NaN                          NaN   \n",
       "1                            NaN                          NaN   \n",
       "2                            NaN                          1.0   \n",
       "3                            NaN                          3.0   \n",
       "4                            NaN                          1.0   \n",
       "\n",
       "   count_fourth_places_ Cuba  ...  count_fourth_places_ Slovenia  \\\n",
       "0                        NaN  ...                            NaN   \n",
       "1                        NaN  ...                            NaN   \n",
       "2                        1.0  ...                            NaN   \n",
       "3                        NaN  ...                            NaN   \n",
       "4                        NaN  ...                            NaN   \n",
       "\n",
       "   count_fourth_places_ South Africa  count_fourth_places_ Soviet Union  \\\n",
       "0                                NaN                                NaN   \n",
       "1                                NaN                                NaN   \n",
       "2                                NaN                                NaN   \n",
       "3                                2.0                                NaN   \n",
       "4                                2.0                                NaN   \n",
       "\n",
       "   count_fourth_places_ Spain  count_fourth_places_ Sweden  \\\n",
       "0                         NaN                          1.0   \n",
       "1                         NaN                          1.0   \n",
       "2                         NaN                          NaN   \n",
       "3                         NaN                          8.0   \n",
       "4                         NaN                         22.0   \n",
       "\n",
       "   count_fourth_places_ Switzerland  count_fourth_places_ Türkiye  \\\n",
       "0                               NaN                           NaN   \n",
       "1                               4.0                           NaN   \n",
       "2                               NaN                           NaN   \n",
       "3                               NaN                           NaN   \n",
       "4                               NaN                           NaN   \n",
       "\n",
       "   count_fourth_places_ United States  count_fourth_places_ West Germany  \\\n",
       "0                                 NaN                                NaN   \n",
       "1                                 8.0                                NaN   \n",
       "2                                43.0                                NaN   \n",
       "3                                11.0                                NaN   \n",
       "4                                12.0                                NaN   \n",
       "\n",
       "   count_fourth_places_ Yugoslavia  \n",
       "0                              NaN  \n",
       "1                              NaN  \n",
       "2                              NaN  \n",
       "3                              NaN  \n",
       "4                              NaN  \n",
       "\n",
       "[5 rows x 51 columns]"
      ]
     },
     "execution_count": 94,
     "metadata": {},
     "output_type": "execute_result"
    }
   ],
   "source": [
    "# create a pivot table with a few aggregations\n",
    "athlete_pivot_fourthplaces = fourth_places.pivot_table(index=\"edition_id\", columns = \"country\", values=[\"athlete_id\"], \n",
    "                                                   aggfunc={\"athlete_id\": [\"count\"]})\n",
    "\n",
    "# flatten multi-index\n",
    "athlete_pivot_fourthplaces.columns = [\"count_fourth_places_\"+col[2] for col in athlete_pivot_fourthplaces.columns.values]\n",
    "\n",
    "# reset index\n",
    "athlete_pivot_fourthplaces.reset_index(inplace=True)\n",
    "\n",
    "# only keep columns with X continuous datapoints (not NaN)\n",
    "athlete_pivot_fourthplaces = athlete_pivot_fourthplaces.dropna(axis=1, thresh=10)\n",
    "\n",
    "athlete_pivot_fourthplaces.head(5)"
   ]
  },
  {
   "cell_type": "markdown",
   "metadata": {},
   "source": [
    "## Paralympics"
   ]
  },
  {
   "cell_type": "code",
   "execution_count": 95,
   "metadata": {},
   "outputs": [],
   "source": [
    "paralympics_df = pd.read_excel(\"data/official_data/Paralympics Medal_athlete.xlsx\")"
   ]
  },
  {
   "cell_type": "code",
   "execution_count": 96,
   "metadata": {},
   "outputs": [],
   "source": [
    "# remove duplicates of games_code, sport, event, medal, npc_name\n",
    "paralympics_df = paralympics_df.drop_duplicates(subset=[\"games_code\", \"sport\", \"event\", \"medal\", \"npc_name\"])\n",
    "\n",
    "# rename \"games_season\" to \"season\" and lowercase all contents\n",
    "paralympics_df.rename(columns={\"games_season\": \"season\"}, inplace=True)\n",
    "paralympics_df[\"season\"] = paralympics_df[\"season\"].str.lower()"
   ]
  },
  {
   "cell_type": "code",
   "execution_count": 97,
   "metadata": {},
   "outputs": [
    {
     "data": {
      "text/html": [
       "<div>\n",
       "<style scoped>\n",
       "    .dataframe tbody tr th:only-of-type {\n",
       "        vertical-align: middle;\n",
       "    }\n",
       "\n",
       "    .dataframe tbody tr th {\n",
       "        vertical-align: top;\n",
       "    }\n",
       "\n",
       "    .dataframe thead th {\n",
       "        text-align: right;\n",
       "    }\n",
       "</style>\n",
       "<table border=\"1\" class=\"dataframe\">\n",
       "  <thead>\n",
       "    <tr style=\"text-align: right;\">\n",
       "      <th></th>\n",
       "      <th>games_code</th>\n",
       "      <th>games_year</th>\n",
       "      <th>games_city</th>\n",
       "      <th>games_country</th>\n",
       "      <th>games_continent</th>\n",
       "      <th>games_start</th>\n",
       "      <th>games_end</th>\n",
       "      <th>season</th>\n",
       "      <th>sport</th>\n",
       "      <th>sport_code</th>\n",
       "      <th>event_venue</th>\n",
       "      <th>events</th>\n",
       "      <th>npcs</th>\n",
       "      <th>athletes</th>\n",
       "      <th>event</th>\n",
       "      <th>medal</th>\n",
       "      <th>npc</th>\n",
       "      <th>npc_new</th>\n",
       "      <th>npc_name</th>\n",
       "      <th>athlete_name</th>\n",
       "    </tr>\n",
       "  </thead>\n",
       "  <tbody>\n",
       "    <tr>\n",
       "      <th>0</th>\n",
       "      <td>PG1960</td>\n",
       "      <td>1960</td>\n",
       "      <td>Rome</td>\n",
       "      <td>Italy</td>\n",
       "      <td>Europe</td>\n",
       "      <td>1960-09-18</td>\n",
       "      <td>1960-09-25</td>\n",
       "      <td>summer</td>\n",
       "      <td>Archery</td>\n",
       "      <td>AR</td>\n",
       "      <td>NaN</td>\n",
       "      <td>8</td>\n",
       "      <td>8</td>\n",
       "      <td>19</td>\n",
       "      <td>Men's FITA Round Open</td>\n",
       "      <td>Bronze</td>\n",
       "      <td>GBR</td>\n",
       "      <td>GBR</td>\n",
       "      <td>United Kingdom</td>\n",
       "      <td>Potter</td>\n",
       "    </tr>\n",
       "    <tr>\n",
       "      <th>1</th>\n",
       "      <td>PG1960</td>\n",
       "      <td>1960</td>\n",
       "      <td>Rome</td>\n",
       "      <td>Italy</td>\n",
       "      <td>Europe</td>\n",
       "      <td>1960-09-18</td>\n",
       "      <td>1960-09-25</td>\n",
       "      <td>summer</td>\n",
       "      <td>Archery</td>\n",
       "      <td>AR</td>\n",
       "      <td>NaN</td>\n",
       "      <td>8</td>\n",
       "      <td>8</td>\n",
       "      <td>19</td>\n",
       "      <td>Men's Columbia Round Open</td>\n",
       "      <td>Bronze</td>\n",
       "      <td>GBR</td>\n",
       "      <td>GBR</td>\n",
       "      <td>United Kingdom</td>\n",
       "      <td>Hepple</td>\n",
       "    </tr>\n",
       "    <tr>\n",
       "      <th>2</th>\n",
       "      <td>PG1960</td>\n",
       "      <td>1960</td>\n",
       "      <td>Rome</td>\n",
       "      <td>Italy</td>\n",
       "      <td>Europe</td>\n",
       "      <td>1960-09-18</td>\n",
       "      <td>1960-09-25</td>\n",
       "      <td>summer</td>\n",
       "      <td>Archery</td>\n",
       "      <td>AR</td>\n",
       "      <td>NaN</td>\n",
       "      <td>8</td>\n",
       "      <td>8</td>\n",
       "      <td>19</td>\n",
       "      <td>Men's St. Nicholas Round Open</td>\n",
       "      <td>Bronze</td>\n",
       "      <td>USA</td>\n",
       "      <td>USA</td>\n",
       "      <td>United States</td>\n",
       "      <td>Sones P</td>\n",
       "    </tr>\n",
       "    <tr>\n",
       "      <th>3</th>\n",
       "      <td>PG1960</td>\n",
       "      <td>1960</td>\n",
       "      <td>Rome</td>\n",
       "      <td>Italy</td>\n",
       "      <td>Europe</td>\n",
       "      <td>1960-09-18</td>\n",
       "      <td>1960-09-25</td>\n",
       "      <td>summer</td>\n",
       "      <td>Archery</td>\n",
       "      <td>AR</td>\n",
       "      <td>NaN</td>\n",
       "      <td>8</td>\n",
       "      <td>8</td>\n",
       "      <td>19</td>\n",
       "      <td>Men's Windsor Round Open</td>\n",
       "      <td>Bronze</td>\n",
       "      <td>BEL</td>\n",
       "      <td>BEL</td>\n",
       "      <td>Belgium</td>\n",
       "      <td>Van Puymbroeck</td>\n",
       "    </tr>\n",
       "    <tr>\n",
       "      <th>4</th>\n",
       "      <td>PG1960</td>\n",
       "      <td>1960</td>\n",
       "      <td>Rome</td>\n",
       "      <td>Italy</td>\n",
       "      <td>Europe</td>\n",
       "      <td>1960-09-18</td>\n",
       "      <td>1960-09-25</td>\n",
       "      <td>summer</td>\n",
       "      <td>Archery</td>\n",
       "      <td>AR</td>\n",
       "      <td>NaN</td>\n",
       "      <td>8</td>\n",
       "      <td>8</td>\n",
       "      <td>19</td>\n",
       "      <td>Women's FITA Round Open</td>\n",
       "      <td>Bronze</td>\n",
       "      <td>GBR</td>\n",
       "      <td>GBR</td>\n",
       "      <td>United Kingdom</td>\n",
       "      <td>Irvine R</td>\n",
       "    </tr>\n",
       "  </tbody>\n",
       "</table>\n",
       "</div>"
      ],
      "text/plain": [
       "  games_code  games_year games_city games_country games_continent games_start  \\\n",
       "0     PG1960        1960       Rome         Italy          Europe  1960-09-18   \n",
       "1     PG1960        1960       Rome         Italy          Europe  1960-09-18   \n",
       "2     PG1960        1960       Rome         Italy          Europe  1960-09-18   \n",
       "3     PG1960        1960       Rome         Italy          Europe  1960-09-18   \n",
       "4     PG1960        1960       Rome         Italy          Europe  1960-09-18   \n",
       "\n",
       "   games_end  season    sport sport_code event_venue  events  npcs  athletes  \\\n",
       "0 1960-09-25  summer  Archery         AR         NaN       8     8        19   \n",
       "1 1960-09-25  summer  Archery         AR         NaN       8     8        19   \n",
       "2 1960-09-25  summer  Archery         AR         NaN       8     8        19   \n",
       "3 1960-09-25  summer  Archery         AR         NaN       8     8        19   \n",
       "4 1960-09-25  summer  Archery         AR         NaN       8     8        19   \n",
       "\n",
       "                           event   medal  npc npc_new        npc_name  \\\n",
       "0          Men's FITA Round Open  Bronze  GBR     GBR  United Kingdom   \n",
       "1      Men's Columbia Round Open  Bronze  GBR     GBR  United Kingdom   \n",
       "2  Men's St. Nicholas Round Open  Bronze  USA     USA   United States   \n",
       "3       Men's Windsor Round Open  Bronze  BEL     BEL         Belgium   \n",
       "4        Women's FITA Round Open  Bronze  GBR     GBR  United Kingdom   \n",
       "\n",
       "     athlete_name  \n",
       "0          Potter  \n",
       "1          Hepple  \n",
       "2         Sones P  \n",
       "3  Van Puymbroeck  \n",
       "4        Irvine R  "
      ]
     },
     "execution_count": 97,
     "metadata": {},
     "output_type": "execute_result"
    }
   ],
   "source": [
    "paralympics_df.head(5)"
   ]
  },
  {
   "cell_type": "code",
   "execution_count": 98,
   "metadata": {},
   "outputs": [
    {
     "data": {
      "text/html": [
       "<div>\n",
       "<style scoped>\n",
       "    .dataframe tbody tr th:only-of-type {\n",
       "        vertical-align: middle;\n",
       "    }\n",
       "\n",
       "    .dataframe tbody tr th {\n",
       "        vertical-align: top;\n",
       "    }\n",
       "\n",
       "    .dataframe thead th {\n",
       "        text-align: right;\n",
       "    }\n",
       "</style>\n",
       "<table border=\"1\" class=\"dataframe\">\n",
       "  <thead>\n",
       "    <tr style=\"text-align: right;\">\n",
       "      <th></th>\n",
       "      <th>games_year</th>\n",
       "      <th>season</th>\n",
       "      <th>paralympics_medal_count_Argentina</th>\n",
       "      <th>paralympics_medal_count_Australia</th>\n",
       "      <th>paralympics_medal_count_Austria</th>\n",
       "      <th>paralympics_medal_count_Belarus</th>\n",
       "      <th>paralympics_medal_count_Belgium</th>\n",
       "      <th>paralympics_medal_count_Brazil</th>\n",
       "      <th>paralympics_medal_count_Canada</th>\n",
       "      <th>paralympics_medal_count_China</th>\n",
       "      <th>...</th>\n",
       "      <th>paralympics_medal_count_Serbia</th>\n",
       "      <th>paralympics_medal_count_Slovakia</th>\n",
       "      <th>paralympics_medal_count_South Africa</th>\n",
       "      <th>paralympics_medal_count_South Korea</th>\n",
       "      <th>paralympics_medal_count_Spain</th>\n",
       "      <th>paralympics_medal_count_Sweden</th>\n",
       "      <th>paralympics_medal_count_Switzerland</th>\n",
       "      <th>paralympics_medal_count_Ukraine</th>\n",
       "      <th>paralympics_medal_count_United Kingdom</th>\n",
       "      <th>paralympics_medal_count_United States</th>\n",
       "    </tr>\n",
       "  </thead>\n",
       "  <tbody>\n",
       "    <tr>\n",
       "      <th>0</th>\n",
       "      <td>1960</td>\n",
       "      <td>summer</td>\n",
       "      <td>6.0</td>\n",
       "      <td>10.0</td>\n",
       "      <td>30.0</td>\n",
       "      <td>NaN</td>\n",
       "      <td>3.0</td>\n",
       "      <td>NaN</td>\n",
       "      <td>NaN</td>\n",
       "      <td>NaN</td>\n",
       "      <td>...</td>\n",
       "      <td>NaN</td>\n",
       "      <td>NaN</td>\n",
       "      <td>NaN</td>\n",
       "      <td>NaN</td>\n",
       "      <td>NaN</td>\n",
       "      <td>NaN</td>\n",
       "      <td>4.0</td>\n",
       "      <td>NaN</td>\n",
       "      <td>55.0</td>\n",
       "      <td>25.0</td>\n",
       "    </tr>\n",
       "    <tr>\n",
       "      <th>1</th>\n",
       "      <td>1964</td>\n",
       "      <td>summer</td>\n",
       "      <td>36.0</td>\n",
       "      <td>27.0</td>\n",
       "      <td>9.0</td>\n",
       "      <td>NaN</td>\n",
       "      <td>2.0</td>\n",
       "      <td>NaN</td>\n",
       "      <td>NaN</td>\n",
       "      <td>NaN</td>\n",
       "      <td>...</td>\n",
       "      <td>NaN</td>\n",
       "      <td>NaN</td>\n",
       "      <td>19.0</td>\n",
       "      <td>NaN</td>\n",
       "      <td>NaN</td>\n",
       "      <td>1.0</td>\n",
       "      <td>1.0</td>\n",
       "      <td>NaN</td>\n",
       "      <td>59.0</td>\n",
       "      <td>121.0</td>\n",
       "    </tr>\n",
       "    <tr>\n",
       "      <th>2</th>\n",
       "      <td>1968</td>\n",
       "      <td>summer</td>\n",
       "      <td>29.0</td>\n",
       "      <td>37.0</td>\n",
       "      <td>18.0</td>\n",
       "      <td>NaN</td>\n",
       "      <td>5.0</td>\n",
       "      <td>NaN</td>\n",
       "      <td>19.0</td>\n",
       "      <td>NaN</td>\n",
       "      <td>...</td>\n",
       "      <td>NaN</td>\n",
       "      <td>NaN</td>\n",
       "      <td>26.0</td>\n",
       "      <td>NaN</td>\n",
       "      <td>4.0</td>\n",
       "      <td>11.0</td>\n",
       "      <td>7.0</td>\n",
       "      <td>NaN</td>\n",
       "      <td>62.0</td>\n",
       "      <td>94.0</td>\n",
       "    </tr>\n",
       "    <tr>\n",
       "      <th>3</th>\n",
       "      <td>1972</td>\n",
       "      <td>summer</td>\n",
       "      <td>7.0</td>\n",
       "      <td>24.0</td>\n",
       "      <td>14.0</td>\n",
       "      <td>NaN</td>\n",
       "      <td>4.0</td>\n",
       "      <td>NaN</td>\n",
       "      <td>16.0</td>\n",
       "      <td>NaN</td>\n",
       "      <td>...</td>\n",
       "      <td>4.0</td>\n",
       "      <td>NaN</td>\n",
       "      <td>38.0</td>\n",
       "      <td>6.0</td>\n",
       "      <td>4.0</td>\n",
       "      <td>12.0</td>\n",
       "      <td>8.0</td>\n",
       "      <td>NaN</td>\n",
       "      <td>43.0</td>\n",
       "      <td>67.0</td>\n",
       "    </tr>\n",
       "  </tbody>\n",
       "</table>\n",
       "<p>4 rows × 39 columns</p>\n",
       "</div>"
      ],
      "text/plain": [
       "   games_year  season  paralympics_medal_count_Argentina  \\\n",
       "0        1960  summer                                6.0   \n",
       "1        1964  summer                               36.0   \n",
       "2        1968  summer                               29.0   \n",
       "3        1972  summer                                7.0   \n",
       "\n",
       "   paralympics_medal_count_Australia  paralympics_medal_count_Austria  \\\n",
       "0                               10.0                             30.0   \n",
       "1                               27.0                              9.0   \n",
       "2                               37.0                             18.0   \n",
       "3                               24.0                             14.0   \n",
       "\n",
       "   paralympics_medal_count_Belarus  paralympics_medal_count_Belgium  \\\n",
       "0                              NaN                              3.0   \n",
       "1                              NaN                              2.0   \n",
       "2                              NaN                              5.0   \n",
       "3                              NaN                              4.0   \n",
       "\n",
       "   paralympics_medal_count_Brazil  paralympics_medal_count_Canada  \\\n",
       "0                             NaN                             NaN   \n",
       "1                             NaN                             NaN   \n",
       "2                             NaN                            19.0   \n",
       "3                             NaN                            16.0   \n",
       "\n",
       "   paralympics_medal_count_China  ...  paralympics_medal_count_Serbia  \\\n",
       "0                            NaN  ...                             NaN   \n",
       "1                            NaN  ...                             NaN   \n",
       "2                            NaN  ...                             NaN   \n",
       "3                            NaN  ...                             4.0   \n",
       "\n",
       "   paralympics_medal_count_Slovakia  paralympics_medal_count_South Africa  \\\n",
       "0                               NaN                                   NaN   \n",
       "1                               NaN                                  19.0   \n",
       "2                               NaN                                  26.0   \n",
       "3                               NaN                                  38.0   \n",
       "\n",
       "   paralympics_medal_count_South Korea  paralympics_medal_count_Spain  \\\n",
       "0                                  NaN                            NaN   \n",
       "1                                  NaN                            NaN   \n",
       "2                                  NaN                            4.0   \n",
       "3                                  6.0                            4.0   \n",
       "\n",
       "   paralympics_medal_count_Sweden  paralympics_medal_count_Switzerland  \\\n",
       "0                             NaN                                  4.0   \n",
       "1                             1.0                                  1.0   \n",
       "2                            11.0                                  7.0   \n",
       "3                            12.0                                  8.0   \n",
       "\n",
       "   paralympics_medal_count_Ukraine  paralympics_medal_count_United Kingdom  \\\n",
       "0                              NaN                                    55.0   \n",
       "1                              NaN                                    59.0   \n",
       "2                              NaN                                    62.0   \n",
       "3                              NaN                                    43.0   \n",
       "\n",
       "   paralympics_medal_count_United States  \n",
       "0                                   25.0  \n",
       "1                                  121.0  \n",
       "2                                   94.0  \n",
       "3                                   67.0  \n",
       "\n",
       "[4 rows x 39 columns]"
      ]
     },
     "execution_count": 98,
     "metadata": {},
     "output_type": "execute_result"
    }
   ],
   "source": [
    "# create a pivot table with a few aggregations\n",
    "paralympics_medals = paralympics_df.pivot_table(index=[\"games_year\", \"season\"], columns = [\"npc_name\"], values=[\"medal\"], \n",
    "                                                   aggfunc={\"medal\": [\"count\"]})\n",
    "\n",
    "# flatten multi-index\n",
    "paralympics_medals.columns = [\"paralympics_medal_count_\"+col[2] for col in paralympics_medals.columns.values]\n",
    "\n",
    "# reset index\n",
    "paralympics_medals.reset_index(inplace=True)\n",
    "\n",
    "# only keep columns with X continuous datapoints (not NaN)\n",
    "paralympics_medals = paralympics_medals.dropna(axis=1, thresh=10)\n",
    "\n",
    "paralympics_medals.head(4)"
   ]
  },
  {
   "cell_type": "markdown",
   "metadata": {},
   "source": [
    "# Fuse everything together\n",
    "\n",
    "Here we will create one meta-dataset that incorporates all the different columns we collected."
   ]
  },
  {
   "cell_type": "code",
   "execution_count": 100,
   "metadata": {},
   "outputs": [
    {
     "data": {
      "text/html": [
       "<div>\n",
       "<style scoped>\n",
       "    .dataframe tbody tr th:only-of-type {\n",
       "        vertical-align: middle;\n",
       "    }\n",
       "\n",
       "    .dataframe tbody tr th {\n",
       "        vertical-align: top;\n",
       "    }\n",
       "\n",
       "    .dataframe thead th {\n",
       "        text-align: right;\n",
       "    }\n",
       "</style>\n",
       "<table border=\"1\" class=\"dataframe\">\n",
       "  <thead>\n",
       "    <tr style=\"text-align: right;\">\n",
       "      <th></th>\n",
       "      <th>edition_id</th>\n",
       "      <th>edition_url</th>\n",
       "      <th>year</th>\n",
       "      <th>city</th>\n",
       "      <th>country_flag_url</th>\n",
       "      <th>country_noc</th>\n",
       "      <th>competition_start_date</th>\n",
       "      <th>competition_end_date</th>\n",
       "      <th>duration_days</th>\n",
       "      <th>season</th>\n",
       "      <th>...</th>\n",
       "      <th>paralympics_medal_count_Serbia</th>\n",
       "      <th>paralympics_medal_count_Slovakia</th>\n",
       "      <th>paralympics_medal_count_South Africa</th>\n",
       "      <th>paralympics_medal_count_South Korea</th>\n",
       "      <th>paralympics_medal_count_Spain</th>\n",
       "      <th>paralympics_medal_count_Sweden</th>\n",
       "      <th>paralympics_medal_count_Switzerland</th>\n",
       "      <th>paralympics_medal_count_Ukraine</th>\n",
       "      <th>paralympics_medal_count_United Kingdom</th>\n",
       "      <th>paralympics_medal_count_United States</th>\n",
       "    </tr>\n",
       "  </thead>\n",
       "  <tbody>\n",
       "    <tr>\n",
       "      <th>0</th>\n",
       "      <td>1</td>\n",
       "      <td>/editions/1</td>\n",
       "      <td>1896</td>\n",
       "      <td>Athina</td>\n",
       "      <td>/images/flags/GRE.png</td>\n",
       "      <td>GRE</td>\n",
       "      <td>1896-04-06</td>\n",
       "      <td>1896-04-13</td>\n",
       "      <td>7.0</td>\n",
       "      <td>summer</td>\n",
       "      <td>...</td>\n",
       "      <td>NaN</td>\n",
       "      <td>NaN</td>\n",
       "      <td>NaN</td>\n",
       "      <td>NaN</td>\n",
       "      <td>NaN</td>\n",
       "      <td>NaN</td>\n",
       "      <td>NaN</td>\n",
       "      <td>NaN</td>\n",
       "      <td>NaN</td>\n",
       "      <td>NaN</td>\n",
       "    </tr>\n",
       "    <tr>\n",
       "      <th>1</th>\n",
       "      <td>2</td>\n",
       "      <td>/editions/2</td>\n",
       "      <td>1900</td>\n",
       "      <td>Paris</td>\n",
       "      <td>/images/flags/FRA.png</td>\n",
       "      <td>FRA</td>\n",
       "      <td>1900-05-14</td>\n",
       "      <td>1900-10-28</td>\n",
       "      <td>167.0</td>\n",
       "      <td>summer</td>\n",
       "      <td>...</td>\n",
       "      <td>NaN</td>\n",
       "      <td>NaN</td>\n",
       "      <td>NaN</td>\n",
       "      <td>NaN</td>\n",
       "      <td>NaN</td>\n",
       "      <td>NaN</td>\n",
       "      <td>NaN</td>\n",
       "      <td>NaN</td>\n",
       "      <td>NaN</td>\n",
       "      <td>NaN</td>\n",
       "    </tr>\n",
       "    <tr>\n",
       "      <th>2</th>\n",
       "      <td>3</td>\n",
       "      <td>/editions/3</td>\n",
       "      <td>1904</td>\n",
       "      <td>St. Louis</td>\n",
       "      <td>/images/flags/USA.png</td>\n",
       "      <td>USA</td>\n",
       "      <td>1904-07-01</td>\n",
       "      <td>1904-11-23</td>\n",
       "      <td>145.0</td>\n",
       "      <td>summer</td>\n",
       "      <td>...</td>\n",
       "      <td>NaN</td>\n",
       "      <td>NaN</td>\n",
       "      <td>NaN</td>\n",
       "      <td>NaN</td>\n",
       "      <td>NaN</td>\n",
       "      <td>NaN</td>\n",
       "      <td>NaN</td>\n",
       "      <td>NaN</td>\n",
       "      <td>NaN</td>\n",
       "      <td>NaN</td>\n",
       "    </tr>\n",
       "  </tbody>\n",
       "</table>\n",
       "<p>3 rows × 3254 columns</p>\n",
       "</div>"
      ],
      "text/plain": [
       "   edition_id  edition_url  year       city       country_flag_url  \\\n",
       "0           1  /editions/1  1896     Athina  /images/flags/GRE.png   \n",
       "1           2  /editions/2  1900      Paris  /images/flags/FRA.png   \n",
       "2           3  /editions/3  1904  St. Louis  /images/flags/USA.png   \n",
       "\n",
       "  country_noc competition_start_date competition_end_date  duration_days  \\\n",
       "0         GRE             1896-04-06           1896-04-13            7.0   \n",
       "1         FRA             1900-05-14           1900-10-28          167.0   \n",
       "2         USA             1904-07-01           1904-11-23          145.0   \n",
       "\n",
       "   season  ...  paralympics_medal_count_Serbia  \\\n",
       "0  summer  ...                             NaN   \n",
       "1  summer  ...                             NaN   \n",
       "2  summer  ...                             NaN   \n",
       "\n",
       "   paralympics_medal_count_Slovakia  paralympics_medal_count_South Africa  \\\n",
       "0                               NaN                                   NaN   \n",
       "1                               NaN                                   NaN   \n",
       "2                               NaN                                   NaN   \n",
       "\n",
       "   paralympics_medal_count_South Korea paralympics_medal_count_Spain  \\\n",
       "0                                  NaN                           NaN   \n",
       "1                                  NaN                           NaN   \n",
       "2                                  NaN                           NaN   \n",
       "\n",
       "   paralympics_medal_count_Sweden  paralympics_medal_count_Switzerland  \\\n",
       "0                             NaN                                  NaN   \n",
       "1                             NaN                                  NaN   \n",
       "2                             NaN                                  NaN   \n",
       "\n",
       "   paralympics_medal_count_Ukraine  paralympics_medal_count_United Kingdom  \\\n",
       "0                              NaN                                     NaN   \n",
       "1                              NaN                                     NaN   \n",
       "2                              NaN                                     NaN   \n",
       "\n",
       "   paralympics_medal_count_United States  \n",
       "0                                    NaN  \n",
       "1                                    NaN  \n",
       "2                                    NaN  \n",
       "\n",
       "[3 rows x 3254 columns]"
      ]
     },
     "execution_count": 100,
     "metadata": {},
     "output_type": "execute_result"
    }
   ],
   "source": [
    "# Start with the main DataFrame\n",
    "df = olympic_df\n",
    "\n",
    "# List of DataFrames to merge\n",
    "dfs_to_merge = [\n",
    "    (medal_pivot_df, 'edition_id'),\n",
    "    (athlete_pivot, 'edition_id'),\n",
    "    (athlete_pivot_sport, 'edition_id'),\n",
    "    (athlete_pivot_medal, 'edition_id'),\n",
    "    (athlete_pivot_names, 'edition_id'),\n",
    "    (athlete_birthdays, 'edition_id'),\n",
    "    (athlete_pivot_fourthplaces, 'edition_id'),\n",
    "    (athlete_pivot_name, 'edition_id'),\n",
    "    (athlete_pivot_finegrained, 'edition_id'), \n",
    "    (athlete_pivot_participants, 'edition_id')\n",
    "]\n",
    "\n",
    "# Merge each DataFrame\n",
    "for df_to_merge, key in dfs_to_merge:\n",
    "    df = df.merge(df_to_merge, on=key, how='left')\n",
    "\n",
    "# Merge athlete_birth_year with custom keys\n",
    "df = df.merge(athlete_birth_year, left_on='year', right_on='birth_year', how='left')\n",
    "\n",
    "# Merge paralympics_medals with custom keys\n",
    "df = df.merge(paralympics_medals, left_on=['year', 'season'], right_on=['games_year', 'season'], how='left')\n",
    "\n",
    "df.head(3)"
   ]
  },
  {
   "cell_type": "code",
   "execution_count": 62,
   "metadata": {},
   "outputs": [],
   "source": [
    "# Export to excel in the new_data folder\n",
    "#df.to_excel(\"data/new_data/olympic_games_correlations.xlsx\")"
   ]
  },
  {
   "cell_type": "markdown",
   "metadata": {},
   "source": [
    "# Step 3 : find correlations"
   ]
  },
  {
   "cell_type": "markdown",
   "metadata": {},
   "source": [
    "## Import data"
   ]
  },
  {
   "cell_type": "code",
   "execution_count": 101,
   "metadata": {},
   "outputs": [],
   "source": [
    "import pandas as pd\n",
    "import numpy as np\n",
    "\n",
    "master_sheet = df.copy()\n",
    "\n",
    "# Remove columns with fewer than X non-null values\n",
    "master_sheet = master_sheet.dropna(thresh=10, axis=1)\n",
    "\n",
    "# Drop \"Year\" column\n",
    "master_sheet = master_sheet.drop(columns=[\"Year\"])\n",
    "\n",
    "# Remove specific columns : edition_id, edition, is_summer, country_noc\n",
    "master_sheet = master_sheet.drop(columns=['edition_id', 'country_noc'])\n",
    "\n",
    "# create combined dataset from when olympic games started being separated\n",
    "modern_olympics = master_sheet[master_sheet[\"year\"] >= 1994]\n",
    "\n",
    "# Create summer dataset\n",
    "summer_olympics = master_sheet[master_sheet['season'] == \"summer\"]\n",
    "\n",
    "# Create winter dataset\n",
    "winter_olympics = master_sheet[master_sheet['season'] == \"winter\"]"
   ]
  },
  {
   "cell_type": "code",
   "execution_count": 144,
   "metadata": {},
   "outputs": [],
   "source": [
    "# store cols less useful for corrs : we don't want to calculate correlations between these pairs\n",
    "\n",
    "non_comparison_cols = master_sheet.iloc[:, 0:12].columns.to_list() + master_sheet.iloc[:, 19:55].columns.to_list()\n"
   ]
  },
  {
   "cell_type": "markdown",
   "metadata": {},
   "source": [
    "## Option 1 : Autocorrelation\n",
    "\n",
    "Calculate correlation between relevant columns, and then examine all graphs produced."
   ]
  },
  {
   "cell_type": "code",
   "execution_count": 162,
   "metadata": {},
   "outputs": [],
   "source": [
    "import numpy as np\n",
    "from scipy import stats\n",
    "from scipy import special\n",
    "\n",
    "def analyze_dataframe(df, column_names, lower_thres, upper_thres, non_comparison_cols, min_common_years = 7):\n",
    "    # generate doc string\n",
    "    \"\"\"\n",
    "    This function calculates the correlation, p-value and r-squared between all columns in a DataFrame.\n",
    "    It returns a dictionary with the column pairs as keys and the correlation, p-value and r-squared as values.\n",
    "    Arguments : \n",
    "    df : DataFrame\n",
    "    column_names : list of column names\n",
    "    lower_thres : float, lower threshold for correlation\n",
    "    upper_thres : float, upper threshold for correlation\n",
    "    non_comparison_cols : list of column names to skip - don't calculate correlation between these non-olympic data columns\n",
    "    min_common_years : int, minimum number of common years between two columns to calculate correlation\n",
    "    \"\"\"\n",
    "\n",
    "    medal_cats = [\"gold\", \"silver\", \"bronze\", \"total\"] # custom list to skip correlation calculations between medal categories\n",
    "\n",
    "\n",
    "    def pearsonr_many(x, ys):\n",
    "        # custom function to calculate pearson correlation between one column and many others - see https://stackoverflow.com/questions/61165027/fast-pearsonr-between-1-vector-and-many-others\n",
    "        x_mean = x.mean()\n",
    "        y_means = ys.mean(axis=1)\n",
    "\n",
    "        xm, yms = x - x_mean, ys - y_means[:, np.newaxis]\n",
    "        denominator = np.sqrt(xm @ xm * (yms * yms).sum(axis=1))\n",
    "        denominator[denominator == 0] = np.finfo(float).eps  # replace any zeroes in the denominator with a small positive number\n",
    "        r = yms @ xm / denominator\n",
    "\n",
    "        prob = special.betainc(\n",
    "            len(x) / 2 - 1,\n",
    "            0.5,\n",
    "            1 / (1 + r * r / (1 - r * r))\n",
    "        )\n",
    "        return r, prob\n",
    "    \n",
    "    # dictionary to store results\n",
    "    results = {}\n",
    "    non_nan_indices = [np.where(~np.isnan(df[:, col]))[0] for col in range(df.shape[1])] # a boolean mask to find non-NaN indices in each column \n",
    "    medal_in_col_names = [any(medal in col for medal in medal_cats) for col in column_names] # a boolean mask to see which columns contain medal counts\n",
    "\n",
    "\n",
    "    for outer_col in range(df.shape[1]): \n",
    "        outer_sequence = df[:, outer_col]\n",
    "\n",
    "        # add 1 to outer_col to avoid calculating correlation with same column\n",
    "        for inner_col in range(outer_col + 1, df.shape[1]):\n",
    "\n",
    "            # skip if comparison involves 2 non-oylmpic columns or 2 medal count columns\n",
    "            if (column_names[inner_col] in non_comparison_cols and column_names[outer_col] in non_comparison_cols) or (medal_in_col_names[outer_col] and medal_in_col_names[inner_col]):                    \n",
    "                continue\n",
    "\n",
    "            # skip if outer_col and inner_col have been calculated already\n",
    "            if (column_names[inner_col], column_names[outer_col]) in results:\n",
    "                continue\n",
    "\n",
    "            inner_sequence = df[:, inner_col]\n",
    "\n",
    "            # calculate the longest common sequence between the two columns\n",
    "            common_indices = np.intersect1d(non_nan_indices[outer_col], non_nan_indices[inner_col])\n",
    "\n",
    "            # skip if common indices are less than X\n",
    "            if len(common_indices) < min_common_years:\n",
    "                continue\n",
    "\n",
    "            # store bounds - the start and end year of the longest common sequence\n",
    "            bounds = (common_indices[0], common_indices[-1])\n",
    "\n",
    "            correlation, p_value = pearsonr_many(outer_sequence[common_indices], inner_sequence[common_indices].reshape(1, -1))\n",
    "            r_squared = correlation**2\n",
    "\n",
    "            if lower_thres < abs(correlation) < upper_thres:\n",
    "\n",
    "                results[(column_names[outer_col], column_names[inner_col])] = {\n",
    "                    'correlation': correlation,\n",
    "                    'r_squared': r_squared,\n",
    "                    'p_value': p_value,\n",
    "                    'lower_bound' : bounds[0],\n",
    "                    'upper_bound' : bounds[1]\n",
    "                }\n",
    "\n",
    "    return results"
   ]
  },
  {
   "cell_type": "code",
   "execution_count": 196,
   "metadata": {},
   "outputs": [],
   "source": [
    "# Function to create a grid of scatter plots with Seaborn to examine all correlations visually and pick the most interesting ones\n",
    "\n",
    "import seaborn as sns\n",
    "import matplotlib.pyplot as plt\n",
    "import math\n",
    "\n",
    "def plot_results_seaborn(df, results, export_path=None):\n",
    "    # Calculate the number of rows and columns\n",
    "    n = len(results)\n",
    "    cols = 3\n",
    "    rows = math.ceil(n / cols)\n",
    "\n",
    "    # Create a figure and axes\n",
    "    fig, axs = plt.subplots(rows, cols, figsize=(15, rows*5))\n",
    "\n",
    "    # For each pair in the results, create a line plot and add it to the subplot\n",
    "    for i, pair in enumerate(results.keys(), start=0):\n",
    "        var1, var2 = pair\n",
    "        stats = results[pair]\n",
    "        row = i // cols\n",
    "        col = i % cols\n",
    "        ax = axs[row, col]\n",
    "        sns.lineplot(x='year', y=var1, data=df, ax=ax)\n",
    "        ax2 = ax.twinx()\n",
    "        sns.lineplot(x='year', y=var2, data=df, ax=ax2, color='r')\n",
    "\n",
    "        # Set the title with two lines and make it bold\n",
    "        ax.set_title(f'{var1} VS \\n{var2}', weight='bold')\n",
    "\n",
    "        # Set the range of the x-axis for this subplot\n",
    "        lower_bound_year = df['year'].iloc[stats['lower_bound']]\n",
    "        upper_bound_index = min(stats['upper_bound'], len(df['year']) - 2) # remove 2 just to set max to year 2022\n",
    "        upper_bound_year = df['year'].iloc[upper_bound_index]\n",
    "        ax.set_xlim(lower_bound_year, upper_bound_year)\n",
    "\n",
    "    plt.tight_layout()\n",
    "\n",
    "    # If an export path is provided, save the figure to an image file\n",
    "    if export_path:\n",
    "        plt.savefig(export_path)\n",
    "        plt.close(fig)\n",
    "\n",
    "    else: \n",
    "        plt.show()"
   ]
  },
  {
   "cell_type": "markdown",
   "metadata": {},
   "source": [
    "### Summer olympics"
   ]
  },
  {
   "cell_type": "code",
   "execution_count": 164,
   "metadata": {},
   "outputs": [
    {
     "name": "stdout",
     "output_type": "stream",
     "text": [
      "Length of results : 4\n",
      "Time taken : 0.14926886558532715 seconds\n"
     ]
    }
   ],
   "source": [
    "# Select only numeric columns from the 3rd column (avoid year, and others)\n",
    "\n",
    "# Test a sample of columns\n",
    "df_selected = summer_olympics.iloc[:, :100].select_dtypes(include=[np.number])\n",
    "\n",
    "# Test all columns\n",
    "#df_selected = summer_olympics.select_dtypes(include=[np.number])\n",
    "\n",
    "# Convert to NumPy array\n",
    "df_np = df_selected.to_numpy()\n",
    "\n",
    "# Get column names\n",
    "column_names = df_selected.columns.tolist()\n",
    "\n",
    "# Store start time\n",
    "import time\n",
    "start_time = time.time()\n",
    "\n",
    "# Run autocorrelation function\n",
    "results = analyze_dataframe(df_np, column_names, lower_thres = 0.95, upper_thres = 0.99, non_comparison_cols = non_comparison_cols)\n",
    "\n",
    "# Store end time\n",
    "\n",
    "# Print length of results and time it took to process\n",
    "print(f\"Length of results : {len(results)}\")\n",
    "print(f\"Time taken : {time.time() - start_time} seconds\")"
   ]
  },
  {
   "cell_type": "code",
   "execution_count": 148,
   "metadata": {},
   "outputs": [
    {
     "data": {
      "image/png": "[encoded data removed]",
      "text/plain": [
       "<Figure size 1500x1000 with 10 Axes>"
      ]
     },
     "metadata": {},
     "output_type": "display_data"
    }
   ],
   "source": [
    "# for each set of 60 results, export to a separate image\n",
    "for i in range(0, len(results), 60):\n",
    "    # Export to file\n",
    "    #plot_results_seaborn(summer_olympics, dict(list(results.items())[i:i+60]), export_path=f\"data/exported_data/summer_correlations_{i}.png\")\n",
    "    # Show\n",
    "    plot_results_seaborn(summer_olympics, dict(list(results.items())[i:i+60]))"
   ]
  },
  {
   "cell_type": "markdown",
   "metadata": {},
   "source": [
    "### Winter olympics"
   ]
  },
  {
   "cell_type": "code",
   "execution_count": 184,
   "metadata": {},
   "outputs": [
    {
     "name": "stdout",
     "output_type": "stream",
     "text": [
      "Length of results : 18\n",
      "Time taken : 0.38434386253356934 seconds\n"
     ]
    }
   ],
   "source": [
    "# Select only numeric columns from the 3rd column (avoid year, and others)\n",
    "\n",
    "# Test a sample of columns\n",
    "df_selected = winter_olympics.iloc[:, :300].select_dtypes(include=[np.number])\n",
    "\n",
    "# Test all columns\n",
    "#df_selected = winter_olympics.select_dtypes(include=[np.number])\n",
    "\n",
    "# Convert to NumPy array\n",
    "df_np = df_selected.to_numpy()\n",
    "\n",
    "# Get column names\n",
    "column_names = df_selected.columns.tolist()\n",
    "\n",
    "# Store start time\n",
    "import time\n",
    "start_time = time.time()\n",
    "\n",
    "# Run autocorrelation function\n",
    "winter_results = analyze_dataframe(df_np, column_names, lower_thres = 0.95, upper_thres = 0.99, non_comparison_cols = non_comparison_cols)\n",
    "\n",
    "# Store end time\n",
    "\n",
    "# Print length of results and time it took to process\n",
    "print(f\"Length of results : {len(winter_results)}\")\n",
    "print(f\"Time taken : {time.time() - start_time} seconds\")"
   ]
  },
  {
   "cell_type": "code",
   "execution_count": 197,
   "metadata": {},
   "outputs": [
    {
     "name": "stdout",
     "output_type": "stream",
     "text": [
      "23\n",
      "23\n",
      "23\n",
      "23\n"
     ]
    },
    {
     "data": {
      "image/png": "[encoded data removed]",
      "text/plain": [
       "<Figure size 1500x1000 with 10 Axes>"
      ]
     },
     "metadata": {},
     "output_type": "display_data"
    }
   ],
   "source": [
    "# for each set of 60 results, export to a separate image\n",
    "for i in range(0, len(winter_results), 60):\n",
    "    # Export to file\n",
    "    #plot_results_seaborn(winter_olympics, dict(list(winter_results.items())[i:i+60]), export_path=f\"data/exported_data/winter_correlations_{i}.png\")\n",
    "    # Show\n",
    "    plot_results_seaborn(winter_olympics, dict(list(winter_results.items())[i:i+60]))"
   ]
  },
  {
   "cell_type": "markdown",
   "metadata": {},
   "source": [
    "## Option 2: calculate correlation between all columns, then manually examine results in Excel and plot relevant graphs by hand"
   ]
  },
  {
   "cell_type": "code",
   "execution_count": 198,
   "metadata": {},
   "outputs": [],
   "source": [
    "# Create a matrix of Pearson correlations - min_periods represents the minimum number of observations required per pair of columns to have a valid result.\n",
    "corr_matrix_summer = summer_olympics.corr(numeric_only=True, method = \"pearson\", min_periods = 15).abs()\n",
    "corr_matrix_winter = winter_olympics.corr(numeric_only=True, method = \"pearson\", min_periods = 15).abs()\n"
   ]
  },
  {
   "cell_type": "code",
   "execution_count": 449,
   "metadata": {},
   "outputs": [],
   "source": [
    "# only keep certain corr values\n",
    "def replace_values(val):\n",
    "    return val if abs(val) >= 0.95 and abs(val) < 0.999 else None\n",
    "\n",
    "# Apply function and delete columns with no values\n",
    "corr_matrix_summer = corr_matrix_summer.map(replace_values, na_action='ignore')\n",
    "corr_matrix_summer = corr_matrix_summer.dropna(axis=1, how='all')\n",
    "corr_matrix_winter = corr_matrix_winter.map(replace_values, na_action='ignore')\n",
    "corr_matrix_winter = corr_matrix_winter.dropna(axis=1, how='all')"
   ]
  },
  {
   "cell_type": "code",
   "execution_count": 450,
   "metadata": {},
   "outputs": [],
   "source": [
    "# Examine in Excel\n",
    "corr_matrix_summer.to_csv(\"data/exported_data/corr_matrix_summer.csv\")\n",
    "corr_matrix_winter.to_csv(\"data/exported_data/corr_matrix_winter.csv\")"
   ]
  },
  {
   "cell_type": "markdown",
   "metadata": {},
   "source": [
    "# Step 4 : plot and examine correlations"
   ]
  },
  {
   "cell_type": "code",
   "execution_count": 199,
   "metadata": {},
   "outputs": [],
   "source": [
    "# Generate a dual y-axis chart with plotly, showing the correlation between two variables over years \n",
    "\n",
    "import plotly.graph_objects as go\n",
    "from plotly.subplots import make_subplots\n",
    "\n",
    "def create_dual_axis_chart(dataframe, y1_column, y2_column, title, start_year=None, end_year = None):\n",
    "    # Filter dataframe if start_year is specified\n",
    "    if start_year is not None:\n",
    "        dataframe = dataframe[dataframe['year'] >= start_year]\n",
    "\n",
    "    if end_year is not None:\n",
    "        dataframe = dataframe[dataframe['year'] <= end_year]\n",
    "\n",
    "    # Create figure with secondary y-axis\n",
    "    fig = make_subplots(specs=[[{\"secondary_y\": True}]])\n",
    "\n",
    "    # Add traces\n",
    "    fig.add_trace(\n",
    "        go.Scatter(x=dataframe['year'], y=dataframe[y1_column], name=y1_column, mode = \"lines+markers\"),\n",
    "        secondary_y=False,\n",
    "    )\n",
    "\n",
    "    fig.add_trace(\n",
    "        go.Scatter(x=dataframe['year'], y=dataframe[y2_column], name=y2_column, mode = \"lines+markers\"),\n",
    "        secondary_y=True,\n",
    "    )\n",
    "\n",
    "    # Add figure title\n",
    "    fig.update_layout(\n",
    "        title_text=title\n",
    "    )\n",
    "\n",
    "    # Set x-axis title\n",
    "    fig.update_xaxes(title_text=\"Year\", tickmode='array')\n",
    "    fig.update_traces(connectgaps=True)\n",
    "\n",
    "    # Set y-axes titles\n",
    "    fig.update_yaxes(title_text=f\"<b>{y1_column}</b>\", secondary_y=False)\n",
    "    fig.update_yaxes(title_text=f\"<b>{y2_column}</b>\", secondary_y=True)\n",
    "\n",
    "    fig.show()"
   ]
  },
  {
   "cell_type": "markdown",
   "metadata": {},
   "source": [
    "### Manual examples"
   ]
  },
  {
   "cell_type": "code",
   "execution_count": 201,
   "metadata": {},
   "outputs": [
    {
     "data": {
      "application/vnd.plotly.v1+json": {
       "config": {
        "plotlyServerURL": "https://plot.ly"
       },
       "data": [
        {
         "connectgaps": true,
         "mode": "lines+markers",
         "name": "gold_Czechia",
         "type": "scatter",
         "x": [
          2000,
          2004,
          2008,
          2012,
          2016,
          2020,
          2024,
          2028,
          2032
         ],
         "xaxis": "x",
         "y": [
          2,
          1,
          3,
          4,
          1,
          4,
          null,
          null,
          null
         ],
         "yaxis": "y"
        },
        {
         "connectgaps": true,
         "mode": "lines+markers",
         "name": "count_steven",
         "type": "scatter",
         "x": [
          2000,
          2004,
          2008,
          2012,
          2016,
          2020,
          2024,
          2028,
          2032
         ],
         "xaxis": "x",
         "y": [
          6,
          4,
          7,
          9,
          5,
          8,
          null,
          null,
          null
         ],
         "yaxis": "y2"
        }
       ],
       "layout": {
        "template": {
         "data": {
          "bar": [
           {
            "error_x": {
             "color": "#2a3f5f"
            },
            "error_y": {
             "color": "#2a3f5f"
            },
            "marker": {
             "line": {
              "color": "#E5ECF6",
              "width": 0.5
             },
             "pattern": {
              "fillmode": "overlay",
              "size": 10,
              "solidity": 0.2
             }
            },
            "type": "bar"
           }
          ],
          "barpolar": [
           {
            "marker": {
             "line": {
              "color": "#E5ECF6",
              "width": 0.5
             },
             "pattern": {
              "fillmode": "overlay",
              "size": 10,
              "solidity": 0.2
             }
            },
            "type": "barpolar"
           }
          ],
          "carpet": [
           {
            "aaxis": {
             "endlinecolor": "#2a3f5f",
             "gridcolor": "white",
             "linecolor": "white",
             "minorgridcolor": "white",
             "startlinecolor": "#2a3f5f"
            },
            "baxis": {
             "endlinecolor": "#2a3f5f",
             "gridcolor": "white",
             "linecolor": "white",
             "minorgridcolor": "white",
             "startlinecolor": "#2a3f5f"
            },
            "type": "carpet"
           }
          ],
          "choropleth": [
           {
            "colorbar": {
             "outlinewidth": 0,
             "ticks": ""
            },
            "type": "choropleth"
           }
          ],
          "contour": [
           {
            "colorbar": {
             "outlinewidth": 0,
             "ticks": ""
            },
            "colorscale": [
             [
              0,
              "#0d0887"
             ],
             [
              0.1111111111111111,
              "#46039f"
             ],
             [
              0.2222222222222222,
              "#7201a8"
             ],
             [
              0.3333333333333333,
              "#9c179e"
             ],
             [
              0.4444444444444444,
              "#bd3786"
             ],
             [
              0.5555555555555556,
              "#d8576b"
             ],
             [
              0.6666666666666666,
              "#ed7953"
             ],
             [
              0.7777777777777778,
              "#fb9f3a"
             ],
             [
              0.8888888888888888,
              "#fdca26"
             ],
             [
              1,
              "#f0f921"
             ]
            ],
            "type": "contour"
           }
          ],
          "contourcarpet": [
           {
            "colorbar": {
             "outlinewidth": 0,
             "ticks": ""
            },
            "type": "contourcarpet"
           }
          ],
          "heatmap": [
           {
            "colorbar": {
             "outlinewidth": 0,
             "ticks": ""
            },
            "colorscale": [
             [
              0,
              "#0d0887"
             ],
             [
              0.1111111111111111,
              "#46039f"
             ],
             [
              0.2222222222222222,
              "#7201a8"
             ],
             [
              0.3333333333333333,
              "#9c179e"
             ],
             [
              0.4444444444444444,
              "#bd3786"
             ],
             [
              0.5555555555555556,
              "#d8576b"
             ],
             [
              0.6666666666666666,
              "#ed7953"
             ],
             [
              0.7777777777777778,
              "#fb9f3a"
             ],
             [
              0.8888888888888888,
              "#fdca26"
             ],
             [
              1,
              "#f0f921"
             ]
            ],
            "type": "heatmap"
           }
          ],
          "heatmapgl": [
           {
            "colorbar": {
             "outlinewidth": 0,
             "ticks": ""
            },
            "colorscale": [
             [
              0,
              "#0d0887"
             ],
             [
              0.1111111111111111,
              "#46039f"
             ],
             [
              0.2222222222222222,
              "#7201a8"
             ],
             [
              0.3333333333333333,
              "#9c179e"
             ],
             [
              0.4444444444444444,
              "#bd3786"
             ],
             [
              0.5555555555555556,
              "#d8576b"
             ],
             [
              0.6666666666666666,
              "#ed7953"
             ],
             [
              0.7777777777777778,
              "#fb9f3a"
             ],
             [
              0.8888888888888888,
              "#fdca26"
             ],
             [
              1,
              "#f0f921"
             ]
            ],
            "type": "heatmapgl"
           }
          ],
          "histogram": [
           {
            "marker": {
             "pattern": {
              "fillmode": "overlay",
              "size": 10,
              "solidity": 0.2
             }
            },
            "type": "histogram"
           }
          ],
          "histogram2d": [
           {
            "colorbar": {
             "outlinewidth": 0,
             "ticks": ""
            },
            "colorscale": [
             [
              0,
              "#0d0887"
             ],
             [
              0.1111111111111111,
              "#46039f"
             ],
             [
              0.2222222222222222,
              "#7201a8"
             ],
             [
              0.3333333333333333,
              "#9c179e"
             ],
             [
              0.4444444444444444,
              "#bd3786"
             ],
             [
              0.5555555555555556,
              "#d8576b"
             ],
             [
              0.6666666666666666,
              "#ed7953"
             ],
             [
              0.7777777777777778,
              "#fb9f3a"
             ],
             [
              0.8888888888888888,
              "#fdca26"
             ],
             [
              1,
              "#f0f921"
             ]
            ],
            "type": "histogram2d"
           }
          ],
          "histogram2dcontour": [
           {
            "colorbar": {
             "outlinewidth": 0,
             "ticks": ""
            },
            "colorscale": [
             [
              0,
              "#0d0887"
             ],
             [
              0.1111111111111111,
              "#46039f"
             ],
             [
              0.2222222222222222,
              "#7201a8"
             ],
             [
              0.3333333333333333,
              "#9c179e"
             ],
             [
              0.4444444444444444,
              "#bd3786"
             ],
             [
              0.5555555555555556,
              "#d8576b"
             ],
             [
              0.6666666666666666,
              "#ed7953"
             ],
             [
              0.7777777777777778,
              "#fb9f3a"
             ],
             [
              0.8888888888888888,
              "#fdca26"
             ],
             [
              1,
              "#f0f921"
             ]
            ],
            "type": "histogram2dcontour"
           }
          ],
          "mesh3d": [
           {
            "colorbar": {
             "outlinewidth": 0,
             "ticks": ""
            },
            "type": "mesh3d"
           }
          ],
          "parcoords": [
           {
            "line": {
             "colorbar": {
              "outlinewidth": 0,
              "ticks": ""
             }
            },
            "type": "parcoords"
           }
          ],
          "pie": [
           {
            "automargin": true,
            "type": "pie"
           }
          ],
          "scatter": [
           {
            "fillpattern": {
             "fillmode": "overlay",
             "size": 10,
             "solidity": 0.2
            },
            "type": "scatter"
           }
          ],
          "scatter3d": [
           {
            "line": {
             "colorbar": {
              "outlinewidth": 0,
              "ticks": ""
             }
            },
            "marker": {
             "colorbar": {
              "outlinewidth": 0,
              "ticks": ""
             }
            },
            "type": "scatter3d"
           }
          ],
          "scattercarpet": [
           {
            "marker": {
             "colorbar": {
              "outlinewidth": 0,
              "ticks": ""
             }
            },
            "type": "scattercarpet"
           }
          ],
          "scattergeo": [
           {
            "marker": {
             "colorbar": {
              "outlinewidth": 0,
              "ticks": ""
             }
            },
            "type": "scattergeo"
           }
          ],
          "scattergl": [
           {
            "marker": {
             "colorbar": {
              "outlinewidth": 0,
              "ticks": ""
             }
            },
            "type": "scattergl"
           }
          ],
          "scattermapbox": [
           {
            "marker": {
             "colorbar": {
              "outlinewidth": 0,
              "ticks": ""
             }
            },
            "type": "scattermapbox"
           }
          ],
          "scatterpolar": [
           {
            "marker": {
             "colorbar": {
              "outlinewidth": 0,
              "ticks": ""
             }
            },
            "type": "scatterpolar"
           }
          ],
          "scatterpolargl": [
           {
            "marker": {
             "colorbar": {
              "outlinewidth": 0,
              "ticks": ""
             }
            },
            "type": "scatterpolargl"
           }
          ],
          "scatterternary": [
           {
            "marker": {
             "colorbar": {
              "outlinewidth": 0,
              "ticks": ""
             }
            },
            "type": "scatterternary"
           }
          ],
          "surface": [
           {
            "colorbar": {
             "outlinewidth": 0,
             "ticks": ""
            },
            "colorscale": [
             [
              0,
              "#0d0887"
             ],
             [
              0.1111111111111111,
              "#46039f"
             ],
             [
              0.2222222222222222,
              "#7201a8"
             ],
             [
              0.3333333333333333,
              "#9c179e"
             ],
             [
              0.4444444444444444,
              "#bd3786"
             ],
             [
              0.5555555555555556,
              "#d8576b"
             ],
             [
              0.6666666666666666,
              "#ed7953"
             ],
             [
              0.7777777777777778,
              "#fb9f3a"
             ],
             [
              0.8888888888888888,
              "#fdca26"
             ],
             [
              1,
              "#f0f921"
             ]
            ],
            "type": "surface"
           }
          ],
          "table": [
           {
            "cells": {
             "fill": {
              "color": "#EBF0F8"
             },
             "line": {
              "color": "white"
             }
            },
            "header": {
             "fill": {
              "color": "#C8D4E3"
             },
             "line": {
              "color": "white"
             }
            },
            "type": "table"
           }
          ]
         },
         "layout": {
          "annotationdefaults": {
           "arrowcolor": "#2a3f5f",
           "arrowhead": 0,
           "arrowwidth": 1
          },
          "autotypenumbers": "strict",
          "coloraxis": {
           "colorbar": {
            "outlinewidth": 0,
            "ticks": ""
           }
          },
          "colorscale": {
           "diverging": [
            [
             0,
             "#8e0152"
            ],
            [
             0.1,
             "#c51b7d"
            ],
            [
             0.2,
             "#de77ae"
            ],
            [
             0.3,
             "#f1b6da"
            ],
            [
             0.4,
             "#fde0ef"
            ],
            [
             0.5,
             "#f7f7f7"
            ],
            [
             0.6,
             "#e6f5d0"
            ],
            [
             0.7,
             "#b8e186"
            ],
            [
             0.8,
             "#7fbc41"
            ],
            [
             0.9,
             "#4d9221"
            ],
            [
             1,
             "#276419"
            ]
           ],
           "sequential": [
            [
             0,
             "#0d0887"
            ],
            [
             0.1111111111111111,
             "#46039f"
            ],
            [
             0.2222222222222222,
             "#7201a8"
            ],
            [
             0.3333333333333333,
             "#9c179e"
            ],
            [
             0.4444444444444444,
             "#bd3786"
            ],
            [
             0.5555555555555556,
             "#d8576b"
            ],
            [
             0.6666666666666666,
             "#ed7953"
            ],
            [
             0.7777777777777778,
             "#fb9f3a"
            ],
            [
             0.8888888888888888,
             "#fdca26"
            ],
            [
             1,
             "#f0f921"
            ]
           ],
           "sequentialminus": [
            [
             0,
             "#0d0887"
            ],
            [
             0.1111111111111111,
             "#46039f"
            ],
            [
             0.2222222222222222,
             "#7201a8"
            ],
            [
             0.3333333333333333,
             "#9c179e"
            ],
            [
             0.4444444444444444,
             "#bd3786"
            ],
            [
             0.5555555555555556,
             "#d8576b"
            ],
            [
             0.6666666666666666,
             "#ed7953"
            ],
            [
             0.7777777777777778,
             "#fb9f3a"
            ],
            [
             0.8888888888888888,
             "#fdca26"
            ],
            [
             1,
             "#f0f921"
            ]
           ]
          },
          "colorway": [
           "#636efa",
           "#EF553B",
           "#00cc96",
           "#ab63fa",
           "#FFA15A",
           "#19d3f3",
           "#FF6692",
           "#B6E880",
           "#FF97FF",
           "#FECB52"
          ],
          "font": {
           "color": "#2a3f5f"
          },
          "geo": {
           "bgcolor": "white",
           "lakecolor": "white",
           "landcolor": "#E5ECF6",
           "showlakes": true,
           "showland": true,
           "subunitcolor": "white"
          },
          "hoverlabel": {
           "align": "left"
          },
          "hovermode": "closest",
          "mapbox": {
           "style": "light"
          },
          "paper_bgcolor": "white",
          "plot_bgcolor": "#E5ECF6",
          "polar": {
           "angularaxis": {
            "gridcolor": "white",
            "linecolor": "white",
            "ticks": ""
           },
           "bgcolor": "#E5ECF6",
           "radialaxis": {
            "gridcolor": "white",
            "linecolor": "white",
            "ticks": ""
           }
          },
          "scene": {
           "xaxis": {
            "backgroundcolor": "#E5ECF6",
            "gridcolor": "white",
            "gridwidth": 2,
            "linecolor": "white",
            "showbackground": true,
            "ticks": "",
            "zerolinecolor": "white"
           },
           "yaxis": {
            "backgroundcolor": "#E5ECF6",
            "gridcolor": "white",
            "gridwidth": 2,
            "linecolor": "white",
            "showbackground": true,
            "ticks": "",
            "zerolinecolor": "white"
           },
           "zaxis": {
            "backgroundcolor": "#E5ECF6",
            "gridcolor": "white",
            "gridwidth": 2,
            "linecolor": "white",
            "showbackground": true,
            "ticks": "",
            "zerolinecolor": "white"
           }
          },
          "shapedefaults": {
           "line": {
            "color": "#2a3f5f"
           }
          },
          "ternary": {
           "aaxis": {
            "gridcolor": "white",
            "linecolor": "white",
            "ticks": ""
           },
           "baxis": {
            "gridcolor": "white",
            "linecolor": "white",
            "ticks": ""
           },
           "bgcolor": "#E5ECF6",
           "caxis": {
            "gridcolor": "white",
            "linecolor": "white",
            "ticks": ""
           }
          },
          "title": {
           "x": 0.05
          },
          "xaxis": {
           "automargin": true,
           "gridcolor": "white",
           "linecolor": "white",
           "ticks": "",
           "title": {
            "standoff": 15
           },
           "zerolinecolor": "white",
           "zerolinewidth": 2
          },
          "yaxis": {
           "automargin": true,
           "gridcolor": "white",
           "linecolor": "white",
           "ticks": "",
           "title": {
            "standoff": 15
           },
           "zerolinecolor": "white",
           "zerolinewidth": 2
          }
         }
        },
        "title": {
         "text": "Summer olympics : number of athletes named Steven VS gold medals earned by Czechia"
        },
        "xaxis": {
         "anchor": "y",
         "domain": [
          0,
          0.94
         ],
         "tickmode": "array",
         "title": {
          "text": "Year"
         }
        },
        "yaxis": {
         "anchor": "x",
         "domain": [
          0,
          1
         ],
         "title": {
          "text": "<b>gold_Czechia</b>"
         }
        },
        "yaxis2": {
         "anchor": "x",
         "overlaying": "y",
         "side": "right",
         "title": {
          "text": "<b>count_steven</b>"
         }
        }
       }
      }
     },
     "metadata": {},
     "output_type": "display_data"
    }
   ],
   "source": [
    "create_dual_axis_chart(summer_olympics, 'gold_Czechia', 'count_steven', title = \"Summer olympics : number of athletes named Steven VS gold medals earned by Czechia\", start_year=1998, end_year=None)"
   ]
  },
  {
   "cell_type": "code",
   "execution_count": 150,
   "metadata": {},
   "outputs": [
    {
     "data": {
      "application/vnd.plotly.v1+json": {
       "config": {
        "plotlyServerURL": "https://plot.ly"
       },
       "data": [
        {
         "connectgaps": true,
         "mode": "lines+markers",
         "name": "renewables_energy_per_capita",
         "type": "scatter",
         "x": [
          1968,
          1972,
          1976,
          1980,
          1984,
          1988,
          1992,
          1996,
          2000,
          2004,
          2008,
          2012,
          2016,
          2020
         ],
         "xaxis": "x",
         "y": [
          905.29,
          1016.141,
          1062.56,
          1194.209,
          1263.632,
          1283.293,
          1285.226,
          1384.41,
          1403.004,
          1437.885,
          1660.473,
          1929.17,
          2245.319,
          2695.399
         ],
         "yaxis": "y"
        },
        {
         "connectgaps": true,
         "mode": "lines+markers",
         "name": "count_veronika",
         "type": "scatter",
         "x": [
          1968,
          1972,
          1976,
          1980,
          1984,
          1988,
          1992,
          1996,
          2000,
          2004,
          2008,
          2012,
          2016,
          2020
         ],
         "xaxis": "x",
         "y": [
          null,
          null,
          null,
          null,
          null,
          1,
          null,
          null,
          null,
          2,
          3,
          3,
          5,
          6
         ],
         "yaxis": "y2"
        }
       ],
       "layout": {
        "template": {
         "data": {
          "bar": [
           {
            "error_x": {
             "color": "#2a3f5f"
            },
            "error_y": {
             "color": "#2a3f5f"
            },
            "marker": {
             "line": {
              "color": "#E5ECF6",
              "width": 0.5
             },
             "pattern": {
              "fillmode": "overlay",
              "size": 10,
              "solidity": 0.2
             }
            },
            "type": "bar"
           }
          ],
          "barpolar": [
           {
            "marker": {
             "line": {
              "color": "#E5ECF6",
              "width": 0.5
             },
             "pattern": {
              "fillmode": "overlay",
              "size": 10,
              "solidity": 0.2
             }
            },
            "type": "barpolar"
           }
          ],
          "carpet": [
           {
            "aaxis": {
             "endlinecolor": "#2a3f5f",
             "gridcolor": "white",
             "linecolor": "white",
             "minorgridcolor": "white",
             "startlinecolor": "#2a3f5f"
            },
            "baxis": {
             "endlinecolor": "#2a3f5f",
             "gridcolor": "white",
             "linecolor": "white",
             "minorgridcolor": "white",
             "startlinecolor": "#2a3f5f"
            },
            "type": "carpet"
           }
          ],
          "choropleth": [
           {
            "colorbar": {
             "outlinewidth": 0,
             "ticks": ""
            },
            "type": "choropleth"
           }
          ],
          "contour": [
           {
            "colorbar": {
             "outlinewidth": 0,
             "ticks": ""
            },
            "colorscale": [
             [
              0,
              "#0d0887"
             ],
             [
              0.1111111111111111,
              "#46039f"
             ],
             [
              0.2222222222222222,
              "#7201a8"
             ],
             [
              0.3333333333333333,
              "#9c179e"
             ],
             [
              0.4444444444444444,
              "#bd3786"
             ],
             [
              0.5555555555555556,
              "#d8576b"
             ],
             [
              0.6666666666666666,
              "#ed7953"
             ],
             [
              0.7777777777777778,
              "#fb9f3a"
             ],
             [
              0.8888888888888888,
              "#fdca26"
             ],
             [
              1,
              "#f0f921"
             ]
            ],
            "type": "contour"
           }
          ],
          "contourcarpet": [
           {
            "colorbar": {
             "outlinewidth": 0,
             "ticks": ""
            },
            "type": "contourcarpet"
           }
          ],
          "heatmap": [
           {
            "colorbar": {
             "outlinewidth": 0,
             "ticks": ""
            },
            "colorscale": [
             [
              0,
              "#0d0887"
             ],
             [
              0.1111111111111111,
              "#46039f"
             ],
             [
              0.2222222222222222,
              "#7201a8"
             ],
             [
              0.3333333333333333,
              "#9c179e"
             ],
             [
              0.4444444444444444,
              "#bd3786"
             ],
             [
              0.5555555555555556,
              "#d8576b"
             ],
             [
              0.6666666666666666,
              "#ed7953"
             ],
             [
              0.7777777777777778,
              "#fb9f3a"
             ],
             [
              0.8888888888888888,
              "#fdca26"
             ],
             [
              1,
              "#f0f921"
             ]
            ],
            "type": "heatmap"
           }
          ],
          "heatmapgl": [
           {
            "colorbar": {
             "outlinewidth": 0,
             "ticks": ""
            },
            "colorscale": [
             [
              0,
              "#0d0887"
             ],
             [
              0.1111111111111111,
              "#46039f"
             ],
             [
              0.2222222222222222,
              "#7201a8"
             ],
             [
              0.3333333333333333,
              "#9c179e"
             ],
             [
              0.4444444444444444,
              "#bd3786"
             ],
             [
              0.5555555555555556,
              "#d8576b"
             ],
             [
              0.6666666666666666,
              "#ed7953"
             ],
             [
              0.7777777777777778,
              "#fb9f3a"
             ],
             [
              0.8888888888888888,
              "#fdca26"
             ],
             [
              1,
              "#f0f921"
             ]
            ],
            "type": "heatmapgl"
           }
          ],
          "histogram": [
           {
            "marker": {
             "pattern": {
              "fillmode": "overlay",
              "size": 10,
              "solidity": 0.2
             }
            },
            "type": "histogram"
           }
          ],
          "histogram2d": [
           {
            "colorbar": {
             "outlinewidth": 0,
             "ticks": ""
            },
            "colorscale": [
             [
              0,
              "#0d0887"
             ],
             [
              0.1111111111111111,
              "#46039f"
             ],
             [
              0.2222222222222222,
              "#7201a8"
             ],
             [
              0.3333333333333333,
              "#9c179e"
             ],
             [
              0.4444444444444444,
              "#bd3786"
             ],
             [
              0.5555555555555556,
              "#d8576b"
             ],
             [
              0.6666666666666666,
              "#ed7953"
             ],
             [
              0.7777777777777778,
              "#fb9f3a"
             ],
             [
              0.8888888888888888,
              "#fdca26"
             ],
             [
              1,
              "#f0f921"
             ]
            ],
            "type": "histogram2d"
           }
          ],
          "histogram2dcontour": [
           {
            "colorbar": {
             "outlinewidth": 0,
             "ticks": ""
            },
            "colorscale": [
             [
              0,
              "#0d0887"
             ],
             [
              0.1111111111111111,
              "#46039f"
             ],
             [
              0.2222222222222222,
              "#7201a8"
             ],
             [
              0.3333333333333333,
              "#9c179e"
             ],
             [
              0.4444444444444444,
              "#bd3786"
             ],
             [
              0.5555555555555556,
              "#d8576b"
             ],
             [
              0.6666666666666666,
              "#ed7953"
             ],
             [
              0.7777777777777778,
              "#fb9f3a"
             ],
             [
              0.8888888888888888,
              "#fdca26"
             ],
             [
              1,
              "#f0f921"
             ]
            ],
            "type": "histogram2dcontour"
           }
          ],
          "mesh3d": [
           {
            "colorbar": {
             "outlinewidth": 0,
             "ticks": ""
            },
            "type": "mesh3d"
           }
          ],
          "parcoords": [
           {
            "line": {
             "colorbar": {
              "outlinewidth": 0,
              "ticks": ""
             }
            },
            "type": "parcoords"
           }
          ],
          "pie": [
           {
            "automargin": true,
            "type": "pie"
           }
          ],
          "scatter": [
           {
            "fillpattern": {
             "fillmode": "overlay",
             "size": 10,
             "solidity": 0.2
            },
            "type": "scatter"
           }
          ],
          "scatter3d": [
           {
            "line": {
             "colorbar": {
              "outlinewidth": 0,
              "ticks": ""
             }
            },
            "marker": {
             "colorbar": {
              "outlinewidth": 0,
              "ticks": ""
             }
            },
            "type": "scatter3d"
           }
          ],
          "scattercarpet": [
           {
            "marker": {
             "colorbar": {
              "outlinewidth": 0,
              "ticks": ""
             }
            },
            "type": "scattercarpet"
           }
          ],
          "scattergeo": [
           {
            "marker": {
             "colorbar": {
              "outlinewidth": 0,
              "ticks": ""
             }
            },
            "type": "scattergeo"
           }
          ],
          "scattergl": [
           {
            "marker": {
             "colorbar": {
              "outlinewidth": 0,
              "ticks": ""
             }
            },
            "type": "scattergl"
           }
          ],
          "scattermapbox": [
           {
            "marker": {
             "colorbar": {
              "outlinewidth": 0,
              "ticks": ""
             }
            },
            "type": "scattermapbox"
           }
          ],
          "scatterpolar": [
           {
            "marker": {
             "colorbar": {
              "outlinewidth": 0,
              "ticks": ""
             }
            },
            "type": "scatterpolar"
           }
          ],
          "scatterpolargl": [
           {
            "marker": {
             "colorbar": {
              "outlinewidth": 0,
              "ticks": ""
             }
            },
            "type": "scatterpolargl"
           }
          ],
          "scatterternary": [
           {
            "marker": {
             "colorbar": {
              "outlinewidth": 0,
              "ticks": ""
             }
            },
            "type": "scatterternary"
           }
          ],
          "surface": [
           {
            "colorbar": {
             "outlinewidth": 0,
             "ticks": ""
            },
            "colorscale": [
             [
              0,
              "#0d0887"
             ],
             [
              0.1111111111111111,
              "#46039f"
             ],
             [
              0.2222222222222222,
              "#7201a8"
             ],
             [
              0.3333333333333333,
              "#9c179e"
             ],
             [
              0.4444444444444444,
              "#bd3786"
             ],
             [
              0.5555555555555556,
              "#d8576b"
             ],
             [
              0.6666666666666666,
              "#ed7953"
             ],
             [
              0.7777777777777778,
              "#fb9f3a"
             ],
             [
              0.8888888888888888,
              "#fdca26"
             ],
             [
              1,
              "#f0f921"
             ]
            ],
            "type": "surface"
           }
          ],
          "table": [
           {
            "cells": {
             "fill": {
              "color": "#EBF0F8"
             },
             "line": {
              "color": "white"
             }
            },
            "header": {
             "fill": {
              "color": "#C8D4E3"
             },
             "line": {
              "color": "white"
             }
            },
            "type": "table"
           }
          ]
         },
         "layout": {
          "annotationdefaults": {
           "arrowcolor": "#2a3f5f",
           "arrowhead": 0,
           "arrowwidth": 1
          },
          "autotypenumbers": "strict",
          "coloraxis": {
           "colorbar": {
            "outlinewidth": 0,
            "ticks": ""
           }
          },
          "colorscale": {
           "diverging": [
            [
             0,
             "#8e0152"
            ],
            [
             0.1,
             "#c51b7d"
            ],
            [
             0.2,
             "#de77ae"
            ],
            [
             0.3,
             "#f1b6da"
            ],
            [
             0.4,
             "#fde0ef"
            ],
            [
             0.5,
             "#f7f7f7"
            ],
            [
             0.6,
             "#e6f5d0"
            ],
            [
             0.7,
             "#b8e186"
            ],
            [
             0.8,
             "#7fbc41"
            ],
            [
             0.9,
             "#4d9221"
            ],
            [
             1,
             "#276419"
            ]
           ],
           "sequential": [
            [
             0,
             "#0d0887"
            ],
            [
             0.1111111111111111,
             "#46039f"
            ],
            [
             0.2222222222222222,
             "#7201a8"
            ],
            [
             0.3333333333333333,
             "#9c179e"
            ],
            [
             0.4444444444444444,
             "#bd3786"
            ],
            [
             0.5555555555555556,
             "#d8576b"
            ],
            [
             0.6666666666666666,
             "#ed7953"
            ],
            [
             0.7777777777777778,
             "#fb9f3a"
            ],
            [
             0.8888888888888888,
             "#fdca26"
            ],
            [
             1,
             "#f0f921"
            ]
           ],
           "sequentialminus": [
            [
             0,
             "#0d0887"
            ],
            [
             0.1111111111111111,
             "#46039f"
            ],
            [
             0.2222222222222222,
             "#7201a8"
            ],
            [
             0.3333333333333333,
             "#9c179e"
            ],
            [
             0.4444444444444444,
             "#bd3786"
            ],
            [
             0.5555555555555556,
             "#d8576b"
            ],
            [
             0.6666666666666666,
             "#ed7953"
            ],
            [
             0.7777777777777778,
             "#fb9f3a"
            ],
            [
             0.8888888888888888,
             "#fdca26"
            ],
            [
             1,
             "#f0f921"
            ]
           ]
          },
          "colorway": [
           "#636efa",
           "#EF553B",
           "#00cc96",
           "#ab63fa",
           "#FFA15A",
           "#19d3f3",
           "#FF6692",
           "#B6E880",
           "#FF97FF",
           "#FECB52"
          ],
          "font": {
           "color": "#2a3f5f"
          },
          "geo": {
           "bgcolor": "white",
           "lakecolor": "white",
           "landcolor": "#E5ECF6",
           "showlakes": true,
           "showland": true,
           "subunitcolor": "white"
          },
          "hoverlabel": {
           "align": "left"
          },
          "hovermode": "closest",
          "mapbox": {
           "style": "light"
          },
          "paper_bgcolor": "white",
          "plot_bgcolor": "#E5ECF6",
          "polar": {
           "angularaxis": {
            "gridcolor": "white",
            "linecolor": "white",
            "ticks": ""
           },
           "bgcolor": "#E5ECF6",
           "radialaxis": {
            "gridcolor": "white",
            "linecolor": "white",
            "ticks": ""
           }
          },
          "scene": {
           "xaxis": {
            "backgroundcolor": "#E5ECF6",
            "gridcolor": "white",
            "gridwidth": 2,
            "linecolor": "white",
            "showbackground": true,
            "ticks": "",
            "zerolinecolor": "white"
           },
           "yaxis": {
            "backgroundcolor": "#E5ECF6",
            "gridcolor": "white",
            "gridwidth": 2,
            "linecolor": "white",
            "showbackground": true,
            "ticks": "",
            "zerolinecolor": "white"
           },
           "zaxis": {
            "backgroundcolor": "#E5ECF6",
            "gridcolor": "white",
            "gridwidth": 2,
            "linecolor": "white",
            "showbackground": true,
            "ticks": "",
            "zerolinecolor": "white"
           }
          },
          "shapedefaults": {
           "line": {
            "color": "#2a3f5f"
           }
          },
          "ternary": {
           "aaxis": {
            "gridcolor": "white",
            "linecolor": "white",
            "ticks": ""
           },
           "baxis": {
            "gridcolor": "white",
            "linecolor": "white",
            "ticks": ""
           },
           "bgcolor": "#E5ECF6",
           "caxis": {
            "gridcolor": "white",
            "linecolor": "white",
            "ticks": ""
           }
          },
          "title": {
           "x": 0.05
          },
          "xaxis": {
           "automargin": true,
           "gridcolor": "white",
           "linecolor": "white",
           "ticks": "",
           "title": {
            "standoff": 15
           },
           "zerolinecolor": "white",
           "zerolinewidth": 2
          },
          "yaxis": {
           "automargin": true,
           "gridcolor": "white",
           "linecolor": "white",
           "ticks": "",
           "title": {
            "standoff": 15
           },
           "zerolinecolor": "white",
           "zerolinewidth": 2
          }
         }
        },
        "title": {
         "text": "Test"
        },
        "xaxis": {
         "anchor": "y",
         "domain": [
          0,
          0.94
         ],
         "tickmode": "array",
         "title": {
          "text": "Year"
         }
        },
        "yaxis": {
         "anchor": "x",
         "domain": [
          0,
          1
         ],
         "title": {
          "text": "<b>renewables_energy_per_capita</b>"
         }
        },
        "yaxis2": {
         "anchor": "x",
         "overlaying": "y",
         "side": "right",
         "title": {
          "text": "<b>count_veronika</b>"
         }
        }
       }
      }
     },
     "metadata": {},
     "output_type": "display_data"
    }
   ],
   "source": [
    "create_dual_axis_chart(summer_olympics, 'renewables_energy_per_capita', 'count_veronika', title = \"Test\", start_year=1968 , end_year=None)"
   ]
  },
  {
   "cell_type": "code",
   "execution_count": 203,
   "metadata": {},
   "outputs": [
    {
     "data": {
      "application/vnd.plotly.v1+json": {
       "config": {
        "plotlyServerURL": "https://plot.ly"
       },
       "data": [
        {
         "connectgaps": true,
         "mode": "lines+markers",
         "name": "total_Russian Federation",
         "type": "scatter",
         "x": [
          1996,
          2000,
          2004,
          2008,
          2012
         ],
         "xaxis": "x",
         "y": [
          63,
          89,
          90,
          60,
          65
         ],
         "yaxis": "y"
        },
        {
         "connectgaps": true,
         "mode": "lines+markers",
         "name": "distance_from_previous_city_km",
         "type": "scatter",
         "x": [
          1996,
          2000,
          2004,
          2008,
          2012
         ],
         "xaxis": "x",
         "y": [
          7369.347920466086,
          14944.10424289379,
          15325.08600753899,
          7634.974674275925,
          8162.981466511785
         ],
         "yaxis": "y2"
        }
       ],
       "layout": {
        "template": {
         "data": {
          "bar": [
           {
            "error_x": {
             "color": "#2a3f5f"
            },
            "error_y": {
             "color": "#2a3f5f"
            },
            "marker": {
             "line": {
              "color": "#E5ECF6",
              "width": 0.5
             },
             "pattern": {
              "fillmode": "overlay",
              "size": 10,
              "solidity": 0.2
             }
            },
            "type": "bar"
           }
          ],
          "barpolar": [
           {
            "marker": {
             "line": {
              "color": "#E5ECF6",
              "width": 0.5
             },
             "pattern": {
              "fillmode": "overlay",
              "size": 10,
              "solidity": 0.2
             }
            },
            "type": "barpolar"
           }
          ],
          "carpet": [
           {
            "aaxis": {
             "endlinecolor": "#2a3f5f",
             "gridcolor": "white",
             "linecolor": "white",
             "minorgridcolor": "white",
             "startlinecolor": "#2a3f5f"
            },
            "baxis": {
             "endlinecolor": "#2a3f5f",
             "gridcolor": "white",
             "linecolor": "white",
             "minorgridcolor": "white",
             "startlinecolor": "#2a3f5f"
            },
            "type": "carpet"
           }
          ],
          "choropleth": [
           {
            "colorbar": {
             "outlinewidth": 0,
             "ticks": ""
            },
            "type": "choropleth"
           }
          ],
          "contour": [
           {
            "colorbar": {
             "outlinewidth": 0,
             "ticks": ""
            },
            "colorscale": [
             [
              0,
              "#0d0887"
             ],
             [
              0.1111111111111111,
              "#46039f"
             ],
             [
              0.2222222222222222,
              "#7201a8"
             ],
             [
              0.3333333333333333,
              "#9c179e"
             ],
             [
              0.4444444444444444,
              "#bd3786"
             ],
             [
              0.5555555555555556,
              "#d8576b"
             ],
             [
              0.6666666666666666,
              "#ed7953"
             ],
             [
              0.7777777777777778,
              "#fb9f3a"
             ],
             [
              0.8888888888888888,
              "#fdca26"
             ],
             [
              1,
              "#f0f921"
             ]
            ],
            "type": "contour"
           }
          ],
          "contourcarpet": [
           {
            "colorbar": {
             "outlinewidth": 0,
             "ticks": ""
            },
            "type": "contourcarpet"
           }
          ],
          "heatmap": [
           {
            "colorbar": {
             "outlinewidth": 0,
             "ticks": ""
            },
            "colorscale": [
             [
              0,
              "#0d0887"
             ],
             [
              0.1111111111111111,
              "#46039f"
             ],
             [
              0.2222222222222222,
              "#7201a8"
             ],
             [
              0.3333333333333333,
              "#9c179e"
             ],
             [
              0.4444444444444444,
              "#bd3786"
             ],
             [
              0.5555555555555556,
              "#d8576b"
             ],
             [
              0.6666666666666666,
              "#ed7953"
             ],
             [
              0.7777777777777778,
              "#fb9f3a"
             ],
             [
              0.8888888888888888,
              "#fdca26"
             ],
             [
              1,
              "#f0f921"
             ]
            ],
            "type": "heatmap"
           }
          ],
          "heatmapgl": [
           {
            "colorbar": {
             "outlinewidth": 0,
             "ticks": ""
            },
            "colorscale": [
             [
              0,
              "#0d0887"
             ],
             [
              0.1111111111111111,
              "#46039f"
             ],
             [
              0.2222222222222222,
              "#7201a8"
             ],
             [
              0.3333333333333333,
              "#9c179e"
             ],
             [
              0.4444444444444444,
              "#bd3786"
             ],
             [
              0.5555555555555556,
              "#d8576b"
             ],
             [
              0.6666666666666666,
              "#ed7953"
             ],
             [
              0.7777777777777778,
              "#fb9f3a"
             ],
             [
              0.8888888888888888,
              "#fdca26"
             ],
             [
              1,
              "#f0f921"
             ]
            ],
            "type": "heatmapgl"
           }
          ],
          "histogram": [
           {
            "marker": {
             "pattern": {
              "fillmode": "overlay",
              "size": 10,
              "solidity": 0.2
             }
            },
            "type": "histogram"
           }
          ],
          "histogram2d": [
           {
            "colorbar": {
             "outlinewidth": 0,
             "ticks": ""
            },
            "colorscale": [
             [
              0,
              "#0d0887"
             ],
             [
              0.1111111111111111,
              "#46039f"
             ],
             [
              0.2222222222222222,
              "#7201a8"
             ],
             [
              0.3333333333333333,
              "#9c179e"
             ],
             [
              0.4444444444444444,
              "#bd3786"
             ],
             [
              0.5555555555555556,
              "#d8576b"
             ],
             [
              0.6666666666666666,
              "#ed7953"
             ],
             [
              0.7777777777777778,
              "#fb9f3a"
             ],
             [
              0.8888888888888888,
              "#fdca26"
             ],
             [
              1,
              "#f0f921"
             ]
            ],
            "type": "histogram2d"
           }
          ],
          "histogram2dcontour": [
           {
            "colorbar": {
             "outlinewidth": 0,
             "ticks": ""
            },
            "colorscale": [
             [
              0,
              "#0d0887"
             ],
             [
              0.1111111111111111,
              "#46039f"
             ],
             [
              0.2222222222222222,
              "#7201a8"
             ],
             [
              0.3333333333333333,
              "#9c179e"
             ],
             [
              0.4444444444444444,
              "#bd3786"
             ],
             [
              0.5555555555555556,
              "#d8576b"
             ],
             [
              0.6666666666666666,
              "#ed7953"
             ],
             [
              0.7777777777777778,
              "#fb9f3a"
             ],
             [
              0.8888888888888888,
              "#fdca26"
             ],
             [
              1,
              "#f0f921"
             ]
            ],
            "type": "histogram2dcontour"
           }
          ],
          "mesh3d": [
           {
            "colorbar": {
             "outlinewidth": 0,
             "ticks": ""
            },
            "type": "mesh3d"
           }
          ],
          "parcoords": [
           {
            "line": {
             "colorbar": {
              "outlinewidth": 0,
              "ticks": ""
             }
            },
            "type": "parcoords"
           }
          ],
          "pie": [
           {
            "automargin": true,
            "type": "pie"
           }
          ],
          "scatter": [
           {
            "fillpattern": {
             "fillmode": "overlay",
             "size": 10,
             "solidity": 0.2
            },
            "type": "scatter"
           }
          ],
          "scatter3d": [
           {
            "line": {
             "colorbar": {
              "outlinewidth": 0,
              "ticks": ""
             }
            },
            "marker": {
             "colorbar": {
              "outlinewidth": 0,
              "ticks": ""
             }
            },
            "type": "scatter3d"
           }
          ],
          "scattercarpet": [
           {
            "marker": {
             "colorbar": {
              "outlinewidth": 0,
              "ticks": ""
             }
            },
            "type": "scattercarpet"
           }
          ],
          "scattergeo": [
           {
            "marker": {
             "colorbar": {
              "outlinewidth": 0,
              "ticks": ""
             }
            },
            "type": "scattergeo"
           }
          ],
          "scattergl": [
           {
            "marker": {
             "colorbar": {
              "outlinewidth": 0,
              "ticks": ""
             }
            },
            "type": "scattergl"
           }
          ],
          "scattermapbox": [
           {
            "marker": {
             "colorbar": {
              "outlinewidth": 0,
              "ticks": ""
             }
            },
            "type": "scattermapbox"
           }
          ],
          "scatterpolar": [
           {
            "marker": {
             "colorbar": {
              "outlinewidth": 0,
              "ticks": ""
             }
            },
            "type": "scatterpolar"
           }
          ],
          "scatterpolargl": [
           {
            "marker": {
             "colorbar": {
              "outlinewidth": 0,
              "ticks": ""
             }
            },
            "type": "scatterpolargl"
           }
          ],
          "scatterternary": [
           {
            "marker": {
             "colorbar": {
              "outlinewidth": 0,
              "ticks": ""
             }
            },
            "type": "scatterternary"
           }
          ],
          "surface": [
           {
            "colorbar": {
             "outlinewidth": 0,
             "ticks": ""
            },
            "colorscale": [
             [
              0,
              "#0d0887"
             ],
             [
              0.1111111111111111,
              "#46039f"
             ],
             [
              0.2222222222222222,
              "#7201a8"
             ],
             [
              0.3333333333333333,
              "#9c179e"
             ],
             [
              0.4444444444444444,
              "#bd3786"
             ],
             [
              0.5555555555555556,
              "#d8576b"
             ],
             [
              0.6666666666666666,
              "#ed7953"
             ],
             [
              0.7777777777777778,
              "#fb9f3a"
             ],
             [
              0.8888888888888888,
              "#fdca26"
             ],
             [
              1,
              "#f0f921"
             ]
            ],
            "type": "surface"
           }
          ],
          "table": [
           {
            "cells": {
             "fill": {
              "color": "#EBF0F8"
             },
             "line": {
              "color": "white"
             }
            },
            "header": {
             "fill": {
              "color": "#C8D4E3"
             },
             "line": {
              "color": "white"
             }
            },
            "type": "table"
           }
          ]
         },
         "layout": {
          "annotationdefaults": {
           "arrowcolor": "#2a3f5f",
           "arrowhead": 0,
           "arrowwidth": 1
          },
          "autotypenumbers": "strict",
          "coloraxis": {
           "colorbar": {
            "outlinewidth": 0,
            "ticks": ""
           }
          },
          "colorscale": {
           "diverging": [
            [
             0,
             "#8e0152"
            ],
            [
             0.1,
             "#c51b7d"
            ],
            [
             0.2,
             "#de77ae"
            ],
            [
             0.3,
             "#f1b6da"
            ],
            [
             0.4,
             "#fde0ef"
            ],
            [
             0.5,
             "#f7f7f7"
            ],
            [
             0.6,
             "#e6f5d0"
            ],
            [
             0.7,
             "#b8e186"
            ],
            [
             0.8,
             "#7fbc41"
            ],
            [
             0.9,
             "#4d9221"
            ],
            [
             1,
             "#276419"
            ]
           ],
           "sequential": [
            [
             0,
             "#0d0887"
            ],
            [
             0.1111111111111111,
             "#46039f"
            ],
            [
             0.2222222222222222,
             "#7201a8"
            ],
            [
             0.3333333333333333,
             "#9c179e"
            ],
            [
             0.4444444444444444,
             "#bd3786"
            ],
            [
             0.5555555555555556,
             "#d8576b"
            ],
            [
             0.6666666666666666,
             "#ed7953"
            ],
            [
             0.7777777777777778,
             "#fb9f3a"
            ],
            [
             0.8888888888888888,
             "#fdca26"
            ],
            [
             1,
             "#f0f921"
            ]
           ],
           "sequentialminus": [
            [
             0,
             "#0d0887"
            ],
            [
             0.1111111111111111,
             "#46039f"
            ],
            [
             0.2222222222222222,
             "#7201a8"
            ],
            [
             0.3333333333333333,
             "#9c179e"
            ],
            [
             0.4444444444444444,
             "#bd3786"
            ],
            [
             0.5555555555555556,
             "#d8576b"
            ],
            [
             0.6666666666666666,
             "#ed7953"
            ],
            [
             0.7777777777777778,
             "#fb9f3a"
            ],
            [
             0.8888888888888888,
             "#fdca26"
            ],
            [
             1,
             "#f0f921"
            ]
           ]
          },
          "colorway": [
           "#636efa",
           "#EF553B",
           "#00cc96",
           "#ab63fa",
           "#FFA15A",
           "#19d3f3",
           "#FF6692",
           "#B6E880",
           "#FF97FF",
           "#FECB52"
          ],
          "font": {
           "color": "#2a3f5f"
          },
          "geo": {
           "bgcolor": "white",
           "lakecolor": "white",
           "landcolor": "#E5ECF6",
           "showlakes": true,
           "showland": true,
           "subunitcolor": "white"
          },
          "hoverlabel": {
           "align": "left"
          },
          "hovermode": "closest",
          "mapbox": {
           "style": "light"
          },
          "paper_bgcolor": "white",
          "plot_bgcolor": "#E5ECF6",
          "polar": {
           "angularaxis": {
            "gridcolor": "white",
            "linecolor": "white",
            "ticks": ""
           },
           "bgcolor": "#E5ECF6",
           "radialaxis": {
            "gridcolor": "white",
            "linecolor": "white",
            "ticks": ""
           }
          },
          "scene": {
           "xaxis": {
            "backgroundcolor": "#E5ECF6",
            "gridcolor": "white",
            "gridwidth": 2,
            "linecolor": "white",
            "showbackground": true,
            "ticks": "",
            "zerolinecolor": "white"
           },
           "yaxis": {
            "backgroundcolor": "#E5ECF6",
            "gridcolor": "white",
            "gridwidth": 2,
            "linecolor": "white",
            "showbackground": true,
            "ticks": "",
            "zerolinecolor": "white"
           },
           "zaxis": {
            "backgroundcolor": "#E5ECF6",
            "gridcolor": "white",
            "gridwidth": 2,
            "linecolor": "white",
            "showbackground": true,
            "ticks": "",
            "zerolinecolor": "white"
           }
          },
          "shapedefaults": {
           "line": {
            "color": "#2a3f5f"
           }
          },
          "ternary": {
           "aaxis": {
            "gridcolor": "white",
            "linecolor": "white",
            "ticks": ""
           },
           "baxis": {
            "gridcolor": "white",
            "linecolor": "white",
            "ticks": ""
           },
           "bgcolor": "#E5ECF6",
           "caxis": {
            "gridcolor": "white",
            "linecolor": "white",
            "ticks": ""
           }
          },
          "title": {
           "x": 0.05
          },
          "xaxis": {
           "automargin": true,
           "gridcolor": "white",
           "linecolor": "white",
           "ticks": "",
           "title": {
            "standoff": 15
           },
           "zerolinecolor": "white",
           "zerolinewidth": 2
          },
          "yaxis": {
           "automargin": true,
           "gridcolor": "white",
           "linecolor": "white",
           "ticks": "",
           "title": {
            "standoff": 15
           },
           "zerolinecolor": "white",
           "zerolinewidth": 2
          }
         }
        },
        "title": {
         "text": "Test"
        },
        "xaxis": {
         "anchor": "y",
         "domain": [
          0,
          0.94
         ],
         "tickmode": "array",
         "title": {
          "text": "Year"
         }
        },
        "yaxis": {
         "anchor": "x",
         "domain": [
          0,
          1
         ],
         "title": {
          "text": "<b>total_Russian Federation</b>"
         }
        },
        "yaxis2": {
         "anchor": "x",
         "overlaying": "y",
         "side": "right",
         "title": {
          "text": "<b>distance_from_previous_city_km</b>"
         }
        }
       }
      }
     },
     "metadata": {},
     "output_type": "display_data"
    }
   ],
   "source": [
    "create_dual_axis_chart(summer_olympics, 'total_Russian Federation', 'distance_from_previous_city_km', title = \"Test\", start_year=1996, end_year=2012)"
   ]
  },
  {
   "cell_type": "code",
   "execution_count": 206,
   "metadata": {},
   "outputs": [
    {
     "data": {
      "application/vnd.plotly.v1+json": {
       "config": {
        "plotlyServerURL": "https://plot.ly"
       },
       "data": [
        {
         "connectgaps": true,
         "mode": "lines+markers",
         "name": "total_Kazakhstan",
         "type": "scatter",
         "x": [
          1996,
          2000,
          2004,
          2008,
          2012,
          2016,
          2020
         ],
         "xaxis": "x",
         "y": [
          11,
          7,
          8,
          9,
          11,
          17,
          8
         ],
         "yaxis": "y"
        },
        {
         "connectgaps": true,
         "mode": "lines+markers",
         "name": "host_city_len",
         "type": "scatter",
         "x": [
          1996,
          2000,
          2004,
          2008,
          2012,
          2016,
          2020
         ],
         "xaxis": "x",
         "y": [
          7,
          6,
          6,
          7,
          6,
          14,
          5
         ],
         "yaxis": "y2"
        }
       ],
       "layout": {
        "template": {
         "data": {
          "bar": [
           {
            "error_x": {
             "color": "#2a3f5f"
            },
            "error_y": {
             "color": "#2a3f5f"
            },
            "marker": {
             "line": {
              "color": "#E5ECF6",
              "width": 0.5
             },
             "pattern": {
              "fillmode": "overlay",
              "size": 10,
              "solidity": 0.2
             }
            },
            "type": "bar"
           }
          ],
          "barpolar": [
           {
            "marker": {
             "line": {
              "color": "#E5ECF6",
              "width": 0.5
             },
             "pattern": {
              "fillmode": "overlay",
              "size": 10,
              "solidity": 0.2
             }
            },
            "type": "barpolar"
           }
          ],
          "carpet": [
           {
            "aaxis": {
             "endlinecolor": "#2a3f5f",
             "gridcolor": "white",
             "linecolor": "white",
             "minorgridcolor": "white",
             "startlinecolor": "#2a3f5f"
            },
            "baxis": {
             "endlinecolor": "#2a3f5f",
             "gridcolor": "white",
             "linecolor": "white",
             "minorgridcolor": "white",
             "startlinecolor": "#2a3f5f"
            },
            "type": "carpet"
           }
          ],
          "choropleth": [
           {
            "colorbar": {
             "outlinewidth": 0,
             "ticks": ""
            },
            "type": "choropleth"
           }
          ],
          "contour": [
           {
            "colorbar": {
             "outlinewidth": 0,
             "ticks": ""
            },
            "colorscale": [
             [
              0,
              "#0d0887"
             ],
             [
              0.1111111111111111,
              "#46039f"
             ],
             [
              0.2222222222222222,
              "#7201a8"
             ],
             [
              0.3333333333333333,
              "#9c179e"
             ],
             [
              0.4444444444444444,
              "#bd3786"
             ],
             [
              0.5555555555555556,
              "#d8576b"
             ],
             [
              0.6666666666666666,
              "#ed7953"
             ],
             [
              0.7777777777777778,
              "#fb9f3a"
             ],
             [
              0.8888888888888888,
              "#fdca26"
             ],
             [
              1,
              "#f0f921"
             ]
            ],
            "type": "contour"
           }
          ],
          "contourcarpet": [
           {
            "colorbar": {
             "outlinewidth": 0,
             "ticks": ""
            },
            "type": "contourcarpet"
           }
          ],
          "heatmap": [
           {
            "colorbar": {
             "outlinewidth": 0,
             "ticks": ""
            },
            "colorscale": [
             [
              0,
              "#0d0887"
             ],
             [
              0.1111111111111111,
              "#46039f"
             ],
             [
              0.2222222222222222,
              "#7201a8"
             ],
             [
              0.3333333333333333,
              "#9c179e"
             ],
             [
              0.4444444444444444,
              "#bd3786"
             ],
             [
              0.5555555555555556,
              "#d8576b"
             ],
             [
              0.6666666666666666,
              "#ed7953"
             ],
             [
              0.7777777777777778,
              "#fb9f3a"
             ],
             [
              0.8888888888888888,
              "#fdca26"
             ],
             [
              1,
              "#f0f921"
             ]
            ],
            "type": "heatmap"
           }
          ],
          "heatmapgl": [
           {
            "colorbar": {
             "outlinewidth": 0,
             "ticks": ""
            },
            "colorscale": [
             [
              0,
              "#0d0887"
             ],
             [
              0.1111111111111111,
              "#46039f"
             ],
             [
              0.2222222222222222,
              "#7201a8"
             ],
             [
              0.3333333333333333,
              "#9c179e"
             ],
             [
              0.4444444444444444,
              "#bd3786"
             ],
             [
              0.5555555555555556,
              "#d8576b"
             ],
             [
              0.6666666666666666,
              "#ed7953"
             ],
             [
              0.7777777777777778,
              "#fb9f3a"
             ],
             [
              0.8888888888888888,
              "#fdca26"
             ],
             [
              1,
              "#f0f921"
             ]
            ],
            "type": "heatmapgl"
           }
          ],
          "histogram": [
           {
            "marker": {
             "pattern": {
              "fillmode": "overlay",
              "size": 10,
              "solidity": 0.2
             }
            },
            "type": "histogram"
           }
          ],
          "histogram2d": [
           {
            "colorbar": {
             "outlinewidth": 0,
             "ticks": ""
            },
            "colorscale": [
             [
              0,
              "#0d0887"
             ],
             [
              0.1111111111111111,
              "#46039f"
             ],
             [
              0.2222222222222222,
              "#7201a8"
             ],
             [
              0.3333333333333333,
              "#9c179e"
             ],
             [
              0.4444444444444444,
              "#bd3786"
             ],
             [
              0.5555555555555556,
              "#d8576b"
             ],
             [
              0.6666666666666666,
              "#ed7953"
             ],
             [
              0.7777777777777778,
              "#fb9f3a"
             ],
             [
              0.8888888888888888,
              "#fdca26"
             ],
             [
              1,
              "#f0f921"
             ]
            ],
            "type": "histogram2d"
           }
          ],
          "histogram2dcontour": [
           {
            "colorbar": {
             "outlinewidth": 0,
             "ticks": ""
            },
            "colorscale": [
             [
              0,
              "#0d0887"
             ],
             [
              0.1111111111111111,
              "#46039f"
             ],
             [
              0.2222222222222222,
              "#7201a8"
             ],
             [
              0.3333333333333333,
              "#9c179e"
             ],
             [
              0.4444444444444444,
              "#bd3786"
             ],
             [
              0.5555555555555556,
              "#d8576b"
             ],
             [
              0.6666666666666666,
              "#ed7953"
             ],
             [
              0.7777777777777778,
              "#fb9f3a"
             ],
             [
              0.8888888888888888,
              "#fdca26"
             ],
             [
              1,
              "#f0f921"
             ]
            ],
            "type": "histogram2dcontour"
           }
          ],
          "mesh3d": [
           {
            "colorbar": {
             "outlinewidth": 0,
             "ticks": ""
            },
            "type": "mesh3d"
           }
          ],
          "parcoords": [
           {
            "line": {
             "colorbar": {
              "outlinewidth": 0,
              "ticks": ""
             }
            },
            "type": "parcoords"
           }
          ],
          "pie": [
           {
            "automargin": true,
            "type": "pie"
           }
          ],
          "scatter": [
           {
            "fillpattern": {
             "fillmode": "overlay",
             "size": 10,
             "solidity": 0.2
            },
            "type": "scatter"
           }
          ],
          "scatter3d": [
           {
            "line": {
             "colorbar": {
              "outlinewidth": 0,
              "ticks": ""
             }
            },
            "marker": {
             "colorbar": {
              "outlinewidth": 0,
              "ticks": ""
             }
            },
            "type": "scatter3d"
           }
          ],
          "scattercarpet": [
           {
            "marker": {
             "colorbar": {
              "outlinewidth": 0,
              "ticks": ""
             }
            },
            "type": "scattercarpet"
           }
          ],
          "scattergeo": [
           {
            "marker": {
             "colorbar": {
              "outlinewidth": 0,
              "ticks": ""
             }
            },
            "type": "scattergeo"
           }
          ],
          "scattergl": [
           {
            "marker": {
             "colorbar": {
              "outlinewidth": 0,
              "ticks": ""
             }
            },
            "type": "scattergl"
           }
          ],
          "scattermapbox": [
           {
            "marker": {
             "colorbar": {
              "outlinewidth": 0,
              "ticks": ""
             }
            },
            "type": "scattermapbox"
           }
          ],
          "scatterpolar": [
           {
            "marker": {
             "colorbar": {
              "outlinewidth": 0,
              "ticks": ""
             }
            },
            "type": "scatterpolar"
           }
          ],
          "scatterpolargl": [
           {
            "marker": {
             "colorbar": {
              "outlinewidth": 0,
              "ticks": ""
             }
            },
            "type": "scatterpolargl"
           }
          ],
          "scatterternary": [
           {
            "marker": {
             "colorbar": {
              "outlinewidth": 0,
              "ticks": ""
             }
            },
            "type": "scatterternary"
           }
          ],
          "surface": [
           {
            "colorbar": {
             "outlinewidth": 0,
             "ticks": ""
            },
            "colorscale": [
             [
              0,
              "#0d0887"
             ],
             [
              0.1111111111111111,
              "#46039f"
             ],
             [
              0.2222222222222222,
              "#7201a8"
             ],
             [
              0.3333333333333333,
              "#9c179e"
             ],
             [
              0.4444444444444444,
              "#bd3786"
             ],
             [
              0.5555555555555556,
              "#d8576b"
             ],
             [
              0.6666666666666666,
              "#ed7953"
             ],
             [
              0.7777777777777778,
              "#fb9f3a"
             ],
             [
              0.8888888888888888,
              "#fdca26"
             ],
             [
              1,
              "#f0f921"
             ]
            ],
            "type": "surface"
           }
          ],
          "table": [
           {
            "cells": {
             "fill": {
              "color": "#EBF0F8"
             },
             "line": {
              "color": "white"
             }
            },
            "header": {
             "fill": {
              "color": "#C8D4E3"
             },
             "line": {
              "color": "white"
             }
            },
            "type": "table"
           }
          ]
         },
         "layout": {
          "annotationdefaults": {
           "arrowcolor": "#2a3f5f",
           "arrowhead": 0,
           "arrowwidth": 1
          },
          "autotypenumbers": "strict",
          "coloraxis": {
           "colorbar": {
            "outlinewidth": 0,
            "ticks": ""
           }
          },
          "colorscale": {
           "diverging": [
            [
             0,
             "#8e0152"
            ],
            [
             0.1,
             "#c51b7d"
            ],
            [
             0.2,
             "#de77ae"
            ],
            [
             0.3,
             "#f1b6da"
            ],
            [
             0.4,
             "#fde0ef"
            ],
            [
             0.5,
             "#f7f7f7"
            ],
            [
             0.6,
             "#e6f5d0"
            ],
            [
             0.7,
             "#b8e186"
            ],
            [
             0.8,
             "#7fbc41"
            ],
            [
             0.9,
             "#4d9221"
            ],
            [
             1,
             "#276419"
            ]
           ],
           "sequential": [
            [
             0,
             "#0d0887"
            ],
            [
             0.1111111111111111,
             "#46039f"
            ],
            [
             0.2222222222222222,
             "#7201a8"
            ],
            [
             0.3333333333333333,
             "#9c179e"
            ],
            [
             0.4444444444444444,
             "#bd3786"
            ],
            [
             0.5555555555555556,
             "#d8576b"
            ],
            [
             0.6666666666666666,
             "#ed7953"
            ],
            [
             0.7777777777777778,
             "#fb9f3a"
            ],
            [
             0.8888888888888888,
             "#fdca26"
            ],
            [
             1,
             "#f0f921"
            ]
           ],
           "sequentialminus": [
            [
             0,
             "#0d0887"
            ],
            [
             0.1111111111111111,
             "#46039f"
            ],
            [
             0.2222222222222222,
             "#7201a8"
            ],
            [
             0.3333333333333333,
             "#9c179e"
            ],
            [
             0.4444444444444444,
             "#bd3786"
            ],
            [
             0.5555555555555556,
             "#d8576b"
            ],
            [
             0.6666666666666666,
             "#ed7953"
            ],
            [
             0.7777777777777778,
             "#fb9f3a"
            ],
            [
             0.8888888888888888,
             "#fdca26"
            ],
            [
             1,
             "#f0f921"
            ]
           ]
          },
          "colorway": [
           "#636efa",
           "#EF553B",
           "#00cc96",
           "#ab63fa",
           "#FFA15A",
           "#19d3f3",
           "#FF6692",
           "#B6E880",
           "#FF97FF",
           "#FECB52"
          ],
          "font": {
           "color": "#2a3f5f"
          },
          "geo": {
           "bgcolor": "white",
           "lakecolor": "white",
           "landcolor": "#E5ECF6",
           "showlakes": true,
           "showland": true,
           "subunitcolor": "white"
          },
          "hoverlabel": {
           "align": "left"
          },
          "hovermode": "closest",
          "mapbox": {
           "style": "light"
          },
          "paper_bgcolor": "white",
          "plot_bgcolor": "#E5ECF6",
          "polar": {
           "angularaxis": {
            "gridcolor": "white",
            "linecolor": "white",
            "ticks": ""
           },
           "bgcolor": "#E5ECF6",
           "radialaxis": {
            "gridcolor": "white",
            "linecolor": "white",
            "ticks": ""
           }
          },
          "scene": {
           "xaxis": {
            "backgroundcolor": "#E5ECF6",
            "gridcolor": "white",
            "gridwidth": 2,
            "linecolor": "white",
            "showbackground": true,
            "ticks": "",
            "zerolinecolor": "white"
           },
           "yaxis": {
            "backgroundcolor": "#E5ECF6",
            "gridcolor": "white",
            "gridwidth": 2,
            "linecolor": "white",
            "showbackground": true,
            "ticks": "",
            "zerolinecolor": "white"
           },
           "zaxis": {
            "backgroundcolor": "#E5ECF6",
            "gridcolor": "white",
            "gridwidth": 2,
            "linecolor": "white",
            "showbackground": true,
            "ticks": "",
            "zerolinecolor": "white"
           }
          },
          "shapedefaults": {
           "line": {
            "color": "#2a3f5f"
           }
          },
          "ternary": {
           "aaxis": {
            "gridcolor": "white",
            "linecolor": "white",
            "ticks": ""
           },
           "baxis": {
            "gridcolor": "white",
            "linecolor": "white",
            "ticks": ""
           },
           "bgcolor": "#E5ECF6",
           "caxis": {
            "gridcolor": "white",
            "linecolor": "white",
            "ticks": ""
           }
          },
          "title": {
           "x": 0.05
          },
          "xaxis": {
           "automargin": true,
           "gridcolor": "white",
           "linecolor": "white",
           "ticks": "",
           "title": {
            "standoff": 15
           },
           "zerolinecolor": "white",
           "zerolinewidth": 2
          },
          "yaxis": {
           "automargin": true,
           "gridcolor": "white",
           "linecolor": "white",
           "ticks": "",
           "title": {
            "standoff": 15
           },
           "zerolinecolor": "white",
           "zerolinewidth": 2
          }
         }
        },
        "title": {
         "text": "Test"
        },
        "xaxis": {
         "anchor": "y",
         "domain": [
          0,
          0.94
         ],
         "tickmode": "array",
         "title": {
          "text": "Year"
         }
        },
        "yaxis": {
         "anchor": "x",
         "domain": [
          0,
          1
         ],
         "title": {
          "text": "<b>total_Kazakhstan</b>"
         }
        },
        "yaxis2": {
         "anchor": "x",
         "overlaying": "y",
         "side": "right",
         "title": {
          "text": "<b>host_city_len</b>"
         }
        }
       }
      }
     },
     "metadata": {},
     "output_type": "display_data"
    }
   ],
   "source": [
    "create_dual_axis_chart(summer_olympics, 'total_Kazakhstan', 'host_city_len', title = \"Test\", start_year=1996, end_year=2020)"
   ]
  },
  {
   "cell_type": "code",
   "execution_count": 208,
   "metadata": {},
   "outputs": [
    {
     "data": {
      "application/vnd.plotly.v1+json": {
       "config": {
        "plotlyServerURL": "https://plot.ly"
       },
       "data": [
        {
         "connectgaps": true,
         "mode": "lines+markers",
         "name": "mean_Artistic Gymnastics_athlete_age",
         "type": "scatter",
         "x": [
          1992,
          1996,
          2000,
          2004,
          2008,
          2012,
          2016,
          2020
         ],
         "xaxis": "x",
         "y": [
          20.043243243243243,
          20.296296296296298,
          20.77319587628866,
          21.464285714285715,
          21.82051282051282,
          22.497435897435896,
          22.933673469387756,
          23.025510204081634
         ],
         "yaxis": "y"
        },
        {
         "connectgaps": true,
         "mode": "lines+markers",
         "name": "CO2_emisions",
         "type": "scatter",
         "x": [
          1992,
          1996,
          2000,
          2004,
          2008,
          2012,
          2016,
          2020
         ],
         "xaxis": "x",
         "y": [
          21390040.84,
          22778983.29,
          24280271.96,
          27331852.94,
          30632298.65,
          33460087.5,
          34145652.3,
          33566427.59
         ],
         "yaxis": "y2"
        }
       ],
       "layout": {
        "template": {
         "data": {
          "bar": [
           {
            "error_x": {
             "color": "#2a3f5f"
            },
            "error_y": {
             "color": "#2a3f5f"
            },
            "marker": {
             "line": {
              "color": "#E5ECF6",
              "width": 0.5
             },
             "pattern": {
              "fillmode": "overlay",
              "size": 10,
              "solidity": 0.2
             }
            },
            "type": "bar"
           }
          ],
          "barpolar": [
           {
            "marker": {
             "line": {
              "color": "#E5ECF6",
              "width": 0.5
             },
             "pattern": {
              "fillmode": "overlay",
              "size": 10,
              "solidity": 0.2
             }
            },
            "type": "barpolar"
           }
          ],
          "carpet": [
           {
            "aaxis": {
             "endlinecolor": "#2a3f5f",
             "gridcolor": "white",
             "linecolor": "white",
             "minorgridcolor": "white",
             "startlinecolor": "#2a3f5f"
            },
            "baxis": {
             "endlinecolor": "#2a3f5f",
             "gridcolor": "white",
             "linecolor": "white",
             "minorgridcolor": "white",
             "startlinecolor": "#2a3f5f"
            },
            "type": "carpet"
           }
          ],
          "choropleth": [
           {
            "colorbar": {
             "outlinewidth": 0,
             "ticks": ""
            },
            "type": "choropleth"
           }
          ],
          "contour": [
           {
            "colorbar": {
             "outlinewidth": 0,
             "ticks": ""
            },
            "colorscale": [
             [
              0,
              "#0d0887"
             ],
             [
              0.1111111111111111,
              "#46039f"
             ],
             [
              0.2222222222222222,
              "#7201a8"
             ],
             [
              0.3333333333333333,
              "#9c179e"
             ],
             [
              0.4444444444444444,
              "#bd3786"
             ],
             [
              0.5555555555555556,
              "#d8576b"
             ],
             [
              0.6666666666666666,
              "#ed7953"
             ],
             [
              0.7777777777777778,
              "#fb9f3a"
             ],
             [
              0.8888888888888888,
              "#fdca26"
             ],
             [
              1,
              "#f0f921"
             ]
            ],
            "type": "contour"
           }
          ],
          "contourcarpet": [
           {
            "colorbar": {
             "outlinewidth": 0,
             "ticks": ""
            },
            "type": "contourcarpet"
           }
          ],
          "heatmap": [
           {
            "colorbar": {
             "outlinewidth": 0,
             "ticks": ""
            },
            "colorscale": [
             [
              0,
              "#0d0887"
             ],
             [
              0.1111111111111111,
              "#46039f"
             ],
             [
              0.2222222222222222,
              "#7201a8"
             ],
             [
              0.3333333333333333,
              "#9c179e"
             ],
             [
              0.4444444444444444,
              "#bd3786"
             ],
             [
              0.5555555555555556,
              "#d8576b"
             ],
             [
              0.6666666666666666,
              "#ed7953"
             ],
             [
              0.7777777777777778,
              "#fb9f3a"
             ],
             [
              0.8888888888888888,
              "#fdca26"
             ],
             [
              1,
              "#f0f921"
             ]
            ],
            "type": "heatmap"
           }
          ],
          "heatmapgl": [
           {
            "colorbar": {
             "outlinewidth": 0,
             "ticks": ""
            },
            "colorscale": [
             [
              0,
              "#0d0887"
             ],
             [
              0.1111111111111111,
              "#46039f"
             ],
             [
              0.2222222222222222,
              "#7201a8"
             ],
             [
              0.3333333333333333,
              "#9c179e"
             ],
             [
              0.4444444444444444,
              "#bd3786"
             ],
             [
              0.5555555555555556,
              "#d8576b"
             ],
             [
              0.6666666666666666,
              "#ed7953"
             ],
             [
              0.7777777777777778,
              "#fb9f3a"
             ],
             [
              0.8888888888888888,
              "#fdca26"
             ],
             [
              1,
              "#f0f921"
             ]
            ],
            "type": "heatmapgl"
           }
          ],
          "histogram": [
           {
            "marker": {
             "pattern": {
              "fillmode": "overlay",
              "size": 10,
              "solidity": 0.2
             }
            },
            "type": "histogram"
           }
          ],
          "histogram2d": [
           {
            "colorbar": {
             "outlinewidth": 0,
             "ticks": ""
            },
            "colorscale": [
             [
              0,
              "#0d0887"
             ],
             [
              0.1111111111111111,
              "#46039f"
             ],
             [
              0.2222222222222222,
              "#7201a8"
             ],
             [
              0.3333333333333333,
              "#9c179e"
             ],
             [
              0.4444444444444444,
              "#bd3786"
             ],
             [
              0.5555555555555556,
              "#d8576b"
             ],
             [
              0.6666666666666666,
              "#ed7953"
             ],
             [
              0.7777777777777778,
              "#fb9f3a"
             ],
             [
              0.8888888888888888,
              "#fdca26"
             ],
             [
              1,
              "#f0f921"
             ]
            ],
            "type": "histogram2d"
           }
          ],
          "histogram2dcontour": [
           {
            "colorbar": {
             "outlinewidth": 0,
             "ticks": ""
            },
            "colorscale": [
             [
              0,
              "#0d0887"
             ],
             [
              0.1111111111111111,
              "#46039f"
             ],
             [
              0.2222222222222222,
              "#7201a8"
             ],
             [
              0.3333333333333333,
              "#9c179e"
             ],
             [
              0.4444444444444444,
              "#bd3786"
             ],
             [
              0.5555555555555556,
              "#d8576b"
             ],
             [
              0.6666666666666666,
              "#ed7953"
             ],
             [
              0.7777777777777778,
              "#fb9f3a"
             ],
             [
              0.8888888888888888,
              "#fdca26"
             ],
             [
              1,
              "#f0f921"
             ]
            ],
            "type": "histogram2dcontour"
           }
          ],
          "mesh3d": [
           {
            "colorbar": {
             "outlinewidth": 0,
             "ticks": ""
            },
            "type": "mesh3d"
           }
          ],
          "parcoords": [
           {
            "line": {
             "colorbar": {
              "outlinewidth": 0,
              "ticks": ""
             }
            },
            "type": "parcoords"
           }
          ],
          "pie": [
           {
            "automargin": true,
            "type": "pie"
           }
          ],
          "scatter": [
           {
            "fillpattern": {
             "fillmode": "overlay",
             "size": 10,
             "solidity": 0.2
            },
            "type": "scatter"
           }
          ],
          "scatter3d": [
           {
            "line": {
             "colorbar": {
              "outlinewidth": 0,
              "ticks": ""
             }
            },
            "marker": {
             "colorbar": {
              "outlinewidth": 0,
              "ticks": ""
             }
            },
            "type": "scatter3d"
           }
          ],
          "scattercarpet": [
           {
            "marker": {
             "colorbar": {
              "outlinewidth": 0,
              "ticks": ""
             }
            },
            "type": "scattercarpet"
           }
          ],
          "scattergeo": [
           {
            "marker": {
             "colorbar": {
              "outlinewidth": 0,
              "ticks": ""
             }
            },
            "type": "scattergeo"
           }
          ],
          "scattergl": [
           {
            "marker": {
             "colorbar": {
              "outlinewidth": 0,
              "ticks": ""
             }
            },
            "type": "scattergl"
           }
          ],
          "scattermapbox": [
           {
            "marker": {
             "colorbar": {
              "outlinewidth": 0,
              "ticks": ""
             }
            },
            "type": "scattermapbox"
           }
          ],
          "scatterpolar": [
           {
            "marker": {
             "colorbar": {
              "outlinewidth": 0,
              "ticks": ""
             }
            },
            "type": "scatterpolar"
           }
          ],
          "scatterpolargl": [
           {
            "marker": {
             "colorbar": {
              "outlinewidth": 0,
              "ticks": ""
             }
            },
            "type": "scatterpolargl"
           }
          ],
          "scatterternary": [
           {
            "marker": {
             "colorbar": {
              "outlinewidth": 0,
              "ticks": ""
             }
            },
            "type": "scatterternary"
           }
          ],
          "surface": [
           {
            "colorbar": {
             "outlinewidth": 0,
             "ticks": ""
            },
            "colorscale": [
             [
              0,
              "#0d0887"
             ],
             [
              0.1111111111111111,
              "#46039f"
             ],
             [
              0.2222222222222222,
              "#7201a8"
             ],
             [
              0.3333333333333333,
              "#9c179e"
             ],
             [
              0.4444444444444444,
              "#bd3786"
             ],
             [
              0.5555555555555556,
              "#d8576b"
             ],
             [
              0.6666666666666666,
              "#ed7953"
             ],
             [
              0.7777777777777778,
              "#fb9f3a"
             ],
             [
              0.8888888888888888,
              "#fdca26"
             ],
             [
              1,
              "#f0f921"
             ]
            ],
            "type": "surface"
           }
          ],
          "table": [
           {
            "cells": {
             "fill": {
              "color": "#EBF0F8"
             },
             "line": {
              "color": "white"
             }
            },
            "header": {
             "fill": {
              "color": "#C8D4E3"
             },
             "line": {
              "color": "white"
             }
            },
            "type": "table"
           }
          ]
         },
         "layout": {
          "annotationdefaults": {
           "arrowcolor": "#2a3f5f",
           "arrowhead": 0,
           "arrowwidth": 1
          },
          "autotypenumbers": "strict",
          "coloraxis": {
           "colorbar": {
            "outlinewidth": 0,
            "ticks": ""
           }
          },
          "colorscale": {
           "diverging": [
            [
             0,
             "#8e0152"
            ],
            [
             0.1,
             "#c51b7d"
            ],
            [
             0.2,
             "#de77ae"
            ],
            [
             0.3,
             "#f1b6da"
            ],
            [
             0.4,
             "#fde0ef"
            ],
            [
             0.5,
             "#f7f7f7"
            ],
            [
             0.6,
             "#e6f5d0"
            ],
            [
             0.7,
             "#b8e186"
            ],
            [
             0.8,
             "#7fbc41"
            ],
            [
             0.9,
             "#4d9221"
            ],
            [
             1,
             "#276419"
            ]
           ],
           "sequential": [
            [
             0,
             "#0d0887"
            ],
            [
             0.1111111111111111,
             "#46039f"
            ],
            [
             0.2222222222222222,
             "#7201a8"
            ],
            [
             0.3333333333333333,
             "#9c179e"
            ],
            [
             0.4444444444444444,
             "#bd3786"
            ],
            [
             0.5555555555555556,
             "#d8576b"
            ],
            [
             0.6666666666666666,
             "#ed7953"
            ],
            [
             0.7777777777777778,
             "#fb9f3a"
            ],
            [
             0.8888888888888888,
             "#fdca26"
            ],
            [
             1,
             "#f0f921"
            ]
           ],
           "sequentialminus": [
            [
             0,
             "#0d0887"
            ],
            [
             0.1111111111111111,
             "#46039f"
            ],
            [
             0.2222222222222222,
             "#7201a8"
            ],
            [
             0.3333333333333333,
             "#9c179e"
            ],
            [
             0.4444444444444444,
             "#bd3786"
            ],
            [
             0.5555555555555556,
             "#d8576b"
            ],
            [
             0.6666666666666666,
             "#ed7953"
            ],
            [
             0.7777777777777778,
             "#fb9f3a"
            ],
            [
             0.8888888888888888,
             "#fdca26"
            ],
            [
             1,
             "#f0f921"
            ]
           ]
          },
          "colorway": [
           "#636efa",
           "#EF553B",
           "#00cc96",
           "#ab63fa",
           "#FFA15A",
           "#19d3f3",
           "#FF6692",
           "#B6E880",
           "#FF97FF",
           "#FECB52"
          ],
          "font": {
           "color": "#2a3f5f"
          },
          "geo": {
           "bgcolor": "white",
           "lakecolor": "white",
           "landcolor": "#E5ECF6",
           "showlakes": true,
           "showland": true,
           "subunitcolor": "white"
          },
          "hoverlabel": {
           "align": "left"
          },
          "hovermode": "closest",
          "mapbox": {
           "style": "light"
          },
          "paper_bgcolor": "white",
          "plot_bgcolor": "#E5ECF6",
          "polar": {
           "angularaxis": {
            "gridcolor": "white",
            "linecolor": "white",
            "ticks": ""
           },
           "bgcolor": "#E5ECF6",
           "radialaxis": {
            "gridcolor": "white",
            "linecolor": "white",
            "ticks": ""
           }
          },
          "scene": {
           "xaxis": {
            "backgroundcolor": "#E5ECF6",
            "gridcolor": "white",
            "gridwidth": 2,
            "linecolor": "white",
            "showbackground": true,
            "ticks": "",
            "zerolinecolor": "white"
           },
           "yaxis": {
            "backgroundcolor": "#E5ECF6",
            "gridcolor": "white",
            "gridwidth": 2,
            "linecolor": "white",
            "showbackground": true,
            "ticks": "",
            "zerolinecolor": "white"
           },
           "zaxis": {
            "backgroundcolor": "#E5ECF6",
            "gridcolor": "white",
            "gridwidth": 2,
            "linecolor": "white",
            "showbackground": true,
            "ticks": "",
            "zerolinecolor": "white"
           }
          },
          "shapedefaults": {
           "line": {
            "color": "#2a3f5f"
           }
          },
          "ternary": {
           "aaxis": {
            "gridcolor": "white",
            "linecolor": "white",
            "ticks": ""
           },
           "baxis": {
            "gridcolor": "white",
            "linecolor": "white",
            "ticks": ""
           },
           "bgcolor": "#E5ECF6",
           "caxis": {
            "gridcolor": "white",
            "linecolor": "white",
            "ticks": ""
           }
          },
          "title": {
           "x": 0.05
          },
          "xaxis": {
           "automargin": true,
           "gridcolor": "white",
           "linecolor": "white",
           "ticks": "",
           "title": {
            "standoff": 15
           },
           "zerolinecolor": "white",
           "zerolinewidth": 2
          },
          "yaxis": {
           "automargin": true,
           "gridcolor": "white",
           "linecolor": "white",
           "ticks": "",
           "title": {
            "standoff": 15
           },
           "zerolinecolor": "white",
           "zerolinewidth": 2
          }
         }
        },
        "title": {
         "text": "Test"
        },
        "xaxis": {
         "anchor": "y",
         "domain": [
          0,
          0.94
         ],
         "tickmode": "array",
         "title": {
          "text": "Year"
         }
        },
        "yaxis": {
         "anchor": "x",
         "domain": [
          0,
          1
         ],
         "title": {
          "text": "<b>mean_Artistic Gymnastics_athlete_age</b>"
         }
        },
        "yaxis2": {
         "anchor": "x",
         "overlaying": "y",
         "side": "right",
         "title": {
          "text": "<b>CO2_emisions</b>"
         }
        }
       }
      }
     },
     "metadata": {},
     "output_type": "display_data"
    }
   ],
   "source": [
    "create_dual_axis_chart(summer_olympics, 'mean_Artistic Gymnastics_athlete_age', 'CO2_emisions', title = \"Test\", start_year=1992, end_year=2020)"
   ]
  },
  {
   "cell_type": "code",
   "execution_count": 212,
   "metadata": {},
   "outputs": [
    {
     "data": {
      "application/vnd.plotly.v1+json": {
       "config": {
        "plotlyServerURL": "https://plot.ly"
       },
       "data": [
        {
         "connectgaps": true,
         "mode": "lines+markers",
         "name": "total_The Bahamas",
         "type": "scatter",
         "x": [
          1992,
          1996,
          2000,
          2004,
          2008,
          2012,
          2016,
          2020
         ],
         "xaxis": "x",
         "y": [
          1,
          1,
          3,
          2,
          2,
          1,
          2,
          2
         ],
         "yaxis": "y"
        },
        {
         "connectgaps": true,
         "mode": "lines+markers",
         "name": "athlete_birthdays_during_event",
         "type": "scatter",
         "x": [
          1992,
          1996,
          2000,
          2004,
          2008,
          2012,
          2016,
          2020
         ],
         "xaxis": "x",
         "y": [
          32,
          69,
          207,
          199,
          197,
          26,
          201,
          76
         ],
         "yaxis": "y2"
        }
       ],
       "layout": {
        "template": {
         "data": {
          "bar": [
           {
            "error_x": {
             "color": "#2a3f5f"
            },
            "error_y": {
             "color": "#2a3f5f"
            },
            "marker": {
             "line": {
              "color": "#E5ECF6",
              "width": 0.5
             },
             "pattern": {
              "fillmode": "overlay",
              "size": 10,
              "solidity": 0.2
             }
            },
            "type": "bar"
           }
          ],
          "barpolar": [
           {
            "marker": {
             "line": {
              "color": "#E5ECF6",
              "width": 0.5
             },
             "pattern": {
              "fillmode": "overlay",
              "size": 10,
              "solidity": 0.2
             }
            },
            "type": "barpolar"
           }
          ],
          "carpet": [
           {
            "aaxis": {
             "endlinecolor": "#2a3f5f",
             "gridcolor": "white",
             "linecolor": "white",
             "minorgridcolor": "white",
             "startlinecolor": "#2a3f5f"
            },
            "baxis": {
             "endlinecolor": "#2a3f5f",
             "gridcolor": "white",
             "linecolor": "white",
             "minorgridcolor": "white",
             "startlinecolor": "#2a3f5f"
            },
            "type": "carpet"
           }
          ],
          "choropleth": [
           {
            "colorbar": {
             "outlinewidth": 0,
             "ticks": ""
            },
            "type": "choropleth"
           }
          ],
          "contour": [
           {
            "colorbar": {
             "outlinewidth": 0,
             "ticks": ""
            },
            "colorscale": [
             [
              0,
              "#0d0887"
             ],
             [
              0.1111111111111111,
              "#46039f"
             ],
             [
              0.2222222222222222,
              "#7201a8"
             ],
             [
              0.3333333333333333,
              "#9c179e"
             ],
             [
              0.4444444444444444,
              "#bd3786"
             ],
             [
              0.5555555555555556,
              "#d8576b"
             ],
             [
              0.6666666666666666,
              "#ed7953"
             ],
             [
              0.7777777777777778,
              "#fb9f3a"
             ],
             [
              0.8888888888888888,
              "#fdca26"
             ],
             [
              1,
              "#f0f921"
             ]
            ],
            "type": "contour"
           }
          ],
          "contourcarpet": [
           {
            "colorbar": {
             "outlinewidth": 0,
             "ticks": ""
            },
            "type": "contourcarpet"
           }
          ],
          "heatmap": [
           {
            "colorbar": {
             "outlinewidth": 0,
             "ticks": ""
            },
            "colorscale": [
             [
              0,
              "#0d0887"
             ],
             [
              0.1111111111111111,
              "#46039f"
             ],
             [
              0.2222222222222222,
              "#7201a8"
             ],
             [
              0.3333333333333333,
              "#9c179e"
             ],
             [
              0.4444444444444444,
              "#bd3786"
             ],
             [
              0.5555555555555556,
              "#d8576b"
             ],
             [
              0.6666666666666666,
              "#ed7953"
             ],
             [
              0.7777777777777778,
              "#fb9f3a"
             ],
             [
              0.8888888888888888,
              "#fdca26"
             ],
             [
              1,
              "#f0f921"
             ]
            ],
            "type": "heatmap"
           }
          ],
          "heatmapgl": [
           {
            "colorbar": {
             "outlinewidth": 0,
             "ticks": ""
            },
            "colorscale": [
             [
              0,
              "#0d0887"
             ],
             [
              0.1111111111111111,
              "#46039f"
             ],
             [
              0.2222222222222222,
              "#7201a8"
             ],
             [
              0.3333333333333333,
              "#9c179e"
             ],
             [
              0.4444444444444444,
              "#bd3786"
             ],
             [
              0.5555555555555556,
              "#d8576b"
             ],
             [
              0.6666666666666666,
              "#ed7953"
             ],
             [
              0.7777777777777778,
              "#fb9f3a"
             ],
             [
              0.8888888888888888,
              "#fdca26"
             ],
             [
              1,
              "#f0f921"
             ]
            ],
            "type": "heatmapgl"
           }
          ],
          "histogram": [
           {
            "marker": {
             "pattern": {
              "fillmode": "overlay",
              "size": 10,
              "solidity": 0.2
             }
            },
            "type": "histogram"
           }
          ],
          "histogram2d": [
           {
            "colorbar": {
             "outlinewidth": 0,
             "ticks": ""
            },
            "colorscale": [
             [
              0,
              "#0d0887"
             ],
             [
              0.1111111111111111,
              "#46039f"
             ],
             [
              0.2222222222222222,
              "#7201a8"
             ],
             [
              0.3333333333333333,
              "#9c179e"
             ],
             [
              0.4444444444444444,
              "#bd3786"
             ],
             [
              0.5555555555555556,
              "#d8576b"
             ],
             [
              0.6666666666666666,
              "#ed7953"
             ],
             [
              0.7777777777777778,
              "#fb9f3a"
             ],
             [
              0.8888888888888888,
              "#fdca26"
             ],
             [
              1,
              "#f0f921"
             ]
            ],
            "type": "histogram2d"
           }
          ],
          "histogram2dcontour": [
           {
            "colorbar": {
             "outlinewidth": 0,
             "ticks": ""
            },
            "colorscale": [
             [
              0,
              "#0d0887"
             ],
             [
              0.1111111111111111,
              "#46039f"
             ],
             [
              0.2222222222222222,
              "#7201a8"
             ],
             [
              0.3333333333333333,
              "#9c179e"
             ],
             [
              0.4444444444444444,
              "#bd3786"
             ],
             [
              0.5555555555555556,
              "#d8576b"
             ],
             [
              0.6666666666666666,
              "#ed7953"
             ],
             [
              0.7777777777777778,
              "#fb9f3a"
             ],
             [
              0.8888888888888888,
              "#fdca26"
             ],
             [
              1,
              "#f0f921"
             ]
            ],
            "type": "histogram2dcontour"
           }
          ],
          "mesh3d": [
           {
            "colorbar": {
             "outlinewidth": 0,
             "ticks": ""
            },
            "type": "mesh3d"
           }
          ],
          "parcoords": [
           {
            "line": {
             "colorbar": {
              "outlinewidth": 0,
              "ticks": ""
             }
            },
            "type": "parcoords"
           }
          ],
          "pie": [
           {
            "automargin": true,
            "type": "pie"
           }
          ],
          "scatter": [
           {
            "fillpattern": {
             "fillmode": "overlay",
             "size": 10,
             "solidity": 0.2
            },
            "type": "scatter"
           }
          ],
          "scatter3d": [
           {
            "line": {
             "colorbar": {
              "outlinewidth": 0,
              "ticks": ""
             }
            },
            "marker": {
             "colorbar": {
              "outlinewidth": 0,
              "ticks": ""
             }
            },
            "type": "scatter3d"
           }
          ],
          "scattercarpet": [
           {
            "marker": {
             "colorbar": {
              "outlinewidth": 0,
              "ticks": ""
             }
            },
            "type": "scattercarpet"
           }
          ],
          "scattergeo": [
           {
            "marker": {
             "colorbar": {
              "outlinewidth": 0,
              "ticks": ""
             }
            },
            "type": "scattergeo"
           }
          ],
          "scattergl": [
           {
            "marker": {
             "colorbar": {
              "outlinewidth": 0,
              "ticks": ""
             }
            },
            "type": "scattergl"
           }
          ],
          "scattermapbox": [
           {
            "marker": {
             "colorbar": {
              "outlinewidth": 0,
              "ticks": ""
             }
            },
            "type": "scattermapbox"
           }
          ],
          "scatterpolar": [
           {
            "marker": {
             "colorbar": {
              "outlinewidth": 0,
              "ticks": ""
             }
            },
            "type": "scatterpolar"
           }
          ],
          "scatterpolargl": [
           {
            "marker": {
             "colorbar": {
              "outlinewidth": 0,
              "ticks": ""
             }
            },
            "type": "scatterpolargl"
           }
          ],
          "scatterternary": [
           {
            "marker": {
             "colorbar": {
              "outlinewidth": 0,
              "ticks": ""
             }
            },
            "type": "scatterternary"
           }
          ],
          "surface": [
           {
            "colorbar": {
             "outlinewidth": 0,
             "ticks": ""
            },
            "colorscale": [
             [
              0,
              "#0d0887"
             ],
             [
              0.1111111111111111,
              "#46039f"
             ],
             [
              0.2222222222222222,
              "#7201a8"
             ],
             [
              0.3333333333333333,
              "#9c179e"
             ],
             [
              0.4444444444444444,
              "#bd3786"
             ],
             [
              0.5555555555555556,
              "#d8576b"
             ],
             [
              0.6666666666666666,
              "#ed7953"
             ],
             [
              0.7777777777777778,
              "#fb9f3a"
             ],
             [
              0.8888888888888888,
              "#fdca26"
             ],
             [
              1,
              "#f0f921"
             ]
            ],
            "type": "surface"
           }
          ],
          "table": [
           {
            "cells": {
             "fill": {
              "color": "#EBF0F8"
             },
             "line": {
              "color": "white"
             }
            },
            "header": {
             "fill": {
              "color": "#C8D4E3"
             },
             "line": {
              "color": "white"
             }
            },
            "type": "table"
           }
          ]
         },
         "layout": {
          "annotationdefaults": {
           "arrowcolor": "#2a3f5f",
           "arrowhead": 0,
           "arrowwidth": 1
          },
          "autotypenumbers": "strict",
          "coloraxis": {
           "colorbar": {
            "outlinewidth": 0,
            "ticks": ""
           }
          },
          "colorscale": {
           "diverging": [
            [
             0,
             "#8e0152"
            ],
            [
             0.1,
             "#c51b7d"
            ],
            [
             0.2,
             "#de77ae"
            ],
            [
             0.3,
             "#f1b6da"
            ],
            [
             0.4,
             "#fde0ef"
            ],
            [
             0.5,
             "#f7f7f7"
            ],
            [
             0.6,
             "#e6f5d0"
            ],
            [
             0.7,
             "#b8e186"
            ],
            [
             0.8,
             "#7fbc41"
            ],
            [
             0.9,
             "#4d9221"
            ],
            [
             1,
             "#276419"
            ]
           ],
           "sequential": [
            [
             0,
             "#0d0887"
            ],
            [
             0.1111111111111111,
             "#46039f"
            ],
            [
             0.2222222222222222,
             "#7201a8"
            ],
            [
             0.3333333333333333,
             "#9c179e"
            ],
            [
             0.4444444444444444,
             "#bd3786"
            ],
            [
             0.5555555555555556,
             "#d8576b"
            ],
            [
             0.6666666666666666,
             "#ed7953"
            ],
            [
             0.7777777777777778,
             "#fb9f3a"
            ],
            [
             0.8888888888888888,
             "#fdca26"
            ],
            [
             1,
             "#f0f921"
            ]
           ],
           "sequentialminus": [
            [
             0,
             "#0d0887"
            ],
            [
             0.1111111111111111,
             "#46039f"
            ],
            [
             0.2222222222222222,
             "#7201a8"
            ],
            [
             0.3333333333333333,
             "#9c179e"
            ],
            [
             0.4444444444444444,
             "#bd3786"
            ],
            [
             0.5555555555555556,
             "#d8576b"
            ],
            [
             0.6666666666666666,
             "#ed7953"
            ],
            [
             0.7777777777777778,
             "#fb9f3a"
            ],
            [
             0.8888888888888888,
             "#fdca26"
            ],
            [
             1,
             "#f0f921"
            ]
           ]
          },
          "colorway": [
           "#636efa",
           "#EF553B",
           "#00cc96",
           "#ab63fa",
           "#FFA15A",
           "#19d3f3",
           "#FF6692",
           "#B6E880",
           "#FF97FF",
           "#FECB52"
          ],
          "font": {
           "color": "#2a3f5f"
          },
          "geo": {
           "bgcolor": "white",
           "lakecolor": "white",
           "landcolor": "#E5ECF6",
           "showlakes": true,
           "showland": true,
           "subunitcolor": "white"
          },
          "hoverlabel": {
           "align": "left"
          },
          "hovermode": "closest",
          "mapbox": {
           "style": "light"
          },
          "paper_bgcolor": "white",
          "plot_bgcolor": "#E5ECF6",
          "polar": {
           "angularaxis": {
            "gridcolor": "white",
            "linecolor": "white",
            "ticks": ""
           },
           "bgcolor": "#E5ECF6",
           "radialaxis": {
            "gridcolor": "white",
            "linecolor": "white",
            "ticks": ""
           }
          },
          "scene": {
           "xaxis": {
            "backgroundcolor": "#E5ECF6",
            "gridcolor": "white",
            "gridwidth": 2,
            "linecolor": "white",
            "showbackground": true,
            "ticks": "",
            "zerolinecolor": "white"
           },
           "yaxis": {
            "backgroundcolor": "#E5ECF6",
            "gridcolor": "white",
            "gridwidth": 2,
            "linecolor": "white",
            "showbackground": true,
            "ticks": "",
            "zerolinecolor": "white"
           },
           "zaxis": {
            "backgroundcolor": "#E5ECF6",
            "gridcolor": "white",
            "gridwidth": 2,
            "linecolor": "white",
            "showbackground": true,
            "ticks": "",
            "zerolinecolor": "white"
           }
          },
          "shapedefaults": {
           "line": {
            "color": "#2a3f5f"
           }
          },
          "ternary": {
           "aaxis": {
            "gridcolor": "white",
            "linecolor": "white",
            "ticks": ""
           },
           "baxis": {
            "gridcolor": "white",
            "linecolor": "white",
            "ticks": ""
           },
           "bgcolor": "#E5ECF6",
           "caxis": {
            "gridcolor": "white",
            "linecolor": "white",
            "ticks": ""
           }
          },
          "title": {
           "x": 0.05
          },
          "xaxis": {
           "automargin": true,
           "gridcolor": "white",
           "linecolor": "white",
           "ticks": "",
           "title": {
            "standoff": 15
           },
           "zerolinecolor": "white",
           "zerolinewidth": 2
          },
          "yaxis": {
           "automargin": true,
           "gridcolor": "white",
           "linecolor": "white",
           "ticks": "",
           "title": {
            "standoff": 15
           },
           "zerolinecolor": "white",
           "zerolinewidth": 2
          }
         }
        },
        "title": {
         "text": "Test"
        },
        "xaxis": {
         "anchor": "y",
         "domain": [
          0,
          0.94
         ],
         "tickmode": "array",
         "title": {
          "text": "Year"
         }
        },
        "yaxis": {
         "anchor": "x",
         "domain": [
          0,
          1
         ],
         "title": {
          "text": "<b>total_The Bahamas</b>"
         }
        },
        "yaxis2": {
         "anchor": "x",
         "overlaying": "y",
         "side": "right",
         "title": {
          "text": "<b>athlete_birthdays_during_event</b>"
         }
        }
       }
      }
     },
     "metadata": {},
     "output_type": "display_data"
    }
   ],
   "source": [
    "create_dual_axis_chart(summer_olympics, 'total_The Bahamas', 'athlete_birthdays_during_event', title = \"Test\", start_year=1992, end_year=2020)"
   ]
  }
 ],
 "metadata": {
  "kernelspec": {
   "display_name": "nlp",
   "language": "python",
   "name": "python3"
  },
  "language_info": {
   "codemirror_mode": {
    "name": "ipython",
    "version": 3
   },
   "file_extension": ".py",
   "mimetype": "text/x-python",
   "name": "python",
   "nbconvert_exporter": "python",
   "pygments_lexer": "ipython3",
   "version": "3.10.13"
  }
 },
 "nbformat": 4,
 "nbformat_minor": 2
}
